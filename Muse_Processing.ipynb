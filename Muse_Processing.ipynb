{
  "cells": [
    {
      "cell_type": "markdown",
      "metadata": {
        "colab_type": "text",
        "id": "view-in-github"
      },
      "source": [
        "<a href=\"https://colab.research.google.com/github/travelmail26/muselseep/blob/main/Muse_Processing.ipynb\" target=\"_parent\"><img src=\"https://colab.research.google.com/assets/colab-badge.svg\" alt=\"Open In Colab\"/></a>"
      ]
    },
    {
      "cell_type": "markdown",
      "metadata": {
        "id": "roE6nqPD7o24"
      },
      "source": [
        "#sra section"
      ]
    },
    {
      "cell_type": "code",
      "execution_count": null,
      "metadata": {
        "colab": {
          "base_uri": "https://localhost:8080/",
          "height": 933
        },
        "id": "6BnBgF2_QYFf",
        "outputId": "0b8676bb-241d-4180-e2c2-4dcbebf19fb6"
      },
      "outputs": [
        {
          "name": "stdout",
          "output_type": "stream",
          "text": [
            "Looking in indexes: https://pypi.org/simple, https://us-python.pkg.dev/colab-wheels/public/simple/\n",
            "Requirement already satisfied: mne in /usr/local/lib/python3.9/dist-packages (1.3.1)\n",
            "Requirement already satisfied: decorator in /usr/local/lib/python3.9/dist-packages (from mne) (4.4.2)\n",
            "Requirement already satisfied: pooch>=1.5 in /usr/local/lib/python3.9/dist-packages (from mne) (1.6.0)\n",
            "Requirement already satisfied: numpy>=1.15.4 in /usr/local/lib/python3.9/dist-packages (from mne) (1.22.4)\n",
            "Requirement already satisfied: packaging in /usr/local/lib/python3.9/dist-packages (from mne) (23.1)\n",
            "Requirement already satisfied: jinja2 in /usr/local/lib/python3.9/dist-packages (from mne) (3.1.2)\n",
            "Requirement already satisfied: scipy>=1.1.0 in /usr/local/lib/python3.9/dist-packages (from mne) (1.10.1)\n",
            "Requirement already satisfied: matplotlib in /usr/local/lib/python3.9/dist-packages (from mne) (3.7.1)\n",
            "Requirement already satisfied: tqdm in /usr/local/lib/python3.9/dist-packages (from mne) (4.65.0)\n",
            "Requirement already satisfied: appdirs>=1.3.0 in /usr/local/lib/python3.9/dist-packages (from pooch>=1.5->mne) (1.4.4)\n",
            "Requirement already satisfied: requests>=2.19.0 in /usr/local/lib/python3.9/dist-packages (from pooch>=1.5->mne) (2.27.1)\n",
            "Requirement already satisfied: MarkupSafe>=2.0 in /usr/local/lib/python3.9/dist-packages (from jinja2->mne) (2.1.2)\n",
            "Requirement already satisfied: pyparsing>=2.3.1 in /usr/local/lib/python3.9/dist-packages (from matplotlib->mne) (3.0.9)\n",
            "Requirement already satisfied: pillow>=6.2.0 in /usr/local/lib/python3.9/dist-packages (from matplotlib->mne) (8.4.0)\n",
            "Requirement already satisfied: cycler>=0.10 in /usr/local/lib/python3.9/dist-packages (from matplotlib->mne) (0.11.0)\n",
            "Requirement already satisfied: contourpy>=1.0.1 in /usr/local/lib/python3.9/dist-packages (from matplotlib->mne) (1.0.7)\n",
            "Requirement already satisfied: python-dateutil>=2.7 in /usr/local/lib/python3.9/dist-packages (from matplotlib->mne) (2.8.2)\n",
            "Requirement already satisfied: fonttools>=4.22.0 in /usr/local/lib/python3.9/dist-packages (from matplotlib->mne) (4.39.3)\n",
            "Requirement already satisfied: kiwisolver>=1.0.1 in /usr/local/lib/python3.9/dist-packages (from matplotlib->mne) (1.4.4)\n",
            "Requirement already satisfied: importlib-resources>=3.2.0 in /usr/local/lib/python3.9/dist-packages (from matplotlib->mne) (5.12.0)\n",
            "Requirement already satisfied: zipp>=3.1.0 in /usr/local/lib/python3.9/dist-packages (from importlib-resources>=3.2.0->matplotlib->mne) (3.15.0)\n",
            "Requirement already satisfied: six>=1.5 in /usr/local/lib/python3.9/dist-packages (from python-dateutil>=2.7->matplotlib->mne) (1.16.0)\n",
            "Requirement already satisfied: certifi>=2017.4.17 in /usr/local/lib/python3.9/dist-packages (from requests>=2.19.0->pooch>=1.5->mne) (2022.12.7)\n",
            "Requirement already satisfied: urllib3<1.27,>=1.21.1 in /usr/local/lib/python3.9/dist-packages (from requests>=2.19.0->pooch>=1.5->mne) (1.26.15)\n",
            "Requirement already satisfied: charset-normalizer~=2.0.0 in /usr/local/lib/python3.9/dist-packages (from requests>=2.19.0->pooch>=1.5->mne) (2.0.12)\n",
            "Requirement already satisfied: idna<4,>=2.5 in /usr/local/lib/python3.9/dist-packages (from requests>=2.19.0->pooch>=1.5->mne) (3.4)\n"
          ]
        },
        {
          "ename": "FileNotFoundError",
          "evalue": "ignored",
          "output_type": "error",
          "traceback": [
            "\u001b[0;31m---------------------------------------------------------------------------\u001b[0m",
            "\u001b[0;31mFileNotFoundError\u001b[0m                         Traceback (most recent call last)",
            "\u001b[0;32m<ipython-input-4-253313d8071b>\u001b[0m in \u001b[0;36m<cell line: 7>\u001b[0;34m()\u001b[0m\n\u001b[1;32m      5\u001b[0m \u001b[0;31m#dataFile = pd.read_csv(\"/content/stimulant_mindMonitor_2023-01-18--14-37-14.csv\", skiprows=0, usecols=[*range(1,21)])\u001b[0m\u001b[0;34m\u001b[0m\u001b[0;34m\u001b[0m\u001b[0m\n\u001b[1;32m      6\u001b[0m \u001b[0;31m#url = 'https://www.dropbox.com/s/ttv6vxh3ys7q0ou/mindMonitor_2023-01-18--14-37-14.csv?dl=1'\u001b[0m\u001b[0;34m\u001b[0m\u001b[0;34m\u001b[0m\u001b[0m\n\u001b[0;32m----> 7\u001b[0;31m \u001b[0mdataFile\u001b[0m \u001b[0;34m=\u001b[0m \u001b[0mpd\u001b[0m\u001b[0;34m.\u001b[0m\u001b[0mread_csv\u001b[0m\u001b[0;34m(\u001b[0m\u001b[0;34m'/content/mindMonitor_2023-01-18--14-37-14.csv'\u001b[0m\u001b[0;34m,\u001b[0m \u001b[0mskiprows\u001b[0m\u001b[0;34m=\u001b[0m\u001b[0;36m0\u001b[0m\u001b[0;34m,\u001b[0m \u001b[0musecols\u001b[0m\u001b[0;34m=\u001b[0m\u001b[0;34m[\u001b[0m\u001b[0;34m*\u001b[0m\u001b[0mrange\u001b[0m\u001b[0;34m(\u001b[0m\u001b[0;36m1\u001b[0m\u001b[0;34m,\u001b[0m\u001b[0;36m21\u001b[0m\u001b[0;34m)\u001b[0m\u001b[0;34m]\u001b[0m\u001b[0;34m)\u001b[0m\u001b[0;34m\u001b[0m\u001b[0;34m\u001b[0m\u001b[0m\n\u001b[0m\u001b[1;32m      8\u001b[0m \u001b[0;34m\u001b[0m\u001b[0m\n\u001b[1;32m      9\u001b[0m \u001b[0;34m\u001b[0m\u001b[0m\n",
            "\u001b[0;32m/usr/local/lib/python3.9/dist-packages/pandas/util/_decorators.py\u001b[0m in \u001b[0;36mwrapper\u001b[0;34m(*args, **kwargs)\u001b[0m\n\u001b[1;32m    209\u001b[0m                 \u001b[0;32melse\u001b[0m\u001b[0;34m:\u001b[0m\u001b[0;34m\u001b[0m\u001b[0;34m\u001b[0m\u001b[0m\n\u001b[1;32m    210\u001b[0m                     \u001b[0mkwargs\u001b[0m\u001b[0;34m[\u001b[0m\u001b[0mnew_arg_name\u001b[0m\u001b[0;34m]\u001b[0m \u001b[0;34m=\u001b[0m \u001b[0mnew_arg_value\u001b[0m\u001b[0;34m\u001b[0m\u001b[0;34m\u001b[0m\u001b[0m\n\u001b[0;32m--> 211\u001b[0;31m             \u001b[0;32mreturn\u001b[0m \u001b[0mfunc\u001b[0m\u001b[0;34m(\u001b[0m\u001b[0;34m*\u001b[0m\u001b[0margs\u001b[0m\u001b[0;34m,\u001b[0m \u001b[0;34m**\u001b[0m\u001b[0mkwargs\u001b[0m\u001b[0;34m)\u001b[0m\u001b[0;34m\u001b[0m\u001b[0;34m\u001b[0m\u001b[0m\n\u001b[0m\u001b[1;32m    212\u001b[0m \u001b[0;34m\u001b[0m\u001b[0m\n\u001b[1;32m    213\u001b[0m         \u001b[0;32mreturn\u001b[0m \u001b[0mcast\u001b[0m\u001b[0;34m(\u001b[0m\u001b[0mF\u001b[0m\u001b[0;34m,\u001b[0m \u001b[0mwrapper\u001b[0m\u001b[0;34m)\u001b[0m\u001b[0;34m\u001b[0m\u001b[0;34m\u001b[0m\u001b[0m\n",
            "\u001b[0;32m/usr/local/lib/python3.9/dist-packages/pandas/util/_decorators.py\u001b[0m in \u001b[0;36mwrapper\u001b[0;34m(*args, **kwargs)\u001b[0m\n\u001b[1;32m    329\u001b[0m                     \u001b[0mstacklevel\u001b[0m\u001b[0;34m=\u001b[0m\u001b[0mfind_stack_level\u001b[0m\u001b[0;34m(\u001b[0m\u001b[0;34m)\u001b[0m\u001b[0;34m,\u001b[0m\u001b[0;34m\u001b[0m\u001b[0;34m\u001b[0m\u001b[0m\n\u001b[1;32m    330\u001b[0m                 )\n\u001b[0;32m--> 331\u001b[0;31m             \u001b[0;32mreturn\u001b[0m \u001b[0mfunc\u001b[0m\u001b[0;34m(\u001b[0m\u001b[0;34m*\u001b[0m\u001b[0margs\u001b[0m\u001b[0;34m,\u001b[0m \u001b[0;34m**\u001b[0m\u001b[0mkwargs\u001b[0m\u001b[0;34m)\u001b[0m\u001b[0;34m\u001b[0m\u001b[0;34m\u001b[0m\u001b[0m\n\u001b[0m\u001b[1;32m    332\u001b[0m \u001b[0;34m\u001b[0m\u001b[0m\n\u001b[1;32m    333\u001b[0m         \u001b[0;31m# error: \"Callable[[VarArg(Any), KwArg(Any)], Any]\" has no\u001b[0m\u001b[0;34m\u001b[0m\u001b[0;34m\u001b[0m\u001b[0m\n",
            "\u001b[0;32m/usr/local/lib/python3.9/dist-packages/pandas/io/parsers/readers.py\u001b[0m in \u001b[0;36mread_csv\u001b[0;34m(filepath_or_buffer, sep, delimiter, header, names, index_col, usecols, squeeze, prefix, mangle_dupe_cols, dtype, engine, converters, true_values, false_values, skipinitialspace, skiprows, skipfooter, nrows, na_values, keep_default_na, na_filter, verbose, skip_blank_lines, parse_dates, infer_datetime_format, keep_date_col, date_parser, dayfirst, cache_dates, iterator, chunksize, compression, thousands, decimal, lineterminator, quotechar, quoting, doublequote, escapechar, comment, encoding, encoding_errors, dialect, error_bad_lines, warn_bad_lines, on_bad_lines, delim_whitespace, low_memory, memory_map, float_precision, storage_options)\u001b[0m\n\u001b[1;32m    948\u001b[0m     \u001b[0mkwds\u001b[0m\u001b[0;34m.\u001b[0m\u001b[0mupdate\u001b[0m\u001b[0;34m(\u001b[0m\u001b[0mkwds_defaults\u001b[0m\u001b[0;34m)\u001b[0m\u001b[0;34m\u001b[0m\u001b[0;34m\u001b[0m\u001b[0m\n\u001b[1;32m    949\u001b[0m \u001b[0;34m\u001b[0m\u001b[0m\n\u001b[0;32m--> 950\u001b[0;31m     \u001b[0;32mreturn\u001b[0m \u001b[0m_read\u001b[0m\u001b[0;34m(\u001b[0m\u001b[0mfilepath_or_buffer\u001b[0m\u001b[0;34m,\u001b[0m \u001b[0mkwds\u001b[0m\u001b[0;34m)\u001b[0m\u001b[0;34m\u001b[0m\u001b[0;34m\u001b[0m\u001b[0m\n\u001b[0m\u001b[1;32m    951\u001b[0m \u001b[0;34m\u001b[0m\u001b[0m\n\u001b[1;32m    952\u001b[0m \u001b[0;34m\u001b[0m\u001b[0m\n",
            "\u001b[0;32m/usr/local/lib/python3.9/dist-packages/pandas/io/parsers/readers.py\u001b[0m in \u001b[0;36m_read\u001b[0;34m(filepath_or_buffer, kwds)\u001b[0m\n\u001b[1;32m    603\u001b[0m \u001b[0;34m\u001b[0m\u001b[0m\n\u001b[1;32m    604\u001b[0m     \u001b[0;31m# Create the parser.\u001b[0m\u001b[0;34m\u001b[0m\u001b[0;34m\u001b[0m\u001b[0m\n\u001b[0;32m--> 605\u001b[0;31m     \u001b[0mparser\u001b[0m \u001b[0;34m=\u001b[0m \u001b[0mTextFileReader\u001b[0m\u001b[0;34m(\u001b[0m\u001b[0mfilepath_or_buffer\u001b[0m\u001b[0;34m,\u001b[0m \u001b[0;34m**\u001b[0m\u001b[0mkwds\u001b[0m\u001b[0;34m)\u001b[0m\u001b[0;34m\u001b[0m\u001b[0;34m\u001b[0m\u001b[0m\n\u001b[0m\u001b[1;32m    606\u001b[0m \u001b[0;34m\u001b[0m\u001b[0m\n\u001b[1;32m    607\u001b[0m     \u001b[0;32mif\u001b[0m \u001b[0mchunksize\u001b[0m \u001b[0;32mor\u001b[0m \u001b[0miterator\u001b[0m\u001b[0;34m:\u001b[0m\u001b[0;34m\u001b[0m\u001b[0;34m\u001b[0m\u001b[0m\n",
            "\u001b[0;32m/usr/local/lib/python3.9/dist-packages/pandas/io/parsers/readers.py\u001b[0m in \u001b[0;36m__init__\u001b[0;34m(self, f, engine, **kwds)\u001b[0m\n\u001b[1;32m   1440\u001b[0m \u001b[0;34m\u001b[0m\u001b[0m\n\u001b[1;32m   1441\u001b[0m         \u001b[0mself\u001b[0m\u001b[0;34m.\u001b[0m\u001b[0mhandles\u001b[0m\u001b[0;34m:\u001b[0m \u001b[0mIOHandles\u001b[0m \u001b[0;34m|\u001b[0m \u001b[0;32mNone\u001b[0m \u001b[0;34m=\u001b[0m \u001b[0;32mNone\u001b[0m\u001b[0;34m\u001b[0m\u001b[0;34m\u001b[0m\u001b[0m\n\u001b[0;32m-> 1442\u001b[0;31m         \u001b[0mself\u001b[0m\u001b[0;34m.\u001b[0m\u001b[0m_engine\u001b[0m \u001b[0;34m=\u001b[0m \u001b[0mself\u001b[0m\u001b[0;34m.\u001b[0m\u001b[0m_make_engine\u001b[0m\u001b[0;34m(\u001b[0m\u001b[0mf\u001b[0m\u001b[0;34m,\u001b[0m \u001b[0mself\u001b[0m\u001b[0;34m.\u001b[0m\u001b[0mengine\u001b[0m\u001b[0;34m)\u001b[0m\u001b[0;34m\u001b[0m\u001b[0;34m\u001b[0m\u001b[0m\n\u001b[0m\u001b[1;32m   1443\u001b[0m \u001b[0;34m\u001b[0m\u001b[0m\n\u001b[1;32m   1444\u001b[0m     \u001b[0;32mdef\u001b[0m \u001b[0mclose\u001b[0m\u001b[0;34m(\u001b[0m\u001b[0mself\u001b[0m\u001b[0;34m)\u001b[0m \u001b[0;34m->\u001b[0m \u001b[0;32mNone\u001b[0m\u001b[0;34m:\u001b[0m\u001b[0;34m\u001b[0m\u001b[0;34m\u001b[0m\u001b[0m\n",
            "\u001b[0;32m/usr/local/lib/python3.9/dist-packages/pandas/io/parsers/readers.py\u001b[0m in \u001b[0;36m_make_engine\u001b[0;34m(self, f, engine)\u001b[0m\n\u001b[1;32m   1733\u001b[0m                 \u001b[0;32mif\u001b[0m \u001b[0;34m\"b\"\u001b[0m \u001b[0;32mnot\u001b[0m \u001b[0;32min\u001b[0m \u001b[0mmode\u001b[0m\u001b[0;34m:\u001b[0m\u001b[0;34m\u001b[0m\u001b[0;34m\u001b[0m\u001b[0m\n\u001b[1;32m   1734\u001b[0m                     \u001b[0mmode\u001b[0m \u001b[0;34m+=\u001b[0m \u001b[0;34m\"b\"\u001b[0m\u001b[0;34m\u001b[0m\u001b[0;34m\u001b[0m\u001b[0m\n\u001b[0;32m-> 1735\u001b[0;31m             self.handles = get_handle(\n\u001b[0m\u001b[1;32m   1736\u001b[0m                 \u001b[0mf\u001b[0m\u001b[0;34m,\u001b[0m\u001b[0;34m\u001b[0m\u001b[0;34m\u001b[0m\u001b[0m\n\u001b[1;32m   1737\u001b[0m                 \u001b[0mmode\u001b[0m\u001b[0;34m,\u001b[0m\u001b[0;34m\u001b[0m\u001b[0;34m\u001b[0m\u001b[0m\n",
            "\u001b[0;32m/usr/local/lib/python3.9/dist-packages/pandas/io/common.py\u001b[0m in \u001b[0;36mget_handle\u001b[0;34m(path_or_buf, mode, encoding, compression, memory_map, is_text, errors, storage_options)\u001b[0m\n\u001b[1;32m    854\u001b[0m         \u001b[0;32mif\u001b[0m \u001b[0mioargs\u001b[0m\u001b[0;34m.\u001b[0m\u001b[0mencoding\u001b[0m \u001b[0;32mand\u001b[0m \u001b[0;34m\"b\"\u001b[0m \u001b[0;32mnot\u001b[0m \u001b[0;32min\u001b[0m \u001b[0mioargs\u001b[0m\u001b[0;34m.\u001b[0m\u001b[0mmode\u001b[0m\u001b[0;34m:\u001b[0m\u001b[0;34m\u001b[0m\u001b[0;34m\u001b[0m\u001b[0m\n\u001b[1;32m    855\u001b[0m             \u001b[0;31m# Encoding\u001b[0m\u001b[0;34m\u001b[0m\u001b[0;34m\u001b[0m\u001b[0m\n\u001b[0;32m--> 856\u001b[0;31m             handle = open(\n\u001b[0m\u001b[1;32m    857\u001b[0m                 \u001b[0mhandle\u001b[0m\u001b[0;34m,\u001b[0m\u001b[0;34m\u001b[0m\u001b[0;34m\u001b[0m\u001b[0m\n\u001b[1;32m    858\u001b[0m                 \u001b[0mioargs\u001b[0m\u001b[0;34m.\u001b[0m\u001b[0mmode\u001b[0m\u001b[0;34m,\u001b[0m\u001b[0;34m\u001b[0m\u001b[0;34m\u001b[0m\u001b[0m\n",
            "\u001b[0;31mFileNotFoundError\u001b[0m: [Errno 2] No such file or directory: '/content/mindMonitor_2023-01-18--14-37-14.csv'"
          ]
        }
      ],
      "source": [
        "!pip install mne\n",
        "import pandas as pd\n",
        "import mne\n",
        "\n",
        "#dataFile = pd.read_csv(\"/content/stimulant_mindMonitor_2023-01-18--14-37-14.csv\", skiprows=0, usecols=[*range(1,21)])\n",
        "#url = 'https://www.dropbox.com/s/ttv6vxh3ys7q0ou/mindMonitor_2023-01-18--14-37-14.csv?dl=1'\n",
        "dataFile = pd.read_csv('/content/mindMonitor_2023-01-18--14-37-14.csv', skiprows=0, usecols=[*range(1,21)])\n",
        "\n",
        "chanName = ['Delta_TP9','Delta_AF7','Delta_AF8','Delta_TP10','Theta_TP9','Theta_AF7','Theta_AF8','Theta_TP10','Alpha_TP9','Alpha_AF7','Alpha_AF8','Alpha_TP10','Beta_TP9','Beta_AF7','Beta_AF8','Beta_TP10','Gamma_TP9','Gamma_AF7','Gamma_AF8','Gamma_TP10']\n",
        "fs = 1\n",
        "info = mne.create_info(ch_names=chanName, sfreq=fs)\n",
        "dataFile = dataFile.transpose()\n",
        "rawData = mne.io.RawArray(dataFile,info)\n",
        "t = len(rawData.times)\n",
        "mne.set_config('MNE_BROWSE_RAW_SIZE','30,10')\n",
        "\n",
        "mne.viz.plot_raw(rawData, n_channels=4, duration=t, order=[0,1,2,3], color='darkblue', show_scrollbars=False, show_scalebars=False)\n",
        "mne.viz.plot_raw(rawData, n_channels=4, duration=t, order=[4,5,6,7], color='darkgreen', show_scrollbars=False, show_scalebars=False)\n",
        "mne.viz.plot_raw(rawData, n_channels=4, duration=t, order=[8,9,10,11], color='black', show_scrollbars=False, show_scalebars=False)\n",
        "mne.viz.plot_raw(rawData, n_channels=4, duration=t, order=[12,13,14,15], color='red', show_scrollbars=False, show_scalebars=False)\n",
        "mne.viz.plot_raw(rawData, n_channels=4, duration=t, order=[16,17,18,19], color='purple', show_scrollbars=False, show_scalebars=False)"
      ]
    },
    {
      "cell_type": "code",
      "execution_count": null,
      "metadata": {
        "id": "ioTqUmJJET0u"
      },
      "outputs": [],
      "source": [
        "import pandas as pd\n",
        "from tkinter import filedialog as fd\n",
        "\n",
        "# Second of the start of every session\n",
        "baseline = 0\n",
        "intervention = 115 #01:55\n",
        "pause = 230 #03:50\n",
        "eyesClosed = 255 #04:15\n",
        "viewResol = 348 #05:48\n",
        "eyesOpen = 425 #07:05\n",
        "finish = 501 #08:21\n",
        "\n",
        "# Var\n",
        "varTemp = [baseline,intervention,pause,eyesClosed,viewResol,eyesOpen,finish]\n",
        "varName = ['baseline','intervention','pause','eyesClosed','viewResol','eyesOpen','finish']\n",
        "\n",
        "var = pd.DataFrame(varTemp, columns=['Session'])\n",
        "\n",
        "#dataFile = pd.read_csv(\"/content/baseline_mindMonitor_2023-01-18--13-17-22.csv\")\n",
        "dataFile = pd.read_csv(\"/content/mindMonitor_2023-01-18--14-37-14.csv\", skiprows=0, usecols=[*range(1,21)])\n",
        "readData = pd.DataFrame(dataFile, columns=['Delta_TP9','Delta_AF7','Delta_AF8','Delta_TP10','Theta_TP9','Theta_AF7','Theta_AF8','Theta_TP10','Alpha_TP9','Alpha_AF7','Alpha_AF8','Alpha_TP10','Beta_TP9','Beta_AF7','Beta_AF8','Beta_TP10','Gamma_TP9','Gamma_AF7','Gamma_AF8','Gamma_TP10'])\n",
        "readTime = pd.read_csv(\"/content/mindMonitor_2023-01-18--14-37-14.csv\", skiprows=0, usecols=[0])\n",
        "\n",
        "dataMin = readData.min().min()\n",
        "dataMax = readData.max().max()\n",
        "normData = readData.copy()\n",
        "\n",
        "for col in normData.columns:\n",
        "    normData[col] = normData[col]-dataMin / dataMax-dataMin\n",
        "\n",
        "sumData = normData.sum(axis=0)\n",
        "\n",
        "# Time Stamp\n",
        "timeStamp = readTime.copy()\n",
        "time0 = readTime.loc[0].to_string(header=False,index=False)\n",
        "time0 = pd.Timestamp(time0)\n",
        "\n",
        "for row in range(1,len(readTime),1):\n",
        "    time1 = readTime.loc[row].to_string(header=False,index=False)\n",
        "    time1 = pd.Timestamp(time1)\n",
        "    timeStamp.loc[row] = pd.Timedelta(time1-time0).total_seconds()\n",
        "\n",
        "timeStamp.loc[0] = 0\n",
        "\n",
        "# Data analysis\n",
        "# --- getting the index of each session\n",
        "timeIndex = var.copy()\n",
        "for row in range(0,len(var)):\n",
        "    varTime = var.loc[row]['Session']\n",
        "    timeTemp = timeStamp.iloc[(timeStamp['TimeStamp']-varTime).abs().argsort()[:1]]\n",
        "    timeIndex.loc[row]['Session'] = timeTemp.index[0]\n",
        "\n",
        "# --- splitting the data based on the timeline index\n",
        "power = pd.DataFrame([], columns=['Delta_TP9','Delta_AF7','Delta_AF8','Delta_TP10','Theta_TP9','Theta_AF7','Theta_AF8','Theta_TP10','Alpha_TP9','Alpha_AF7','Alpha_AF8','Alpha_TP10','Beta_TP9','Beta_AF7','Beta_AF8','Beta_TP10','Gamma_TP9','Gamma_AF7','Gamma_AF8','Gamma_TP10'])\n",
        "power = power.transpose()\n",
        "for row in range(0,len(timeIndex)-1):\n",
        "    row0 = timeIndex.loc[row]['Session']\n",
        "    row1 = timeIndex.loc[row+1]['Session']\n",
        "    powTemp = normData.iloc[row0:row1].mean()\n",
        "    power.insert(row,varName[row],powTemp)\n",
        "\n",
        "powerT = power.transpose()\n",
        "\n",
        "# Graph\n",
        "ax = powerT.plot(y=['Delta_TP9','Delta_AF7','Delta_AF8','Delta_TP10'], kind='line', style='.-', title='Delta Band Difference among Channels')\n",
        "ax.set(ylabel='Averaged Power')\n",
        "ax = powerT.plot(y=['Theta_TP9','Theta_AF7','Theta_AF8','Theta_TP10'], kind='line', style='.-', title='Theta Band Difference among Channels')\n",
        "ax.set(ylabel='Averaged Power')\n",
        "ax = powerT.plot(y=['Alpha_TP9','Alpha_AF7','Alpha_AF8','Alpha_TP10'], kind='line', style='.-', title='Alpha Band Difference among Channels')\n",
        "ax.set(ylabel='Averaged Power')\n",
        "ax = powerT.plot(y=['Beta_TP9','Beta_AF7','Beta_AF8','Beta_TP10'], kind='line', style='.-', title='Beta Band Difference among Channels')\n",
        "ax.set(ylabel='Averaged Power')\n",
        "ax = powerT.plot(y=['Gamma_TP9','Gamma_AF7','Gamma_AF8','Gamma_TP10'], kind='line', style='.-', title='Gamma Band Difference among Channels')\n",
        "ax.set(ylabel='Averaged Power')"
      ]
    },
    {
      "cell_type": "code",
      "execution_count": null,
      "metadata": {
        "id": "5rlCsa-rcCKP"
      },
      "outputs": [],
      "source": []
    },
    {
      "cell_type": "code",
      "execution_count": null,
      "metadata": {
        "id": "dtOT5YrovWmg"
      },
      "outputs": [],
      "source": [
        "dataFile.head()"
      ]
    },
    {
      "cell_type": "code",
      "execution_count": null,
      "metadata": {
        "id": "deUVLNXG1TDA"
      },
      "outputs": [],
      "source": [
        "#@title\n",
        "import pandas as pd\n",
        "from tkinter import filedialog as fd\n",
        "\n",
        "# Second of the start of every session (Stimulant intervention)\n",
        "\n",
        "eyesClosed1 = 12 #00:12\n",
        "thinking = 70 #01:10\n",
        "eyesClosed2 = 77 #01:17\n",
        "intervention = 134 #02:14\n",
        "postTreatment = 237 #03:57 \n",
        "finish = 370 #06:10\n",
        "\n",
        "# Var\n",
        "varTemp = [eyesClosed1,thinking,eyesClosed2,intervention,postTreatment,finish]\n",
        "varName = ['eyesClosed1','thinking','eyesClosed2','intervention','postTreatment','finish']\n",
        "\n",
        "print ('vartemp table of numbers', varTemp)\n",
        "\n",
        "var = pd.DataFrame(varTemp, columns=['Session'])\n",
        "\n",
        "#dataFile = pd.read_csv(\"/content/stimulant_mindMonitor_2023-01-18--14-37-14.csv\")\n",
        "dataFile = pd.read_csv(\"/content/mindMonitor_2023-01-18--14-37-14.csv\", skiprows=0, usecols=[*range(1,21)])\n",
        "readData = pd.DataFrame(dataFile, columns=['Delta_TP9','Delta_AF7','Delta_AF8','Delta_TP10','Theta_TP9','Theta_AF7','Theta_AF8','Theta_TP10','Alpha_TP9','Alpha_AF7','Alpha_AF8','Alpha_TP10','Beta_TP9','Beta_AF7','Beta_AF8','Beta_TP10','Gamma_TP9','Gamma_AF7','Gamma_AF8','Gamma_TP10'])\n",
        "readTime = pd.read_csv(\"/content/mindMonitor_2023-01-18--14-37-14.csv\", skiprows=0, usecols=[0])\n",
        "\n",
        "dataMin = readData.min().min()\n",
        "dataMax = readData.max().max()\n",
        "normData = readData.copy()\n",
        "\n",
        "#normalize data columns by min and max\n",
        "for col in normData.columns:\n",
        "    normData[col] = normData[col]-dataMin / dataMax-dataMin\n",
        "\n",
        "sumData = normData.sum(axis=0)\n",
        "\n",
        "# Time Stamp\n",
        "timeStamp = readTime.copy()\n",
        "time0 = readTime.loc[0].to_string(header=False,index=False)\n",
        "time0 = pd.Timestamp(time0)\n",
        "\n",
        "print ('readTime', readTime, 'end readtime table**')\n",
        "\n",
        "print ('timestamp table', timeStamp)\n",
        "\n",
        "for row in range(1,len(readTime),1):\n",
        "    time1 = readTime.loc[row].to_string(header=False,index=False)\n",
        "    time1 = pd.Timestamp(time1)\n",
        "    timeStamp.loc[row] = pd.Timedelta(time1-time0).total_seconds()\n",
        "\n",
        "timeStamp.loc[0] = 0\n",
        "\n",
        "# Data analysis\n",
        "# --- getting the index of each session\n",
        "timeIndex = var.copy()\n",
        "print('time index', var.copy())\n",
        "\n",
        "for row in range(0,len(var)):\n",
        "    varTime = var.loc[row]['Session']\n",
        "    print ('var time in loop', varTime ) #loops over teach time event time period\n",
        "    timeTemp = timeStamp.iloc[(timeStamp['TimeStamp']-varTime).abs().argsort()[:1]]\n",
        "    print ('timetemp in loop', timeTemp, 'end timestamp**')\n",
        "    timeIndex.loc[row]['Session'] = timeTemp.index[0]\n",
        "\n",
        "# --- splitting the data based on the timeline index\n",
        "power = pd.DataFrame([], columns=['Delta_TP9','Delta_AF7','Delta_AF8','Delta_TP10','Theta_TP9','Theta_AF7','Theta_AF8','Theta_TP10','Alpha_TP9','Alpha_AF7','Alpha_AF8','Alpha_TP10','Beta_TP9','Beta_AF7','Beta_AF8','Beta_TP10','Gamma_TP9','Gamma_AF7','Gamma_AF8','Gamma_TP10'])\n",
        "power = power.transpose()\n",
        "for row in range(0,len(timeIndex)-1):\n",
        "    row0 = timeIndex.loc[row]['Session']\n",
        "    row1 = timeIndex.loc[row+1]['Session']\n",
        "    powTemp = normData.iloc[row0:row1].mean()\n",
        "    power.insert(row,varName[row],powTemp)\n",
        "\n",
        "powerT = power.transpose()\n",
        "\n",
        "# Graph\n",
        "ax = powerT.plot(y=['Delta_TP9','Delta_AF7','Delta_AF8','Delta_TP10'], kind='line', style='.-', title='Delta Band Difference among Channels')\n",
        "ax.set(ylabel='Averaged Power')\n",
        "ax = powerT.plot(y=['Theta_TP9','Theta_AF7','Theta_AF8','Theta_TP10'], kind='line', style='.-', title='Theta Band Difference among Channels')\n",
        "ax.set(ylabel='Averaged Power')\n",
        "ax = powerT.plot(y=['Alpha_TP9','Alpha_AF7','Alpha_AF8','Alpha_TP10'], kind='line', style='.-', title='Alpha Band Difference among Channels')\n",
        "ax.set(ylabel='Averaged Power')\n",
        "ax = powerT.plot(y=['Beta_TP9','Beta_AF7','Beta_AF8','Beta_TP10'], kind='line', style='.-', title='Beta Band Difference among Channels')\n",
        "ax.set(ylabel='Averaged Power')\n",
        "ax = powerT.plot(y=['Gamma_TP9','Gamma_AF7','Gamma_AF8','Gamma_TP10'], kind='line', style='.-', title='Gamma Band Difference among Channels')\n",
        "ax.set(ylabel='Averaged Power')"
      ]
    },
    {
      "cell_type": "markdown",
      "metadata": {
        "id": "3wD2hOhq5coj"
      },
      "source": [
        "#test edit in google colab"
      ]
    },
    {
      "cell_type": "markdown",
      "metadata": {
        "id": "YC8d-8WC7uKu"
      },
      "source": [
        "#greg section"
      ]
    },
    {
      "cell_type": "markdown",
      "metadata": {
        "id": "TnS7NTPIrQyY"
      },
      "source": [
        "equation for relative band power\n",
        "\n",
        "rel_waves[wave] = math.pow(10,abs_waves[wave]) / (math.pow(10,abs_waves[0]) + math.pow(10,abs_waves[1]) + math.pow(10,abs_waves[2]) + math.pow(10,abs_waves[3]) + math.pow(10,abs_waves[4]))\n",
        "\n",
        "alpha_relative = (10^alpha_absolute / (10^alpha_absolute + 10^beta_absolute + 10^delta_absolute + 10^gamma_absolute + 10^theta_absolute))\n",
        "\n",
        "https://mind-monitor.com/forums/viewtopic.php?p=3676&hilit=relative#p3676"
      ]
    },
    {
      "cell_type": "code",
      "execution_count": 2,
      "metadata": {
        "colab": {
          "base_uri": "https://localhost:8080/"
        },
        "id": "6CJwDS6n7xmN",
        "outputId": "64b848bf-f393-46de-d9b8-dbf7a260c446"
      },
      "outputs": [
        {
          "name": "stdout",
          "output_type": "stream",
          "text": [
            "Requirement already satisfied: mne in /usr/local/python/3.10.4/lib/python3.10/site-packages (1.4.0)\n",
            "Requirement already satisfied: numpy>=1.15.4 in /home/codespace/.local/lib/python3.10/site-packages (from mne) (1.24.3)\n",
            "Requirement already satisfied: scipy>=1.6.3 in /home/codespace/.local/lib/python3.10/site-packages (from mne) (1.10.1)\n",
            "Requirement already satisfied: matplotlib in /home/codespace/.local/lib/python3.10/site-packages (from mne) (3.7.1)\n",
            "Requirement already satisfied: tqdm in /usr/local/python/3.10.4/lib/python3.10/site-packages (from mne) (4.65.0)\n",
            "Requirement already satisfied: pooch>=1.5 in /usr/local/python/3.10.4/lib/python3.10/site-packages (from mne) (1.7.0)\n",
            "Requirement already satisfied: decorator in /home/codespace/.local/lib/python3.10/site-packages (from mne) (5.1.1)\n",
            "Requirement already satisfied: packaging in /home/codespace/.local/lib/python3.10/site-packages (from mne) (23.1)\n",
            "Requirement already satisfied: jinja2 in /home/codespace/.local/lib/python3.10/site-packages (from mne) (3.1.2)\n",
            "Requirement already satisfied: platformdirs>=2.5.0 in /home/codespace/.local/lib/python3.10/site-packages (from pooch>=1.5->mne) (3.3.0)\n",
            "Requirement already satisfied: requests>=2.19.0 in /home/codespace/.local/lib/python3.10/site-packages (from pooch>=1.5->mne) (2.28.2)\n",
            "Requirement already satisfied: MarkupSafe>=2.0 in /home/codespace/.local/lib/python3.10/site-packages (from jinja2->mne) (2.1.2)\n",
            "Requirement already satisfied: contourpy>=1.0.1 in /home/codespace/.local/lib/python3.10/site-packages (from matplotlib->mne) (1.0.7)\n",
            "Requirement already satisfied: cycler>=0.10 in /home/codespace/.local/lib/python3.10/site-packages (from matplotlib->mne) (0.11.0)\n",
            "Requirement already satisfied: fonttools>=4.22.0 in /home/codespace/.local/lib/python3.10/site-packages (from matplotlib->mne) (4.39.3)\n",
            "Requirement already satisfied: kiwisolver>=1.0.1 in /home/codespace/.local/lib/python3.10/site-packages (from matplotlib->mne) (1.4.4)\n",
            "Requirement already satisfied: pillow>=6.2.0 in /home/codespace/.local/lib/python3.10/site-packages (from matplotlib->mne) (9.5.0)\n",
            "Requirement already satisfied: pyparsing>=2.3.1 in /home/codespace/.local/lib/python3.10/site-packages (from matplotlib->mne) (3.0.9)\n",
            "Requirement already satisfied: python-dateutil>=2.7 in /home/codespace/.local/lib/python3.10/site-packages (from matplotlib->mne) (2.8.2)\n",
            "Requirement already satisfied: six>=1.5 in /home/codespace/.local/lib/python3.10/site-packages (from python-dateutil>=2.7->matplotlib->mne) (1.16.0)\n",
            "Requirement already satisfied: charset-normalizer<4,>=2 in /home/codespace/.local/lib/python3.10/site-packages (from requests>=2.19.0->pooch>=1.5->mne) (3.1.0)\n",
            "Requirement already satisfied: idna<4,>=2.5 in /home/codespace/.local/lib/python3.10/site-packages (from requests>=2.19.0->pooch>=1.5->mne) (3.4)\n",
            "Requirement already satisfied: urllib3<1.27,>=1.21.1 in /home/codespace/.local/lib/python3.10/site-packages (from requests>=2.19.0->pooch>=1.5->mne) (1.26.15)\n",
            "Requirement already satisfied: certifi>=2017.4.17 in /home/codespace/.local/lib/python3.10/site-packages (from requests>=2.19.0->pooch>=1.5->mne) (2022.12.7)\n",
            "\n",
            "\u001b[1m[\u001b[0m\u001b[34;49mnotice\u001b[0m\u001b[1;39;49m]\u001b[0m\u001b[39;49m A new release of pip is available: \u001b[0m\u001b[31;49m23.1.1\u001b[0m\u001b[39;49m -> \u001b[0m\u001b[32;49m23.1.2\u001b[0m\n",
            "\u001b[1m[\u001b[0m\u001b[34;49mnotice\u001b[0m\u001b[1;39;49m]\u001b[0m\u001b[39;49m To update, run: \u001b[0m\u001b[32;49mpython -m pip install --upgrade pip\u001b[0m\n",
            "Requirement already satisfied: yasa in /usr/local/python/3.10.4/lib/python3.10/site-packages (0.6.3)\n",
            "Requirement already satisfied: numpy>=1.16.5 in /home/codespace/.local/lib/python3.10/site-packages (from yasa) (1.24.3)\n",
            "Requirement already satisfied: scipy in /home/codespace/.local/lib/python3.10/site-packages (from yasa) (1.10.1)\n",
            "Requirement already satisfied: pandas in /home/codespace/.local/lib/python3.10/site-packages (from yasa) (2.0.1)\n",
            "Requirement already satisfied: matplotlib in /home/codespace/.local/lib/python3.10/site-packages (from yasa) (3.7.1)\n",
            "Requirement already satisfied: seaborn in /home/codespace/.local/lib/python3.10/site-packages (from yasa) (0.12.2)\n",
            "Requirement already satisfied: mne>=0.23 in /usr/local/python/3.10.4/lib/python3.10/site-packages (from yasa) (1.4.0)\n",
            "Requirement already satisfied: numba in /usr/local/python/3.10.4/lib/python3.10/site-packages (from yasa) (0.57.0)\n",
            "Requirement already satisfied: outdated in /usr/local/python/3.10.4/lib/python3.10/site-packages (from yasa) (0.2.2)\n",
            "Requirement already satisfied: antropy in /usr/local/python/3.10.4/lib/python3.10/site-packages (from yasa) (0.1.5)\n",
            "Requirement already satisfied: scikit-learn in /home/codespace/.local/lib/python3.10/site-packages (from yasa) (1.2.2)\n",
            "Requirement already satisfied: tensorpac>=0.6.5 in /usr/local/python/3.10.4/lib/python3.10/site-packages (from yasa) (0.6.5)\n",
            "Requirement already satisfied: pyriemann>=0.2.7 in /usr/local/python/3.10.4/lib/python3.10/site-packages (from yasa) (0.4)\n",
            "Requirement already satisfied: sleepecg>=0.5.0 in /usr/local/python/3.10.4/lib/python3.10/site-packages (from yasa) (0.5.4)\n",
            "Requirement already satisfied: lspopt in /usr/local/python/3.10.4/lib/python3.10/site-packages (from yasa) (1.3.0)\n",
            "Requirement already satisfied: ipywidgets in /usr/local/python/3.10.4/lib/python3.10/site-packages (from yasa) (8.0.6)\n",
            "Requirement already satisfied: joblib in /home/codespace/.local/lib/python3.10/site-packages (from yasa) (1.2.0)\n",
            "Requirement already satisfied: lightgbm in /usr/local/python/3.10.4/lib/python3.10/site-packages (from yasa) (3.3.5)\n",
            "Requirement already satisfied: tqdm in /usr/local/python/3.10.4/lib/python3.10/site-packages (from mne>=0.23->yasa) (4.65.0)\n",
            "Requirement already satisfied: pooch>=1.5 in /usr/local/python/3.10.4/lib/python3.10/site-packages (from mne>=0.23->yasa) (1.7.0)\n",
            "Requirement already satisfied: decorator in /home/codespace/.local/lib/python3.10/site-packages (from mne>=0.23->yasa) (5.1.1)\n",
            "Requirement already satisfied: packaging in /home/codespace/.local/lib/python3.10/site-packages (from mne>=0.23->yasa) (23.1)\n",
            "Requirement already satisfied: jinja2 in /home/codespace/.local/lib/python3.10/site-packages (from mne>=0.23->yasa) (3.1.2)\n",
            "Requirement already satisfied: PyYAML>=5.4.0 in /home/codespace/.local/lib/python3.10/site-packages (from sleepecg>=0.5.0->yasa) (6.0)\n",
            "Requirement already satisfied: requests>=2.25.0 in /home/codespace/.local/lib/python3.10/site-packages (from sleepecg>=0.5.0->yasa) (2.28.2)\n",
            "Requirement already satisfied: stochastic in /usr/local/python/3.10.4/lib/python3.10/site-packages (from antropy->yasa) (0.7.0)\n",
            "Requirement already satisfied: ipykernel>=4.5.1 in /home/codespace/.local/lib/python3.10/site-packages (from ipywidgets->yasa) (6.22.0)\n",
            "Requirement already satisfied: ipython>=6.1.0 in /home/codespace/.local/lib/python3.10/site-packages (from ipywidgets->yasa) (8.12.0)\n",
            "Requirement already satisfied: traitlets>=4.3.1 in /home/codespace/.local/lib/python3.10/site-packages (from ipywidgets->yasa) (5.9.0)\n",
            "Requirement already satisfied: widgetsnbextension~=4.0.7 in /usr/local/python/3.10.4/lib/python3.10/site-packages (from ipywidgets->yasa) (4.0.7)\n",
            "Requirement already satisfied: jupyterlab-widgets~=3.0.7 in /usr/local/python/3.10.4/lib/python3.10/site-packages (from ipywidgets->yasa) (3.0.7)\n",
            "Requirement already satisfied: wheel in /home/codespace/.local/lib/python3.10/site-packages (from lightgbm->yasa) (0.40.0)\n",
            "Requirement already satisfied: threadpoolctl>=2.0.0 in /home/codespace/.local/lib/python3.10/site-packages (from scikit-learn->yasa) (3.1.0)\n",
            "Requirement already satisfied: contourpy>=1.0.1 in /home/codespace/.local/lib/python3.10/site-packages (from matplotlib->yasa) (1.0.7)\n",
            "Requirement already satisfied: cycler>=0.10 in /home/codespace/.local/lib/python3.10/site-packages (from matplotlib->yasa) (0.11.0)\n",
            "Requirement already satisfied: fonttools>=4.22.0 in /home/codespace/.local/lib/python3.10/site-packages (from matplotlib->yasa) (4.39.3)\n",
            "Requirement already satisfied: kiwisolver>=1.0.1 in /home/codespace/.local/lib/python3.10/site-packages (from matplotlib->yasa) (1.4.4)\n",
            "Requirement already satisfied: pillow>=6.2.0 in /home/codespace/.local/lib/python3.10/site-packages (from matplotlib->yasa) (9.5.0)\n",
            "Requirement already satisfied: pyparsing>=2.3.1 in /home/codespace/.local/lib/python3.10/site-packages (from matplotlib->yasa) (3.0.9)\n",
            "Requirement already satisfied: python-dateutil>=2.7 in /home/codespace/.local/lib/python3.10/site-packages (from matplotlib->yasa) (2.8.2)\n",
            "Requirement already satisfied: llvmlite<0.41,>=0.40.0dev0 in /usr/local/python/3.10.4/lib/python3.10/site-packages (from numba->yasa) (0.40.0)\n",
            "Requirement already satisfied: setuptools>=44 in /home/codespace/.local/lib/python3.10/site-packages (from outdated->yasa) (67.7.2)\n",
            "Requirement already satisfied: littleutils in /usr/local/python/3.10.4/lib/python3.10/site-packages (from outdated->yasa) (0.2.2)\n",
            "Requirement already satisfied: pytz>=2020.1 in /home/codespace/.local/lib/python3.10/site-packages (from pandas->yasa) (2023.3)\n",
            "Requirement already satisfied: tzdata>=2022.1 in /home/codespace/.local/lib/python3.10/site-packages (from pandas->yasa) (2023.3)\n",
            "Requirement already satisfied: comm>=0.1.1 in /home/codespace/.local/lib/python3.10/site-packages (from ipykernel>=4.5.1->ipywidgets->yasa) (0.1.3)\n",
            "Requirement already satisfied: debugpy>=1.6.5 in /home/codespace/.local/lib/python3.10/site-packages (from ipykernel>=4.5.1->ipywidgets->yasa) (1.6.7)\n",
            "Requirement already satisfied: jupyter-client>=6.1.12 in /home/codespace/.local/lib/python3.10/site-packages (from ipykernel>=4.5.1->ipywidgets->yasa) (8.2.0)\n",
            "Requirement already satisfied: jupyter-core!=5.0.*,>=4.12 in /home/codespace/.local/lib/python3.10/site-packages (from ipykernel>=4.5.1->ipywidgets->yasa) (5.3.0)\n",
            "Requirement already satisfied: matplotlib-inline>=0.1 in /home/codespace/.local/lib/python3.10/site-packages (from ipykernel>=4.5.1->ipywidgets->yasa) (0.1.6)\n",
            "Requirement already satisfied: nest-asyncio in /home/codespace/.local/lib/python3.10/site-packages (from ipykernel>=4.5.1->ipywidgets->yasa) (1.5.6)\n",
            "Requirement already satisfied: psutil in /home/codespace/.local/lib/python3.10/site-packages (from ipykernel>=4.5.1->ipywidgets->yasa) (5.9.5)\n",
            "Requirement already satisfied: pyzmq>=20 in /home/codespace/.local/lib/python3.10/site-packages (from ipykernel>=4.5.1->ipywidgets->yasa) (25.0.2)\n",
            "Requirement already satisfied: tornado>=6.1 in /home/codespace/.local/lib/python3.10/site-packages (from ipykernel>=4.5.1->ipywidgets->yasa) (6.3.1)\n",
            "Requirement already satisfied: backcall in /home/codespace/.local/lib/python3.10/site-packages (from ipython>=6.1.0->ipywidgets->yasa) (0.2.0)\n",
            "Requirement already satisfied: jedi>=0.16 in /home/codespace/.local/lib/python3.10/site-packages (from ipython>=6.1.0->ipywidgets->yasa) (0.18.2)\n",
            "Requirement already satisfied: pickleshare in /home/codespace/.local/lib/python3.10/site-packages (from ipython>=6.1.0->ipywidgets->yasa) (0.7.5)\n",
            "Requirement already satisfied: prompt-toolkit!=3.0.37,<3.1.0,>=3.0.30 in /home/codespace/.local/lib/python3.10/site-packages (from ipython>=6.1.0->ipywidgets->yasa) (3.0.38)\n",
            "Requirement already satisfied: pygments>=2.4.0 in /home/codespace/.local/lib/python3.10/site-packages (from ipython>=6.1.0->ipywidgets->yasa) (2.15.1)\n",
            "Requirement already satisfied: stack-data in /home/codespace/.local/lib/python3.10/site-packages (from ipython>=6.1.0->ipywidgets->yasa) (0.6.2)\n",
            "Requirement already satisfied: pexpect>4.3 in /home/codespace/.local/lib/python3.10/site-packages (from ipython>=6.1.0->ipywidgets->yasa) (4.8.0)\n",
            "Requirement already satisfied: platformdirs>=2.5.0 in /home/codespace/.local/lib/python3.10/site-packages (from pooch>=1.5->mne>=0.23->yasa) (3.3.0)\n",
            "Requirement already satisfied: six>=1.5 in /home/codespace/.local/lib/python3.10/site-packages (from python-dateutil>=2.7->matplotlib->yasa) (1.16.0)\n",
            "Requirement already satisfied: charset-normalizer<4,>=2 in /home/codespace/.local/lib/python3.10/site-packages (from requests>=2.25.0->sleepecg>=0.5.0->yasa) (3.1.0)\n",
            "Requirement already satisfied: idna<4,>=2.5 in /home/codespace/.local/lib/python3.10/site-packages (from requests>=2.25.0->sleepecg>=0.5.0->yasa) (3.4)\n",
            "Requirement already satisfied: urllib3<1.27,>=1.21.1 in /home/codespace/.local/lib/python3.10/site-packages (from requests>=2.25.0->sleepecg>=0.5.0->yasa) (1.26.15)\n",
            "Requirement already satisfied: certifi>=2017.4.17 in /home/codespace/.local/lib/python3.10/site-packages (from requests>=2.25.0->sleepecg>=0.5.0->yasa) (2022.12.7)\n",
            "Requirement already satisfied: MarkupSafe>=2.0 in /home/codespace/.local/lib/python3.10/site-packages (from jinja2->mne>=0.23->yasa) (2.1.2)\n",
            "Requirement already satisfied: parso<0.9.0,>=0.8.0 in /home/codespace/.local/lib/python3.10/site-packages (from jedi>=0.16->ipython>=6.1.0->ipywidgets->yasa) (0.8.3)\n",
            "Requirement already satisfied: ptyprocess>=0.5 in /home/codespace/.local/lib/python3.10/site-packages (from pexpect>4.3->ipython>=6.1.0->ipywidgets->yasa) (0.7.0)\n",
            "Requirement already satisfied: wcwidth in /home/codespace/.local/lib/python3.10/site-packages (from prompt-toolkit!=3.0.37,<3.1.0,>=3.0.30->ipython>=6.1.0->ipywidgets->yasa) (0.2.6)\n",
            "Requirement already satisfied: executing>=1.2.0 in /home/codespace/.local/lib/python3.10/site-packages (from stack-data->ipython>=6.1.0->ipywidgets->yasa) (1.2.0)\n",
            "Requirement already satisfied: asttokens>=2.1.0 in /home/codespace/.local/lib/python3.10/site-packages (from stack-data->ipython>=6.1.0->ipywidgets->yasa) (2.2.1)\n",
            "Requirement already satisfied: pure-eval in /home/codespace/.local/lib/python3.10/site-packages (from stack-data->ipython>=6.1.0->ipywidgets->yasa) (0.2.2)\n",
            "\n",
            "\u001b[1m[\u001b[0m\u001b[34;49mnotice\u001b[0m\u001b[1;39;49m]\u001b[0m\u001b[39;49m A new release of pip is available: \u001b[0m\u001b[31;49m23.1.1\u001b[0m\u001b[39;49m -> \u001b[0m\u001b[32;49m23.1.2\u001b[0m\n",
            "\u001b[1m[\u001b[0m\u001b[34;49mnotice\u001b[0m\u001b[1;39;49m]\u001b[0m\u001b[39;49m To update, run: \u001b[0m\u001b[32;49mpython -m pip install --upgrade pip\u001b[0m\n"
          ]
        },
        {
          "name": "stderr",
          "output_type": "stream",
          "text": [
            "/home/codespace/.python/current/lib/python3.10/site-packages/antropy/fractal.py:197: NumbaDeprecationWarning: \u001b[1mThe 'nopython' keyword argument was not supplied to the 'numba.jit' decorator. The implicit default value for this argument is currently False, but it will be changed to True in Numba 0.59.0. See https://numba.readthedocs.io/en/stable/reference/deprecation.html#deprecation-of-object-mode-fall-back-behaviour-when-using-jit for details.\u001b[0m\n",
            "  @jit((types.Array(types.float64, 1, \"C\", readonly=True), types.int32))\n"
          ]
        }
      ],
      "source": [
        "!pip install mne\n",
        "!pip install yasa\n",
        "import pandas as pd\n",
        "import mne\n",
        "import numpy as np\n",
        "import yasa\n",
        "\n"
      ]
    },
    {
      "cell_type": "code",
      "execution_count": 5,
      "metadata": {},
      "outputs": [
        {
          "name": "stderr",
          "output_type": "stream",
          "text": [
            "/tmp/ipykernel_10972/2112912086.py:16: DtypeWarning: Columns (39) have mixed types. Specify dtype option on import or set low_memory=False.\n",
            "  dfraw = pd.read_csv(urlmantrameditation)\n"
          ]
        }
      ],
      "source": [
        "##load files\n",
        "\n",
        "#dataFile = pd.read_csv(\"/content/stimulant_mindMonitor_2023-01-18--14-37-14.csv\", skiprows=0, usecols=[*range(1,21)])\n",
        "#url = 'https://www.dropbox.com/s/ttv6vxh3ys7q0ou/mindMonitor_2023-01-18--14-37-14.csv?dl=1'\n",
        "url = 'https://www.dropbox.com/s/a5uwkqaq71mkrxp/mindMonitor_2023-02-17--18-29-44_choc_intervention.csv?dl=1'\n",
        "urlmantrameditation = 'https://www.dropbox.com/s/z09umrre7qgg4ld/mindMonitor_2023-02-23--08-01-50_eyesopen_eyesclose_mantrameditation_eyesopen_eyesclosed.csv?dl=1'\n",
        "urlmantra2 = 'https://www.dropbox.com/s/z0eoyhwinrep224/mindMonitor_2023-03-28--10-43-44_after_breakfast_baseline_mantra__3_intervention_breathfocus_4.csv?dl=1'\n",
        "#dataFile = pd.read_csv('/content/mindMonitor_2023-01-18--14-37-14.csv', skiprows=0, usecols=[*range(1,21)])\n",
        "urlsleep = 'https://www.dropbox.com/s/hu50afgorep21c6/mindMonitor_2023-04-03--01-28-07_sleep.csv?dl=1'\n",
        "#dfraw = pd.read_csv('/content/mindMonitor_2023-01-18--14-37-14.csv')\n",
        "\n",
        "#dfraw = pd.read_csv('/content/mindMonitor_2023-02-15--14-48-03_stiumant_limited_interventions.csv')\n",
        "#dfraw = pd.read_csv('/content/mindMonitor_2023-02-23--08-01-50_eyesopen_eyesclose_mantrameditation_eyesopen_eyesclosed.csv')\n",
        "#dfraw = pd.read_csv('/content/mindMonitor_2023-02-23--08-01-50_eyesopen_eyesclose_mantrameditation_eyesopen_eyesclosed.csv')\n",
        "#urlsleep58 = 'https://www.dropbox.com/s/9r516639sms98sj/mindMonitor_2023-05-07--23-31-37_5188390995226691787_sleep.csv?dl=1'\n",
        "dfraw = pd.read_csv(urlmantrameditation)\n",
        "\n",
        "\n",
        "df = dfraw"
      ]
    },
    {
      "cell_type": "code",
      "execution_count": 6,
      "metadata": {
        "colab": {
          "base_uri": "https://localhost:8080/"
        },
        "id": "Rv82Xuof2aSp",
        "outputId": "4e5349b5-ee69-430a-c1ef-517c890220a4"
      },
      "outputs": [
        {
          "data": {
            "text/plain": [
              "Index(['TimeStamp', 'Delta_TP9', 'Delta_AF7', 'Delta_AF8', 'Delta_TP10',\n",
              "       'Theta_TP9', 'Theta_AF7', 'Theta_AF8', 'Theta_TP10', 'Alpha_TP9',\n",
              "       'Alpha_AF7', 'Alpha_AF8', 'Alpha_TP10', 'Beta_TP9', 'Beta_AF7',\n",
              "       'Beta_AF8', 'Beta_TP10', 'Gamma_TP9', 'Gamma_AF7', 'Gamma_AF8',\n",
              "       'Gamma_TP10', 'RAW_TP9', 'RAW_AF7', 'RAW_AF8', 'RAW_TP10', 'AUX_RIGHT',\n",
              "       'AUX_LEFT', 'Accelerometer_X', 'Accelerometer_Y', 'Accelerometer_Z',\n",
              "       'Gyro_X', 'Gyro_Y', 'Gyro_Z', 'HeadBandOn', 'HSI_TP9', 'HSI_AF7',\n",
              "       'HSI_AF8', 'HSI_TP10', 'Battery', 'Elements'],\n",
              "      dtype='object')"
            ]
          },
          "execution_count": 6,
          "metadata": {},
          "output_type": "execute_result"
        }
      ],
      "source": [
        "df.columns"
      ]
    },
    {
      "cell_type": "code",
      "execution_count": null,
      "metadata": {
        "id": "_W6uRkM4-d1e"
      },
      "outputs": [],
      "source": [
        "#pd.to_timedelta(df['TimeStamp']).head()\n",
        "from datetime import datetime\n",
        "\n",
        "df['TimeStamp'] = pd.to_datetime(df['TimeStamp'])\n",
        "time0 = df['TimeStamp'].loc[0]\n",
        "\n",
        "df['elapsed'] = 'NA'\n",
        "\n",
        "#df['Results'] = ['Pass' if m>=33 else 'Fail' for m in df['Marks']]\n",
        "for row in range(1,len(df),1):\n",
        "    time1 = df['TimeStamp'].loc[row]\n",
        "    time1 = pd.Timestamp(time1)\n",
        "    df['elapsed'].loc[row] = pd.Timedelta(time1-time0).total_seconds()\n",
        "\n",
        "df['elapsed'] = pd.to_numeric(df['elapsed'], errors='coerce')\n",
        "df.head()\n",
        "\n"
      ]
    },
    {
      "cell_type": "code",
      "execution_count": null,
      "metadata": {
        "id": "Q9gOAlydhcJS"
      },
      "outputs": [],
      "source": [
        "#for original dataset\n",
        "\n",
        "import numpy as np\n",
        "# conditions = [\n",
        "#     (df['elapsed'] <= 2),\n",
        "#     (df['elapsed'] > 2) & (df['elapsed'] <= 9),\n",
        "#     (df['elapsed'] > 9) & (df['elapsed'] <= 15),\n",
        "#     (df['elapsed'] > 15)\n",
        "#     ]\n",
        "\n",
        "# # create a list of the values we want to assign for each condition\n",
        "# values = ['tier_4', 'tier_3', 'tier_2', 'tier_1']\n",
        "\n",
        "# # create a new column and use np.select to assign values to it using our lists as arguments\n",
        "# df['tier'] = np.select(conditions, values)\n",
        "\n",
        "# display updated DataFrame\n",
        "# df.head()\n",
        "\n",
        "conditions = [\n",
        "    (df['elapsed'] <= 12),\n",
        "    (df['elapsed'] > 12) & (df['elapsed'] <= 70),\n",
        "    (df['elapsed'] > 77) & (df['elapsed'] <= 134),\n",
        "     (df['elapsed'] > 134) & (df['elapsed'] <= 237),\n",
        "     (df['elapsed'] > 237) & (df['elapsed'] <= 370),\n",
        "    (df['elapsed'] > 370)\n",
        "    ]\n",
        "\n",
        "# create a list of the values we want to assign for each condition\n",
        "values = ['eyesClosed1', 'thinking', 'eyesClosed2', 'intervention', 'postTreatment', 'finish']\n",
        "\n",
        "# create a new column and use np.select to assign values to it using our lists as arguments\n",
        "df['mindful'] = np.select(conditions, values)\n",
        "\n",
        "\n",
        "\n",
        "eyesClosed1 = 12 #00:12\n",
        "thinking = 70 #01:10\n",
        "eyesClosed2 = 77 #01:17\n",
        "intervention = 134 #02:14\n",
        "postTreatment = 237 #03:57 \n",
        "finish = 370 #06:10\n",
        "\n",
        "# display updated DataFrame\n",
        "df.head(50)"
      ]
    },
    {
      "cell_type": "code",
      "execution_count": null,
      "metadata": {
        "id": "eR83ZGMvpP7m"
      },
      "outputs": [],
      "source": [
        "#for stimulant limted dataset\n",
        "\n",
        "import numpy as np\n",
        "\n",
        "conditions = [\n",
        "    (df['elapsed'] <= 40),\n",
        "    (df['elapsed'] > 40)\n",
        "    ]\n",
        "\n",
        "# create a list of the values we want to assign for each condition\n",
        "values = ['before intervention', 'after intervention']\n",
        "\n",
        "# create a new column and use np.select to assign values to it using our lists as arguments\n",
        "df['mindful'] = np.select(conditions, values)\n",
        "\n",
        "# display updated DataFrame\n",
        "df.head(50)"
      ]
    },
    {
      "cell_type": "code",
      "execution_count": null,
      "metadata": {
        "id": "4wdniMMZNrtY"
      },
      "outputs": [],
      "source": [
        "# dataMin = readData.min().min()\n",
        "# dataMax = readData.max().max()\n",
        "# normData = readData.copy()\n",
        "\n",
        "# for col in normData.columns:\n",
        "#     normData[col] = normData[col]-dataMin / dataMax-dataMin\n",
        "\n",
        "df['Theta_AF7_norm'] = df['Theta_AF7']-df['Theta_AF7'].min() / (df['Theta_AF7'].max()-df['Theta_AF7'].min())\n",
        "df['Beta_AF7_norm'] = df['Beta_AF7']-df['Beta_AF7'].min() / (df['Beta_AF7'].max()-df['Beta_AF7'].min())\n",
        "df['ThetaBetaRatio_AF7_norm'] = df['Theta_AF7_norm'] / df['Beta_AF7_norm']\n",
        "\n",
        "\n",
        "\n",
        "df.head()"
      ]
    },
    {
      "cell_type": "code",
      "execution_count": null,
      "metadata": {
        "id": "bgly4uGyw0eH"
      },
      "outputs": [],
      "source": [
        "df.columns"
      ]
    },
    {
      "cell_type": "code",
      "execution_count": null,
      "metadata": {
        "colab": {
          "base_uri": "https://localhost:8080/",
          "height": 436
        },
        "id": "h6C6Eua6kEIc",
        "outputId": "4585c355-79b4-45cd-8fdf-4126217c17a7"
      },
      "outputs": [
        {
          "name": "stdout",
          "output_type": "stream",
          "text": [
            "               mindful  Gamma_AF7\n",
            "0                    0        NaN\n",
            "1   after intervention   0.279185\n",
            "2  before intervention  -0.274182\n"
          ]
        },
        {
          "data": {
            "text/plain": [
              "([0, 1, 2], [Text(0, 0, ''), Text(0, 0, ''), Text(0, 0, '')])"
            ]
          },
          "execution_count": 11,
          "metadata": {},
          "output_type": "execute_result"
        },
        {
          "data": {
            "image/png": "[encoded data removed]",
            "text/plain": [
              "<Figure size 432x288 with 1 Axes>"
            ]
          },
          "metadata": {},
          "output_type": "display_data"
        }
      ],
      "source": [
        "import matplotlib.pyplot as plt\n",
        "import seaborn as sns\n",
        "\n",
        "%matplotlib inline\n",
        "\n",
        "#grouped =df.groupby(['mindful'])['ThetaBetaRatio_AF7_norm'].median()\n",
        "grouped =df.groupby(['mindful'])['Gamma_AF7'].median()\n",
        "\n",
        "#for original dataset\n",
        "print(grouped.reset_index(inplace=False))\n",
        "\n",
        "# sns.lineplot(x='mindful', y='ThetaBetaRatio_AF7_norm', data=grouped.reset_index())\n",
        "\n",
        "#for stimulant limited dataset\n",
        "\n",
        "sns.histplot(x='mindful', y='Gamma_AF7', data=grouped.reset_index())\n",
        "\n",
        "\n",
        "plt.xticks(rotation=45)"
      ]
    },
    {
      "cell_type": "code",
      "execution_count": null,
      "metadata": {
        "colab": {
          "base_uri": "https://localhost:8080/",
          "height": 409
        },
        "id": "Ry2xF-jlljMV",
        "outputId": "187d5420-14a9-43c9-c891-f55ffe511d57"
      },
      "outputs": [
        {
          "name": "stdout",
          "output_type": "stream",
          "text": [
            "RangeIndex(start=0, stop=323441, step=1)\n"
          ]
        },
        {
          "ename": "ValueError",
          "evalue": "ignored",
          "output_type": "error",
          "traceback": [
            "\u001b[0;31m---------------------------------------------------------------------------\u001b[0m",
            "\u001b[0;31mValueError\u001b[0m                                Traceback (most recent call last)",
            "\u001b[0;32m<ipython-input-35-c28b26e7808d>\u001b[0m in \u001b[0;36m<module>\u001b[0;34m\u001b[0m\n\u001b[1;32m      6\u001b[0m \u001b[0;34m\u001b[0m\u001b[0m\n\u001b[1;32m      7\u001b[0m \u001b[0;31m#ax = sns.lineplot(x='elapsed', y='ThetaBetaRatio_AF7_norm', data=df.sample(frac=1))\u001b[0m\u001b[0;34m\u001b[0m\u001b[0;34m\u001b[0m\u001b[0;34m\u001b[0m\u001b[0m\n\u001b[0;32m----> 8\u001b[0;31m \u001b[0max\u001b[0m \u001b[0;34m=\u001b[0m \u001b[0msns\u001b[0m\u001b[0;34m.\u001b[0m\u001b[0mlineplot\u001b[0m\u001b[0;34m(\u001b[0m\u001b[0mx\u001b[0m\u001b[0;34m=\u001b[0m\u001b[0;34m'TimeStamp'\u001b[0m\u001b[0;34m,\u001b[0m \u001b[0my\u001b[0m\u001b[0;34m=\u001b[0m\u001b[0;34m'Gamma_AF7'\u001b[0m\u001b[0;34m,\u001b[0m \u001b[0mdata\u001b[0m\u001b[0;34m=\u001b[0m\u001b[0mdfs\u001b[0m\u001b[0;34m)\u001b[0m\u001b[0;34m\u001b[0m\u001b[0;34m\u001b[0m\u001b[0m\n\u001b[0m\u001b[1;32m      9\u001b[0m \u001b[0;34m\u001b[0m\u001b[0m\n\u001b[1;32m     10\u001b[0m \u001b[0;31m#ax2 = sns.lineplot(x='elapsed', y='Gamma_AF7', data=df.sample(frac=0.2))\u001b[0m\u001b[0;34m\u001b[0m\u001b[0;34m\u001b[0m\u001b[0;34m\u001b[0m\u001b[0m\n",
            "\u001b[0;32m/usr/local/lib/python3.8/dist-packages/seaborn/_decorators.py\u001b[0m in \u001b[0;36minner_f\u001b[0;34m(*args, **kwargs)\u001b[0m\n\u001b[1;32m     44\u001b[0m             )\n\u001b[1;32m     45\u001b[0m         \u001b[0mkwargs\u001b[0m\u001b[0;34m.\u001b[0m\u001b[0mupdate\u001b[0m\u001b[0;34m(\u001b[0m\u001b[0;34m{\u001b[0m\u001b[0mk\u001b[0m\u001b[0;34m:\u001b[0m \u001b[0marg\u001b[0m \u001b[0;32mfor\u001b[0m \u001b[0mk\u001b[0m\u001b[0;34m,\u001b[0m \u001b[0marg\u001b[0m \u001b[0;32min\u001b[0m \u001b[0mzip\u001b[0m\u001b[0;34m(\u001b[0m\u001b[0msig\u001b[0m\u001b[0;34m.\u001b[0m\u001b[0mparameters\u001b[0m\u001b[0;34m,\u001b[0m \u001b[0margs\u001b[0m\u001b[0;34m)\u001b[0m\u001b[0;34m}\u001b[0m\u001b[0;34m)\u001b[0m\u001b[0;34m\u001b[0m\u001b[0;34m\u001b[0m\u001b[0m\n\u001b[0;32m---> 46\u001b[0;31m         \u001b[0;32mreturn\u001b[0m \u001b[0mf\u001b[0m\u001b[0;34m(\u001b[0m\u001b[0;34m**\u001b[0m\u001b[0mkwargs\u001b[0m\u001b[0;34m)\u001b[0m\u001b[0;34m\u001b[0m\u001b[0;34m\u001b[0m\u001b[0m\n\u001b[0m\u001b[1;32m     47\u001b[0m     \u001b[0;32mreturn\u001b[0m \u001b[0minner_f\u001b[0m\u001b[0;34m\u001b[0m\u001b[0;34m\u001b[0m\u001b[0m\n\u001b[1;32m     48\u001b[0m \u001b[0;34m\u001b[0m\u001b[0m\n",
            "\u001b[0;32m/usr/local/lib/python3.8/dist-packages/seaborn/relational.py\u001b[0m in \u001b[0;36mlineplot\u001b[0;34m(x, y, hue, size, style, data, palette, hue_order, hue_norm, sizes, size_order, size_norm, dashes, markers, style_order, units, estimator, ci, n_boot, seed, sort, err_style, err_kws, legend, ax, **kwargs)\u001b[0m\n\u001b[1;32m    690\u001b[0m \u001b[0;34m\u001b[0m\u001b[0m\n\u001b[1;32m    691\u001b[0m     \u001b[0mvariables\u001b[0m \u001b[0;34m=\u001b[0m \u001b[0m_LinePlotter\u001b[0m\u001b[0;34m.\u001b[0m\u001b[0mget_semantics\u001b[0m\u001b[0;34m(\u001b[0m\u001b[0mlocals\u001b[0m\u001b[0;34m(\u001b[0m\u001b[0;34m)\u001b[0m\u001b[0;34m)\u001b[0m\u001b[0;34m\u001b[0m\u001b[0;34m\u001b[0m\u001b[0m\n\u001b[0;32m--> 692\u001b[0;31m     p = _LinePlotter(\n\u001b[0m\u001b[1;32m    693\u001b[0m         \u001b[0mdata\u001b[0m\u001b[0;34m=\u001b[0m\u001b[0mdata\u001b[0m\u001b[0;34m,\u001b[0m \u001b[0mvariables\u001b[0m\u001b[0;34m=\u001b[0m\u001b[0mvariables\u001b[0m\u001b[0;34m,\u001b[0m\u001b[0;34m\u001b[0m\u001b[0;34m\u001b[0m\u001b[0m\n\u001b[1;32m    694\u001b[0m         \u001b[0mestimator\u001b[0m\u001b[0;34m=\u001b[0m\u001b[0mestimator\u001b[0m\u001b[0;34m,\u001b[0m \u001b[0mci\u001b[0m\u001b[0;34m=\u001b[0m\u001b[0mci\u001b[0m\u001b[0;34m,\u001b[0m \u001b[0mn_boot\u001b[0m\u001b[0;34m=\u001b[0m\u001b[0mn_boot\u001b[0m\u001b[0;34m,\u001b[0m \u001b[0mseed\u001b[0m\u001b[0;34m=\u001b[0m\u001b[0mseed\u001b[0m\u001b[0;34m,\u001b[0m\u001b[0;34m\u001b[0m\u001b[0;34m\u001b[0m\u001b[0m\n",
            "\u001b[0;32m/usr/local/lib/python3.8/dist-packages/seaborn/relational.py\u001b[0m in \u001b[0;36m__init__\u001b[0;34m(self, data, variables, estimator, ci, n_boot, seed, sort, err_style, err_kws, legend)\u001b[0m\n\u001b[1;32m    365\u001b[0m         )\n\u001b[1;32m    366\u001b[0m \u001b[0;34m\u001b[0m\u001b[0m\n\u001b[0;32m--> 367\u001b[0;31m         \u001b[0msuper\u001b[0m\u001b[0;34m(\u001b[0m\u001b[0;34m)\u001b[0m\u001b[0;34m.\u001b[0m\u001b[0m__init__\u001b[0m\u001b[0;34m(\u001b[0m\u001b[0mdata\u001b[0m\u001b[0;34m=\u001b[0m\u001b[0mdata\u001b[0m\u001b[0;34m,\u001b[0m \u001b[0mvariables\u001b[0m\u001b[0;34m=\u001b[0m\u001b[0mvariables\u001b[0m\u001b[0;34m)\u001b[0m\u001b[0;34m\u001b[0m\u001b[0;34m\u001b[0m\u001b[0m\n\u001b[0m\u001b[1;32m    368\u001b[0m \u001b[0;34m\u001b[0m\u001b[0m\n\u001b[1;32m    369\u001b[0m         \u001b[0mself\u001b[0m\u001b[0;34m.\u001b[0m\u001b[0mestimator\u001b[0m \u001b[0;34m=\u001b[0m \u001b[0mestimator\u001b[0m\u001b[0;34m\u001b[0m\u001b[0;34m\u001b[0m\u001b[0m\n",
            "\u001b[0;32m/usr/local/lib/python3.8/dist-packages/seaborn/_core.py\u001b[0m in \u001b[0;36m__init__\u001b[0;34m(self, data, variables)\u001b[0m\n\u001b[1;32m    603\u001b[0m     \u001b[0;32mdef\u001b[0m \u001b[0m__init__\u001b[0m\u001b[0;34m(\u001b[0m\u001b[0mself\u001b[0m\u001b[0;34m,\u001b[0m \u001b[0mdata\u001b[0m\u001b[0;34m=\u001b[0m\u001b[0;32mNone\u001b[0m\u001b[0;34m,\u001b[0m \u001b[0mvariables\u001b[0m\u001b[0;34m=\u001b[0m\u001b[0;34m{\u001b[0m\u001b[0;34m}\u001b[0m\u001b[0;34m)\u001b[0m\u001b[0;34m:\u001b[0m\u001b[0;34m\u001b[0m\u001b[0;34m\u001b[0m\u001b[0m\n\u001b[1;32m    604\u001b[0m \u001b[0;34m\u001b[0m\u001b[0m\n\u001b[0;32m--> 605\u001b[0;31m         \u001b[0mself\u001b[0m\u001b[0;34m.\u001b[0m\u001b[0massign_variables\u001b[0m\u001b[0;34m(\u001b[0m\u001b[0mdata\u001b[0m\u001b[0;34m,\u001b[0m \u001b[0mvariables\u001b[0m\u001b[0;34m)\u001b[0m\u001b[0;34m\u001b[0m\u001b[0;34m\u001b[0m\u001b[0m\n\u001b[0m\u001b[1;32m    606\u001b[0m \u001b[0;34m\u001b[0m\u001b[0m\n\u001b[1;32m    607\u001b[0m         \u001b[0;32mfor\u001b[0m \u001b[0mvar\u001b[0m\u001b[0;34m,\u001b[0m \u001b[0mcls\u001b[0m \u001b[0;32min\u001b[0m \u001b[0mself\u001b[0m\u001b[0;34m.\u001b[0m\u001b[0m_semantic_mappings\u001b[0m\u001b[0;34m.\u001b[0m\u001b[0mitems\u001b[0m\u001b[0;34m(\u001b[0m\u001b[0;34m)\u001b[0m\u001b[0;34m:\u001b[0m\u001b[0;34m\u001b[0m\u001b[0;34m\u001b[0m\u001b[0m\n",
            "\u001b[0;32m/usr/local/lib/python3.8/dist-packages/seaborn/_core.py\u001b[0m in \u001b[0;36massign_variables\u001b[0;34m(self, data, variables)\u001b[0m\n\u001b[1;32m    666\u001b[0m         \u001b[0;32melse\u001b[0m\u001b[0;34m:\u001b[0m\u001b[0;34m\u001b[0m\u001b[0;34m\u001b[0m\u001b[0m\n\u001b[1;32m    667\u001b[0m             \u001b[0mself\u001b[0m\u001b[0;34m.\u001b[0m\u001b[0minput_format\u001b[0m \u001b[0;34m=\u001b[0m \u001b[0;34m\"long\"\u001b[0m\u001b[0;34m\u001b[0m\u001b[0;34m\u001b[0m\u001b[0m\n\u001b[0;32m--> 668\u001b[0;31m             plot_data, variables = self._assign_variables_longform(\n\u001b[0m\u001b[1;32m    669\u001b[0m                 \u001b[0mdata\u001b[0m\u001b[0;34m,\u001b[0m \u001b[0;34m**\u001b[0m\u001b[0mvariables\u001b[0m\u001b[0;34m,\u001b[0m\u001b[0;34m\u001b[0m\u001b[0;34m\u001b[0m\u001b[0m\n\u001b[1;32m    670\u001b[0m             )\n",
            "\u001b[0;32m/usr/local/lib/python3.8/dist-packages/seaborn/_core.py\u001b[0m in \u001b[0;36m_assign_variables_longform\u001b[0;34m(self, data, **kwargs)\u001b[0m\n\u001b[1;32m    901\u001b[0m \u001b[0;34m\u001b[0m\u001b[0m\n\u001b[1;32m    902\u001b[0m                 \u001b[0merr\u001b[0m \u001b[0;34m=\u001b[0m \u001b[0;34mf\"Could not interpret value `{val}` for parameter `{key}`\"\u001b[0m\u001b[0;34m\u001b[0m\u001b[0;34m\u001b[0m\u001b[0m\n\u001b[0;32m--> 903\u001b[0;31m                 \u001b[0;32mraise\u001b[0m \u001b[0mValueError\u001b[0m\u001b[0;34m(\u001b[0m\u001b[0merr\u001b[0m\u001b[0;34m)\u001b[0m\u001b[0;34m\u001b[0m\u001b[0;34m\u001b[0m\u001b[0m\n\u001b[0m\u001b[1;32m    904\u001b[0m \u001b[0;34m\u001b[0m\u001b[0m\n\u001b[1;32m    905\u001b[0m             \u001b[0;32melse\u001b[0m\u001b[0;34m:\u001b[0m\u001b[0;34m\u001b[0m\u001b[0;34m\u001b[0m\u001b[0m\n",
            "\u001b[0;31mValueError\u001b[0m: Could not interpret value `TimeStamp` for parameter `x`"
          ]
        }
      ],
      "source": [
        "print(df.index)\n",
        "from scipy.interpolate import interp1d\n",
        "\n",
        "#df['interpolated'] = interp1d(df['elapsed'], df['ThetaBetaRatio_AF7_norm'], kind='cubic')\n",
        "\n",
        "\n",
        "#ax = sns.lineplot(x='elapsed', y='ThetaBetaRatio_AF7_norm', data=df.sample(frac=1))\n",
        "ax = sns.lineplot(x='TimeStamp', y='Gamma_AF7', data=dfs)\n",
        "\n",
        "#ax2 = sns.lineplot(x='elapsed', y='Gamma_AF7', data=df.sample(frac=0.2))\n",
        "\n",
        "ax.set(ylim=(-0.7, 6))"
      ]
    },
    {
      "cell_type": "code",
      "execution_count": null,
      "metadata": {
        "colab": {
          "base_uri": "https://localhost:8080/",
          "height": 299
        },
        "id": "pHdWSbZgo9Ct",
        "outputId": "9beb2e42-bd45-4a22-fceb-f55917c2c879"
      },
      "outputs": [
        {
          "data": {
            "text/html": [
              "\n",
              "  <div id=\"df-a15bd7f4-8ee4-4453-bb92-65e904b5bc9a\">\n",
              "    <div class=\"colab-df-container\">\n",
              "      <div>\n",
              "<style scoped>\n",
              "    .dataframe tbody tr th:only-of-type {\n",
              "        vertical-align: middle;\n",
              "    }\n",
              "\n",
              "    .dataframe tbody tr th {\n",
              "        vertical-align: top;\n",
              "    }\n",
              "\n",
              "    .dataframe thead th {\n",
              "        text-align: right;\n",
              "    }\n",
              "</style>\n",
              "<table border=\"1\" class=\"dataframe\">\n",
              "  <thead>\n",
              "    <tr style=\"text-align: right;\">\n",
              "      <th></th>\n",
              "      <th>Delta_TP9</th>\n",
              "      <th>Delta_AF7</th>\n",
              "      <th>Delta_AF8</th>\n",
              "      <th>Delta_TP10</th>\n",
              "      <th>Theta_TP9</th>\n",
              "      <th>Theta_AF7</th>\n",
              "      <th>Theta_AF8</th>\n",
              "      <th>Theta_TP10</th>\n",
              "      <th>Alpha_TP9</th>\n",
              "      <th>Alpha_AF7</th>\n",
              "      <th>...</th>\n",
              "      <th>HeadBandOn</th>\n",
              "      <th>HSI_TP9</th>\n",
              "      <th>HSI_AF7</th>\n",
              "      <th>HSI_AF8</th>\n",
              "      <th>HSI_TP10</th>\n",
              "      <th>Battery</th>\n",
              "      <th>elapsed</th>\n",
              "      <th>Theta_AF7_norm</th>\n",
              "      <th>Beta_AF7_norm</th>\n",
              "      <th>ThetaBetaRatio_AF7_norm</th>\n",
              "    </tr>\n",
              "  </thead>\n",
              "  <tbody>\n",
              "    <tr>\n",
              "      <th>0</th>\n",
              "      <td>NaN</td>\n",
              "      <td>NaN</td>\n",
              "      <td>NaN</td>\n",
              "      <td>NaN</td>\n",
              "      <td>NaN</td>\n",
              "      <td>NaN</td>\n",
              "      <td>NaN</td>\n",
              "      <td>NaN</td>\n",
              "      <td>NaN</td>\n",
              "      <td>NaN</td>\n",
              "      <td>...</td>\n",
              "      <td>NaN</td>\n",
              "      <td>NaN</td>\n",
              "      <td>NaN</td>\n",
              "      <td>NaN</td>\n",
              "      <td>NaN</td>\n",
              "      <td>NaN</td>\n",
              "      <td>NaN</td>\n",
              "      <td>NaN</td>\n",
              "      <td>NaN</td>\n",
              "      <td>NaN</td>\n",
              "    </tr>\n",
              "    <tr>\n",
              "      <th>1</th>\n",
              "      <td>0.893279</td>\n",
              "      <td>-0.062322</td>\n",
              "      <td>0.380535</td>\n",
              "      <td>0.976929</td>\n",
              "      <td>0.724278</td>\n",
              "      <td>-0.427978</td>\n",
              "      <td>0.177997</td>\n",
              "      <td>0.726609</td>\n",
              "      <td>0.728232</td>\n",
              "      <td>-0.023578</td>\n",
              "      <td>...</td>\n",
              "      <td>1.0</td>\n",
              "      <td>1.0</td>\n",
              "      <td>1.0</td>\n",
              "      <td>1.0</td>\n",
              "      <td>1.0</td>\n",
              "      <td>35.0</td>\n",
              "      <td>0.097000</td>\n",
              "      <td>-0.133552</td>\n",
              "      <td>0.384288</td>\n",
              "      <td>-0.347532</td>\n",
              "    </tr>\n",
              "    <tr>\n",
              "      <th>2</th>\n",
              "      <td>0.893279</td>\n",
              "      <td>-0.067885</td>\n",
              "      <td>0.276120</td>\n",
              "      <td>0.955166</td>\n",
              "      <td>0.724278</td>\n",
              "      <td>-0.417322</td>\n",
              "      <td>0.105794</td>\n",
              "      <td>0.706989</td>\n",
              "      <td>0.728232</td>\n",
              "      <td>-0.023578</td>\n",
              "      <td>...</td>\n",
              "      <td>1.0</td>\n",
              "      <td>1.0</td>\n",
              "      <td>1.0</td>\n",
              "      <td>1.0</td>\n",
              "      <td>1.0</td>\n",
              "      <td>35.0</td>\n",
              "      <td>0.097000</td>\n",
              "      <td>-0.122896</td>\n",
              "      <td>0.379881</td>\n",
              "      <td>-0.323230</td>\n",
              "    </tr>\n",
              "    <tr>\n",
              "      <th>3</th>\n",
              "      <td>0.893279</td>\n",
              "      <td>-0.069740</td>\n",
              "      <td>0.241315</td>\n",
              "      <td>0.947912</td>\n",
              "      <td>0.724278</td>\n",
              "      <td>-0.413770</td>\n",
              "      <td>0.081726</td>\n",
              "      <td>0.700449</td>\n",
              "      <td>0.728232</td>\n",
              "      <td>-0.023578</td>\n",
              "      <td>...</td>\n",
              "      <td>1.0</td>\n",
              "      <td>1.0</td>\n",
              "      <td>1.0</td>\n",
              "      <td>1.0</td>\n",
              "      <td>1.0</td>\n",
              "      <td>35.0</td>\n",
              "      <td>0.097667</td>\n",
              "      <td>-0.119344</td>\n",
              "      <td>0.378413</td>\n",
              "      <td>-0.315129</td>\n",
              "    </tr>\n",
              "    <tr>\n",
              "      <th>4</th>\n",
              "      <td>0.893279</td>\n",
              "      <td>-0.070667</td>\n",
              "      <td>0.223913</td>\n",
              "      <td>0.944285</td>\n",
              "      <td>0.724278</td>\n",
              "      <td>-0.411994</td>\n",
              "      <td>0.069693</td>\n",
              "      <td>0.697179</td>\n",
              "      <td>0.728232</td>\n",
              "      <td>-0.023578</td>\n",
              "      <td>...</td>\n",
              "      <td>1.0</td>\n",
              "      <td>1.0</td>\n",
              "      <td>1.0</td>\n",
              "      <td>1.0</td>\n",
              "      <td>1.0</td>\n",
              "      <td>35.0</td>\n",
              "      <td>0.098000</td>\n",
              "      <td>-0.117568</td>\n",
              "      <td>0.377678</td>\n",
              "      <td>-0.311079</td>\n",
              "    </tr>\n",
              "  </tbody>\n",
              "</table>\n",
              "<p>5 rows × 42 columns</p>\n",
              "</div>\n",
              "      <button class=\"colab-df-convert\" onclick=\"convertToInteractive('df-a15bd7f4-8ee4-4453-bb92-65e904b5bc9a')\"\n",
              "              title=\"Convert this dataframe to an interactive table.\"\n",
              "              style=\"display:none;\">\n",
              "        \n",
              "  <svg xmlns=\"http://www.w3.org/2000/svg\" height=\"24px\"viewBox=\"0 0 24 24\"\n",
              "       width=\"24px\">\n",
              "    <path d=\"M0 0h24v24H0V0z\" fill=\"none\"/>\n",
              "    <path d=\"M18.56 5.44l.94 2.06.94-2.06 2.06-.94-2.06-.94-.94-2.06-.94 2.06-2.06.94zm-11 1L8.5 8.5l.94-2.06 2.06-.94-2.06-.94L8.5 2.5l-.94 2.06-2.06.94zm10 10l.94 2.06.94-2.06 2.06-.94-2.06-.94-.94-2.06-.94 2.06-2.06.94z\"/><path d=\"M17.41 7.96l-1.37-1.37c-.4-.4-.92-.59-1.43-.59-.52 0-1.04.2-1.43.59L10.3 9.45l-7.72 7.72c-.78.78-.78 2.05 0 2.83L4 21.41c.39.39.9.59 1.41.59.51 0 1.02-.2 1.41-.59l7.78-7.78 2.81-2.81c.8-.78.8-2.07 0-2.86zM5.41 20L4 18.59l7.72-7.72 1.47 1.35L5.41 20z\"/>\n",
              "  </svg>\n",
              "      </button>\n",
              "      \n",
              "  <style>\n",
              "    .colab-df-container {\n",
              "      display:flex;\n",
              "      flex-wrap:wrap;\n",
              "      gap: 12px;\n",
              "    }\n",
              "\n",
              "    .colab-df-convert {\n",
              "      background-color: #E8F0FE;\n",
              "      border: none;\n",
              "      border-radius: 50%;\n",
              "      cursor: pointer;\n",
              "      display: none;\n",
              "      fill: #1967D2;\n",
              "      height: 32px;\n",
              "      padding: 0 0 0 0;\n",
              "      width: 32px;\n",
              "    }\n",
              "\n",
              "    .colab-df-convert:hover {\n",
              "      background-color: #E2EBFA;\n",
              "      box-shadow: 0px 1px 2px rgba(60, 64, 67, 0.3), 0px 1px 3px 1px rgba(60, 64, 67, 0.15);\n",
              "      fill: #174EA6;\n",
              "    }\n",
              "\n",
              "    [theme=dark] .colab-df-convert {\n",
              "      background-color: #3B4455;\n",
              "      fill: #D2E3FC;\n",
              "    }\n",
              "\n",
              "    [theme=dark] .colab-df-convert:hover {\n",
              "      background-color: #434B5C;\n",
              "      box-shadow: 0px 1px 3px 1px rgba(0, 0, 0, 0.15);\n",
              "      filter: drop-shadow(0px 1px 2px rgba(0, 0, 0, 0.3));\n",
              "      fill: #FFFFFF;\n",
              "    }\n",
              "  </style>\n",
              "\n",
              "      <script>\n",
              "        const buttonEl =\n",
              "          document.querySelector('#df-a15bd7f4-8ee4-4453-bb92-65e904b5bc9a button.colab-df-convert');\n",
              "        buttonEl.style.display =\n",
              "          google.colab.kernel.accessAllowed ? 'block' : 'none';\n",
              "\n",
              "        async function convertToInteractive(key) {\n",
              "          const element = document.querySelector('#df-a15bd7f4-8ee4-4453-bb92-65e904b5bc9a');\n",
              "          const dataTable =\n",
              "            await google.colab.kernel.invokeFunction('convertToInteractive',\n",
              "                                                     [key], {});\n",
              "          if (!dataTable) return;\n",
              "\n",
              "          const docLinkHtml = 'Like what you see? Visit the ' +\n",
              "            '<a target=\"_blank\" href=https://colab.research.google.com/notebooks/data_table.ipynb>data table notebook</a>'\n",
              "            + ' to learn more about interactive tables.';\n",
              "          element.innerHTML = '';\n",
              "          dataTable['output_type'] = 'display_data';\n",
              "          await google.colab.output.renderOutput(dataTable, element);\n",
              "          const docLink = document.createElement('div');\n",
              "          docLink.innerHTML = docLinkHtml;\n",
              "          element.appendChild(docLink);\n",
              "        }\n",
              "      </script>\n",
              "    </div>\n",
              "  </div>\n",
              "  "
            ],
            "text/plain": [
              "   Delta_TP9  Delta_AF7  Delta_AF8  Delta_TP10  Theta_TP9  Theta_AF7  \\\n",
              "0        NaN        NaN        NaN         NaN        NaN        NaN   \n",
              "1   0.893279  -0.062322   0.380535    0.976929   0.724278  -0.427978   \n",
              "2   0.893279  -0.067885   0.276120    0.955166   0.724278  -0.417322   \n",
              "3   0.893279  -0.069740   0.241315    0.947912   0.724278  -0.413770   \n",
              "4   0.893279  -0.070667   0.223913    0.944285   0.724278  -0.411994   \n",
              "\n",
              "   Theta_AF8  Theta_TP10  Alpha_TP9  Alpha_AF7  ...  HeadBandOn  HSI_TP9  \\\n",
              "0        NaN         NaN        NaN        NaN  ...         NaN      NaN   \n",
              "1   0.177997    0.726609   0.728232  -0.023578  ...         1.0      1.0   \n",
              "2   0.105794    0.706989   0.728232  -0.023578  ...         1.0      1.0   \n",
              "3   0.081726    0.700449   0.728232  -0.023578  ...         1.0      1.0   \n",
              "4   0.069693    0.697179   0.728232  -0.023578  ...         1.0      1.0   \n",
              "\n",
              "   HSI_AF7  HSI_AF8  HSI_TP10  Battery   elapsed  Theta_AF7_norm  \\\n",
              "0      NaN      NaN       NaN      NaN       NaN             NaN   \n",
              "1      1.0      1.0       1.0     35.0  0.097000       -0.133552   \n",
              "2      1.0      1.0       1.0     35.0  0.097000       -0.122896   \n",
              "3      1.0      1.0       1.0     35.0  0.097667       -0.119344   \n",
              "4      1.0      1.0       1.0     35.0  0.098000       -0.117568   \n",
              "\n",
              "   Beta_AF7_norm  ThetaBetaRatio_AF7_norm  \n",
              "0            NaN                      NaN  \n",
              "1       0.384288                -0.347532  \n",
              "2       0.379881                -0.323230  \n",
              "3       0.378413                -0.315129  \n",
              "4       0.377678                -0.311079  \n",
              "\n",
              "[5 rows x 42 columns]"
            ]
          },
          "execution_count": 37,
          "metadata": {},
          "output_type": "execute_result"
        }
      ],
      "source": [
        "dfsec = df.rolling(256, min_periods=1).mean()\n",
        "dfsec.head()\n",
        "#dfs = dfsec.iloc[::30, :]"
      ]
    },
    {
      "cell_type": "code",
      "execution_count": null,
      "metadata": {
        "colab": {
          "base_uri": "https://localhost:8080/",
          "height": 299
        },
        "id": "uiTOVEYj49yQ",
        "outputId": "bf81c16d-50f9-49a1-d395-b828a101cb26"
      },
      "outputs": [
        {
          "data": {
            "text/html": [
              "\n",
              "  <div id=\"df-c6abbc7b-a68a-4acb-9e5f-2542253ece12\">\n",
              "    <div class=\"colab-df-container\">\n",
              "      <div>\n",
              "<style scoped>\n",
              "    .dataframe tbody tr th:only-of-type {\n",
              "        vertical-align: middle;\n",
              "    }\n",
              "\n",
              "    .dataframe tbody tr th {\n",
              "        vertical-align: top;\n",
              "    }\n",
              "\n",
              "    .dataframe thead th {\n",
              "        text-align: right;\n",
              "    }\n",
              "</style>\n",
              "<table border=\"1\" class=\"dataframe\">\n",
              "  <thead>\n",
              "    <tr style=\"text-align: right;\">\n",
              "      <th></th>\n",
              "      <th>Delta_TP9</th>\n",
              "      <th>Delta_AF7</th>\n",
              "      <th>Delta_AF8</th>\n",
              "      <th>Delta_TP10</th>\n",
              "      <th>Theta_TP9</th>\n",
              "      <th>Theta_AF7</th>\n",
              "      <th>Theta_AF8</th>\n",
              "      <th>Theta_TP10</th>\n",
              "      <th>Alpha_TP9</th>\n",
              "      <th>Alpha_AF7</th>\n",
              "      <th>...</th>\n",
              "      <th>HeadBandOn</th>\n",
              "      <th>HSI_TP9</th>\n",
              "      <th>HSI_AF7</th>\n",
              "      <th>HSI_AF8</th>\n",
              "      <th>HSI_TP10</th>\n",
              "      <th>Battery</th>\n",
              "      <th>elapsed</th>\n",
              "      <th>Theta_AF7_norm</th>\n",
              "      <th>Beta_AF7_norm</th>\n",
              "      <th>ThetaBetaRatio_AF7_norm</th>\n",
              "    </tr>\n",
              "  </thead>\n",
              "  <tbody>\n",
              "    <tr>\n",
              "      <th>0</th>\n",
              "      <td>NaN</td>\n",
              "      <td>NaN</td>\n",
              "      <td>NaN</td>\n",
              "      <td>NaN</td>\n",
              "      <td>NaN</td>\n",
              "      <td>NaN</td>\n",
              "      <td>NaN</td>\n",
              "      <td>NaN</td>\n",
              "      <td>NaN</td>\n",
              "      <td>NaN</td>\n",
              "      <td>...</td>\n",
              "      <td>NaN</td>\n",
              "      <td>NaN</td>\n",
              "      <td>NaN</td>\n",
              "      <td>NaN</td>\n",
              "      <td>NaN</td>\n",
              "      <td>NaN</td>\n",
              "      <td>NaN</td>\n",
              "      <td>NaN</td>\n",
              "      <td>NaN</td>\n",
              "      <td>NaN</td>\n",
              "    </tr>\n",
              "    <tr>\n",
              "      <th>30</th>\n",
              "      <td>0.893279</td>\n",
              "      <td>-0.073559</td>\n",
              "      <td>0.168613</td>\n",
              "      <td>0.933103</td>\n",
              "      <td>0.724278</td>\n",
              "      <td>-0.406602</td>\n",
              "      <td>0.032831</td>\n",
              "      <td>0.686825</td>\n",
              "      <td>0.728232</td>\n",
              "      <td>-0.023578</td>\n",
              "      <td>...</td>\n",
              "      <td>1.0</td>\n",
              "      <td>1.0</td>\n",
              "      <td>1.0</td>\n",
              "      <td>1.0</td>\n",
              "      <td>1.0</td>\n",
              "      <td>35.0</td>\n",
              "      <td>0.102933</td>\n",
              "      <td>-0.112176</td>\n",
              "      <td>0.375531</td>\n",
              "      <td>-0.298656</td>\n",
              "    </tr>\n",
              "    <tr>\n",
              "      <th>60</th>\n",
              "      <td>0.893279</td>\n",
              "      <td>-0.077120</td>\n",
              "      <td>0.085347</td>\n",
              "      <td>0.919546</td>\n",
              "      <td>0.724278</td>\n",
              "      <td>-0.399847</td>\n",
              "      <td>-0.013087</td>\n",
              "      <td>0.671110</td>\n",
              "      <td>0.728232</td>\n",
              "      <td>-0.023578</td>\n",
              "      <td>...</td>\n",
              "      <td>1.0</td>\n",
              "      <td>1.0</td>\n",
              "      <td>1.0</td>\n",
              "      <td>1.0</td>\n",
              "      <td>1.0</td>\n",
              "      <td>35.0</td>\n",
              "      <td>0.109767</td>\n",
              "      <td>-0.105422</td>\n",
              "      <td>0.373266</td>\n",
              "      <td>-0.282288</td>\n",
              "    </tr>\n",
              "    <tr>\n",
              "      <th>90</th>\n",
              "      <td>0.893279</td>\n",
              "      <td>-0.076505</td>\n",
              "      <td>0.029959</td>\n",
              "      <td>0.916427</td>\n",
              "      <td>0.724278</td>\n",
              "      <td>-0.393846</td>\n",
              "      <td>-0.039477</td>\n",
              "      <td>0.659111</td>\n",
              "      <td>0.728232</td>\n",
              "      <td>-0.023578</td>\n",
              "      <td>...</td>\n",
              "      <td>1.0</td>\n",
              "      <td>1.0</td>\n",
              "      <td>1.0</td>\n",
              "      <td>1.0</td>\n",
              "      <td>1.0</td>\n",
              "      <td>35.0</td>\n",
              "      <td>0.115956</td>\n",
              "      <td>-0.099420</td>\n",
              "      <td>0.370633</td>\n",
              "      <td>-0.267904</td>\n",
              "    </tr>\n",
              "    <tr>\n",
              "      <th>120</th>\n",
              "      <td>0.893279</td>\n",
              "      <td>-0.070616</td>\n",
              "      <td>-0.006359</td>\n",
              "      <td>0.922977</td>\n",
              "      <td>0.724278</td>\n",
              "      <td>-0.386986</td>\n",
              "      <td>-0.053021</td>\n",
              "      <td>0.649806</td>\n",
              "      <td>0.728232</td>\n",
              "      <td>-0.021521</td>\n",
              "      <td>...</td>\n",
              "      <td>1.0</td>\n",
              "      <td>1.0</td>\n",
              "      <td>1.0</td>\n",
              "      <td>1.0</td>\n",
              "      <td>1.0</td>\n",
              "      <td>35.0</td>\n",
              "      <td>0.122392</td>\n",
              "      <td>-0.092560</td>\n",
              "      <td>0.366856</td>\n",
              "      <td>-0.251482</td>\n",
              "    </tr>\n",
              "  </tbody>\n",
              "</table>\n",
              "<p>5 rows × 42 columns</p>\n",
              "</div>\n",
              "      <button class=\"colab-df-convert\" onclick=\"convertToInteractive('df-c6abbc7b-a68a-4acb-9e5f-2542253ece12')\"\n",
              "              title=\"Convert this dataframe to an interactive table.\"\n",
              "              style=\"display:none;\">\n",
              "        \n",
              "  <svg xmlns=\"http://www.w3.org/2000/svg\" height=\"24px\"viewBox=\"0 0 24 24\"\n",
              "       width=\"24px\">\n",
              "    <path d=\"M0 0h24v24H0V0z\" fill=\"none\"/>\n",
              "    <path d=\"M18.56 5.44l.94 2.06.94-2.06 2.06-.94-2.06-.94-.94-2.06-.94 2.06-2.06.94zm-11 1L8.5 8.5l.94-2.06 2.06-.94-2.06-.94L8.5 2.5l-.94 2.06-2.06.94zm10 10l.94 2.06.94-2.06 2.06-.94-2.06-.94-.94-2.06-.94 2.06-2.06.94z\"/><path d=\"M17.41 7.96l-1.37-1.37c-.4-.4-.92-.59-1.43-.59-.52 0-1.04.2-1.43.59L10.3 9.45l-7.72 7.72c-.78.78-.78 2.05 0 2.83L4 21.41c.39.39.9.59 1.41.59.51 0 1.02-.2 1.41-.59l7.78-7.78 2.81-2.81c.8-.78.8-2.07 0-2.86zM5.41 20L4 18.59l7.72-7.72 1.47 1.35L5.41 20z\"/>\n",
              "  </svg>\n",
              "      </button>\n",
              "      \n",
              "  <style>\n",
              "    .colab-df-container {\n",
              "      display:flex;\n",
              "      flex-wrap:wrap;\n",
              "      gap: 12px;\n",
              "    }\n",
              "\n",
              "    .colab-df-convert {\n",
              "      background-color: #E8F0FE;\n",
              "      border: none;\n",
              "      border-radius: 50%;\n",
              "      cursor: pointer;\n",
              "      display: none;\n",
              "      fill: #1967D2;\n",
              "      height: 32px;\n",
              "      padding: 0 0 0 0;\n",
              "      width: 32px;\n",
              "    }\n",
              "\n",
              "    .colab-df-convert:hover {\n",
              "      background-color: #E2EBFA;\n",
              "      box-shadow: 0px 1px 2px rgba(60, 64, 67, 0.3), 0px 1px 3px 1px rgba(60, 64, 67, 0.15);\n",
              "      fill: #174EA6;\n",
              "    }\n",
              "\n",
              "    [theme=dark] .colab-df-convert {\n",
              "      background-color: #3B4455;\n",
              "      fill: #D2E3FC;\n",
              "    }\n",
              "\n",
              "    [theme=dark] .colab-df-convert:hover {\n",
              "      background-color: #434B5C;\n",
              "      box-shadow: 0px 1px 3px 1px rgba(0, 0, 0, 0.15);\n",
              "      filter: drop-shadow(0px 1px 2px rgba(0, 0, 0, 0.3));\n",
              "      fill: #FFFFFF;\n",
              "    }\n",
              "  </style>\n",
              "\n",
              "      <script>\n",
              "        const buttonEl =\n",
              "          document.querySelector('#df-c6abbc7b-a68a-4acb-9e5f-2542253ece12 button.colab-df-convert');\n",
              "        buttonEl.style.display =\n",
              "          google.colab.kernel.accessAllowed ? 'block' : 'none';\n",
              "\n",
              "        async function convertToInteractive(key) {\n",
              "          const element = document.querySelector('#df-c6abbc7b-a68a-4acb-9e5f-2542253ece12');\n",
              "          const dataTable =\n",
              "            await google.colab.kernel.invokeFunction('convertToInteractive',\n",
              "                                                     [key], {});\n",
              "          if (!dataTable) return;\n",
              "\n",
              "          const docLinkHtml = 'Like what you see? Visit the ' +\n",
              "            '<a target=\"_blank\" href=https://colab.research.google.com/notebooks/data_table.ipynb>data table notebook</a>'\n",
              "            + ' to learn more about interactive tables.';\n",
              "          element.innerHTML = '';\n",
              "          dataTable['output_type'] = 'display_data';\n",
              "          await google.colab.output.renderOutput(dataTable, element);\n",
              "          const docLink = document.createElement('div');\n",
              "          docLink.innerHTML = docLinkHtml;\n",
              "          element.appendChild(docLink);\n",
              "        }\n",
              "      </script>\n",
              "    </div>\n",
              "  </div>\n",
              "  "
            ],
            "text/plain": [
              "     Delta_TP9  Delta_AF7  Delta_AF8  Delta_TP10  Theta_TP9  Theta_AF7  \\\n",
              "0          NaN        NaN        NaN         NaN        NaN        NaN   \n",
              "30    0.893279  -0.073559   0.168613    0.933103   0.724278  -0.406602   \n",
              "60    0.893279  -0.077120   0.085347    0.919546   0.724278  -0.399847   \n",
              "90    0.893279  -0.076505   0.029959    0.916427   0.724278  -0.393846   \n",
              "120   0.893279  -0.070616  -0.006359    0.922977   0.724278  -0.386986   \n",
              "\n",
              "     Theta_AF8  Theta_TP10  Alpha_TP9  Alpha_AF7  ...  HeadBandOn  HSI_TP9  \\\n",
              "0          NaN         NaN        NaN        NaN  ...         NaN      NaN   \n",
              "30    0.032831    0.686825   0.728232  -0.023578  ...         1.0      1.0   \n",
              "60   -0.013087    0.671110   0.728232  -0.023578  ...         1.0      1.0   \n",
              "90   -0.039477    0.659111   0.728232  -0.023578  ...         1.0      1.0   \n",
              "120  -0.053021    0.649806   0.728232  -0.021521  ...         1.0      1.0   \n",
              "\n",
              "     HSI_AF7  HSI_AF8  HSI_TP10  Battery   elapsed  Theta_AF7_norm  \\\n",
              "0        NaN      NaN       NaN      NaN       NaN             NaN   \n",
              "30       1.0      1.0       1.0     35.0  0.102933       -0.112176   \n",
              "60       1.0      1.0       1.0     35.0  0.109767       -0.105422   \n",
              "90       1.0      1.0       1.0     35.0  0.115956       -0.099420   \n",
              "120      1.0      1.0       1.0     35.0  0.122392       -0.092560   \n",
              "\n",
              "     Beta_AF7_norm  ThetaBetaRatio_AF7_norm  \n",
              "0              NaN                      NaN  \n",
              "30        0.375531                -0.298656  \n",
              "60        0.373266                -0.282288  \n",
              "90        0.370633                -0.267904  \n",
              "120       0.366856                -0.251482  \n",
              "\n",
              "[5 rows x 42 columns]"
            ]
          },
          "execution_count": 36,
          "metadata": {},
          "output_type": "execute_result"
        }
      ],
      "source": [
        "dfs.head()"
      ]
    },
    {
      "cell_type": "markdown",
      "metadata": {
        "id": "uIBRr19cYGpD"
      },
      "source": [
        "# exploratory analysis"
      ]
    },
    {
      "cell_type": "code",
      "execution_count": null,
      "metadata": {
        "id": "BPMxSE9OYI1q"
      },
      "outputs": [],
      "source": [
        "#load \n",
        "import pandas as pd\n",
        "import numpy as np\n",
        "import seaborn as sns\n",
        "import matplotlib.pyplot as plt\n",
        "\n",
        "url = 'https://www.dropbox.com/s/uq60t8qy33i21dt/mindMonitor_2023-02-14--09-43-07_huberman_cyclic_breath_work.csv?dl=1'\n",
        "dfraw = pd.read_csv(url)\n",
        "\n",
        "dfraw.head()"
      ]
    },
    {
      "cell_type": "code",
      "execution_count": null,
      "metadata": {
        "id": "ko_VjyJLaYjc"
      },
      "outputs": [],
      "source": [
        "# reduce file size\n",
        "\n",
        "# df = (dfraw.select_dtypes('number')\n",
        "#    .rolling(256, min_periods=1).mean()\n",
        "#    .join(dfraw.select_dtypes(exclude='number'))\n",
        "#    [dfraw.columns]\n",
        "#  )\n",
        "\n",
        "# df = df[::512]\n",
        "\n",
        "# print ('length of df', len(df))\n",
        "\n",
        "# df.head(20)\n",
        "\n",
        "#reduce 0.5 second intervals to 10 second rolling average\n",
        "\n",
        "df = (dfraw.select_dtypes('number')\n",
        "   .rolling(150, min_periods=1).mean()\n",
        "   .join(dfraw.select_dtypes(exclude='number'))\n",
        "   [dfraw.columns]\n",
        " )\n",
        "\n",
        "df.head(20)"
      ]
    },
    {
      "cell_type": "code",
      "execution_count": null,
      "metadata": {
        "id": "zG6D0-kwb4GV"
      },
      "outputs": [],
      "source": [
        "#norming data and ratio\n",
        "\n",
        "\n",
        "df['Theta_AF8_norm'] = (df['Theta_AF8']-df['Theta_AF8'].min()) / ((df['Theta_AF8'].max()-df['Theta_AF8'].min()))\n",
        "df['Theta_AF8_norm'] = (df['Theta_AF8']-df['Theta_AF8'].min()) / ((df['Theta_AF8'].max()-df['Theta_AF8'].min()))\n",
        "\n",
        "df['Beta_AF8_norm'] = (df['Beta_AF8']-df['Beta_AF8'].min()) / ((df['Beta_AF8'].max()-df['Beta_AF8'].min()))\n",
        "df['Beta_AF7_norm'] = (df['Beta_AF7']-df['Beta_AF7'].min()) / ((df['Beta_AF7'].max()-df['Beta_AF7'].min()))\n",
        "\n",
        "\n",
        "df['Beta_AF8_af7_combined_norm'] = df['Beta_AF8_norm'] + df['Beta_AF7_norm']\n",
        "\n",
        "\n",
        "\n",
        "df['ThetaBetaRatio_AF8_norm'] = df['Theta_AF8_norm'] / df['Beta_AF8_norm']\n",
        "\n",
        "df['Delta_AF7_norm'] = (df['Delta_AF7']-df['Delta_AF7'].min()) / ((df['Delta_AF7'].max()-df['Delta_AF7'].min()))\n",
        "\n",
        "\n",
        "df.head(20)"
      ]
    },
    {
      "cell_type": "code",
      "execution_count": null,
      "metadata": {
        "colab": {
          "base_uri": "https://localhost:8080/",
          "height": 559
        },
        "id": "bsR7dzQEb9UR",
        "outputId": "ab988de5-1ab1-4b15-aea4-ec74e8962a25"
      },
      "outputs": [
        {
          "data": {
            "image/png": "[encoded data removed]",
            "text/plain": [
              "<Figure size 1500x800 with 1 Axes>"
            ]
          },
          "metadata": {},
          "output_type": "display_data"
        }
      ],
      "source": [
        "import matplotlib.pyplot as plt\n",
        "import matplotlib.ticker as ticker\n",
        "import seaborn as sns\n",
        "import numpy as np\n",
        "\n",
        "\n",
        "fig, ax = plt.subplots(figsize=(15, 8))\n",
        "\n",
        "#ax = sns.lineplot(x='TimeStamp', y='Beta_AF8_af7_combined_norm', data=df, ax=ax )\n",
        "\n",
        "ax = sns.lineplot(x='TimeStamp', y='Delta_AF7', data=df, ax=ax )\n",
        "\n",
        "ax.set_xlabel('TimeStamp')\n",
        "ax.set_ylabel('Normalized Values')\n",
        "plt.show()\n",
        "\n",
        "ax.set(ylim=(-0.5, 3))\n",
        "ax.tick_params(axis='x', rotation=45)\n",
        "ax.xaxis.set_major_locator(ticker.MultipleLocator(100))"
      ]
    },
    {
      "cell_type": "markdown",
      "metadata": {
        "id": "vmUIOcj7RdTJ"
      },
      "source": [
        "##entropy"
      ]
    },
    {
      "cell_type": "code",
      "execution_count": null,
      "metadata": {
        "colab": {
          "base_uri": "https://localhost:8080/"
        },
        "id": "DJQX8CQdRcFP",
        "outputId": "734ed1c1-9e11-47e0-c1d3-4913fde298d3"
      },
      "outputs": [
        {
          "name": "stdout",
          "output_type": "stream",
          "text": [
            "Looking in indexes: https://pypi.org/simple, https://us-python.pkg.dev/colab-wheels/public/simple/\n",
            "Collecting antropy\n",
            "  Downloading antropy-0.1.5.tar.gz (17 kB)\n",
            "  Installing build dependencies ... \u001b[?25l\u001b[?25hdone\n",
            "  Getting requirements to build wheel ... \u001b[?25l\u001b[?25hdone\n",
            "  Preparing metadata (pyproject.toml) ... \u001b[?25l\u001b[?25hdone\n",
            "Collecting stochastic\n",
            "  Downloading stochastic-0.7.0-py3-none-any.whl (48 kB)\n",
            "\u001b[2K     \u001b[90m━━━━━━━━━━━━━━━━━━━━━━━━━━━━━━━━━━━━━━━━\u001b[0m \u001b[32m48.1/48.1 KB\u001b[0m \u001b[31m5.3 MB/s\u001b[0m eta \u001b[36m0:00:00\u001b[0m\n",
            "\u001b[?25hRequirement already satisfied: scipy<2.0,>=1.8 in /usr/local/lib/python3.9/dist-packages (from stochastic->antropy) (1.10.1)\n",
            "Requirement already satisfied: numpy<2.0,>=1.19 in /usr/local/lib/python3.9/dist-packages (from stochastic->antropy) (1.22.4)\n",
            "Building wheels for collected packages: antropy\n",
            "  Building wheel for antropy (pyproject.toml) ... \u001b[?25l\u001b[?25hdone\n",
            "  Created wheel for antropy: filename=antropy-0.1.5-py3-none-any.whl size=16892 sha256=a160d30cb89190921db28e68bd7af87ac06b47ca336e628c68d05a72b4a4f80e\n",
            "  Stored in directory: /root/.cache/pip/wheels/12/27/70/53866b1558c89df79d67411b20b094bcf304dec8f5c7a13ba9\n",
            "Successfully built antropy\n",
            "Installing collected packages: stochastic, antropy\n",
            "Successfully installed antropy-0.1.5 stochastic-0.7.0\n"
          ]
        }
      ],
      "source": [
        "!pip install antropy\n",
        "import antropy as ant"
      ]
    },
    {
      "cell_type": "code",
      "execution_count": null,
      "metadata": {
        "colab": {
          "base_uri": "https://localhost:8080/"
        },
        "id": "384ZL1swRq1m",
        "outputId": "98d0be81-f7b9-4bde-ae6f-7c0c73a03b49"
      },
      "outputs": [
        {
          "data": {
            "text/plain": [
              "4203"
            ]
          },
          "execution_count": 18,
          "metadata": {},
          "output_type": "execute_result"
        }
      ],
      "source": [
        "len(df)\n",
        "\n",
        "#https://www.analyticsvidhya.com/blog/2020/11/entropy-a-key-concept-for-all-data-science-beginners/"
      ]
    },
    {
      "cell_type": "code",
      "execution_count": null,
      "metadata": {
        "colab": {
          "base_uri": "https://localhost:8080/"
        },
        "id": "msC_sxSAR6oc",
        "outputId": "c3beabf8-42f1-4bb8-b7de-2ed3153cd9b7"
      },
      "outputs": [
        {
          "name": "stdout",
          "output_type": "stream",
          "text": [
            "0.7490919542861671\n",
            "0.23509107964684098\n",
            "(0.0352107439823444, 16.60612984353387)\n",
            "0\n",
            "1.3597696150205727\n"
          ]
        }
      ],
      "source": [
        "dfs = df.iloc[3500:]\n",
        "x = dfs['Beta_AF8_norm'][df['Beta_AF8_norm'].notna()]\n",
        "# Permutation entropy\n",
        "print(ant.perm_entropy(x, normalize=True))\n",
        "# Spectral entropy\n",
        "print(ant.spectral_entropy(x, sf=100, method='welch', normalize=True))\n",
        "# Singular value decomposition entropy\n",
        "#print(ant.svd_entropy(x, normalize=True))\n",
        "# Approximate entropy\n",
        "#print(ant.app_entropy(x))\n",
        "# Sample entropy\n",
        "#print('sample entroy', ant.sample_entropy(x))\n",
        "# Hjorth mobility and complexity\n",
        "print(ant.hjorth_params(x))\n",
        "# Number of zero-crossings\n",
        "print(ant.num_zerocross(x))\n",
        "# Lempel-Ziv complexity\n",
        "print(ant.lziv_complexity('01111000011001', normalize=True))"
      ]
    },
    {
      "cell_type": "markdown",
      "metadata": {
        "id": "bvEGJ4eQsGEJ"
      },
      "source": [
        "#sleep analysis"
      ]
    },
    {
      "cell_type": "code",
      "execution_count": null,
      "metadata": {
        "colab": {
          "base_uri": "https://localhost:8080/"
        },
        "id": "6-3x2pAesFlw",
        "outputId": "499fee2e-ae60-4797-d525-7276cab9a57b"
      },
      "outputs": [
        {
          "name": "stdout",
          "output_type": "stream",
          "text": [
            "Looking in indexes: https://pypi.org/simple, https://us-python.pkg.dev/colab-wheels/public/simple/\n",
            "Collecting yasa\n",
            "  Downloading yasa-0.6.3.tar.gz (33.8 MB)\n",
            "\u001b[2K     \u001b[90m━━━━━━━━━━━━━━━━━━━━━━━━━━━━━━━━━━━━━━━━\u001b[0m \u001b[32m33.8/33.8 MB\u001b[0m \u001b[31m4.0 MB/s\u001b[0m eta \u001b[36m0:00:00\u001b[0m\n",
            "\u001b[?25h  Installing build dependencies ... \u001b[?25l\u001b[?25hdone\n",
            "  Getting requirements to build wheel ... \u001b[?25l\u001b[?25hdone\n",
            "  Preparing metadata (pyproject.toml) ... \u001b[?25l\u001b[?25hdone\n",
            "Requirement already satisfied: numpy>=1.16.5 in /usr/local/lib/python3.10/dist-packages (from yasa) (1.22.4)\n",
            "Requirement already satisfied: scipy in /usr/local/lib/python3.10/dist-packages (from yasa) (1.10.1)\n",
            "Requirement already satisfied: pandas in /usr/local/lib/python3.10/dist-packages (from yasa) (1.5.3)\n",
            "Requirement already satisfied: matplotlib in /usr/local/lib/python3.10/dist-packages (from yasa) (3.7.1)\n",
            "Requirement already satisfied: seaborn in /usr/local/lib/python3.10/dist-packages (from yasa) (0.12.2)\n",
            "Requirement already satisfied: mne>=0.23 in /usr/local/lib/python3.10/dist-packages (from yasa) (1.4.0)\n",
            "Requirement already satisfied: numba in /usr/local/lib/python3.10/dist-packages (from yasa) (0.56.4)\n",
            "Collecting outdated (from yasa)\n",
            "  Downloading outdated-0.2.2-py2.py3-none-any.whl (7.5 kB)\n",
            "Collecting antropy (from yasa)\n",
            "  Downloading antropy-0.1.5.tar.gz (17 kB)\n",
            "  Installing build dependencies ... \u001b[?25l\u001b[?25hdone\n",
            "  Getting requirements to build wheel ... \u001b[?25l\u001b[?25hdone\n",
            "  Preparing metadata (pyproject.toml) ... \u001b[?25l\u001b[?25hdone\n",
            "Requirement already satisfied: scikit-learn in /usr/local/lib/python3.10/dist-packages (from yasa) (1.2.2)\n",
            "Collecting tensorpac>=0.6.5 (from yasa)\n",
            "  Downloading tensorpac-0.6.5-py3-none-any.whl (423 kB)\n",
            "\u001b[2K     \u001b[90m━━━━━━━━━━━━━━━━━━━━━━━━━━━━━━━━━━━━━━\u001b[0m \u001b[32m423.6/423.6 kB\u001b[0m \u001b[31m35.2 MB/s\u001b[0m eta \u001b[36m0:00:00\u001b[0m\n",
            "\u001b[?25hCollecting pyriemann>=0.2.7 (from yasa)\n",
            "  Downloading pyriemann-0.4.tar.gz (90 kB)\n",
            "\u001b[2K     \u001b[90m━━━━━━━━━━━━━━━━━━━━━━━━━━━━━━━━━━━━━━━━\u001b[0m \u001b[32m90.6/90.6 kB\u001b[0m \u001b[31m11.1 MB/s\u001b[0m eta \u001b[36m0:00:00\u001b[0m\n",
            "\u001b[?25h  Preparing metadata (setup.py) ... \u001b[?25l\u001b[?25hdone\n",
            "Collecting sleepecg>=0.5.0 (from yasa)\n",
            "  Downloading sleepecg-0.5.4-cp310-cp310-manylinux_2_5_x86_64.manylinux1_x86_64.manylinux_2_17_x86_64.manylinux2014_x86_64.whl (2.3 MB)\n",
            "\u001b[2K     \u001b[90m━━━━━━━━━━━━━━━━━━━━━━━━━━━━━━━━━━━━━━━━\u001b[0m \u001b[32m2.3/2.3 MB\u001b[0m \u001b[31m4.7 MB/s\u001b[0m eta \u001b[36m0:00:00\u001b[0m\n",
            "\u001b[?25hCollecting lspopt (from yasa)\n",
            "  Downloading lspopt-1.3.0-py2.py3-none-any.whl (35 kB)\n",
            "Requirement already satisfied: ipywidgets in /usr/local/lib/python3.10/dist-packages (from yasa) (7.7.1)\n",
            "Requirement already satisfied: joblib in /usr/local/lib/python3.10/dist-packages (from yasa) (1.2.0)\n",
            "Requirement already satisfied: lightgbm in /usr/local/lib/python3.10/dist-packages (from yasa) (3.3.5)\n",
            "Requirement already satisfied: tqdm in /usr/local/lib/python3.10/dist-packages (from mne>=0.23->yasa) (4.65.0)\n",
            "Requirement already satisfied: pooch>=1.5 in /usr/local/lib/python3.10/dist-packages (from mne>=0.23->yasa) (1.6.0)\n",
            "Requirement already satisfied: decorator in /usr/local/lib/python3.10/dist-packages (from mne>=0.23->yasa) (4.4.2)\n",
            "Requirement already satisfied: packaging in /usr/local/lib/python3.10/dist-packages (from mne>=0.23->yasa) (23.1)\n",
            "Requirement already satisfied: jinja2 in /usr/local/lib/python3.10/dist-packages (from mne>=0.23->yasa) (3.1.2)\n",
            "Requirement already satisfied: PyYAML>=5.4.0 in /usr/local/lib/python3.10/dist-packages (from sleepecg>=0.5.0->yasa) (6.0)\n",
            "Requirement already satisfied: requests>=2.25.0 in /usr/local/lib/python3.10/dist-packages (from sleepecg>=0.5.0->yasa) (2.27.1)\n",
            "Collecting stochastic (from antropy->yasa)\n",
            "  Downloading stochastic-0.7.0-py3-none-any.whl (48 kB)\n",
            "\u001b[2K     \u001b[90m━━━━━━━━━━━━━━━━━━━━━━━━━━━━━━━━━━━━━━━━\u001b[0m \u001b[32m48.1/48.1 kB\u001b[0m \u001b[31m5.7 MB/s\u001b[0m eta \u001b[36m0:00:00\u001b[0m\n",
            "\u001b[?25hRequirement already satisfied: ipykernel>=4.5.1 in /usr/local/lib/python3.10/dist-packages (from ipywidgets->yasa) (5.5.6)\n",
            "Requirement already satisfied: ipython-genutils~=0.2.0 in /usr/local/lib/python3.10/dist-packages (from ipywidgets->yasa) (0.2.0)\n",
            "Requirement already satisfied: traitlets>=4.3.1 in /usr/local/lib/python3.10/dist-packages (from ipywidgets->yasa) (5.7.1)\n",
            "Requirement already satisfied: widgetsnbextension~=3.6.0 in /usr/local/lib/python3.10/dist-packages (from ipywidgets->yasa) (3.6.4)\n",
            "Requirement already satisfied: ipython>=4.0.0 in /usr/local/lib/python3.10/dist-packages (from ipywidgets->yasa) (7.34.0)\n",
            "Requirement already satisfied: jupyterlab-widgets>=1.0.0 in /usr/local/lib/python3.10/dist-packages (from ipywidgets->yasa) (3.0.7)\n",
            "Requirement already satisfied: wheel in /usr/local/lib/python3.10/dist-packages (from lightgbm->yasa) (0.40.0)\n",
            "Requirement already satisfied: threadpoolctl>=2.0.0 in /usr/local/lib/python3.10/dist-packages (from scikit-learn->yasa) (3.1.0)\n",
            "Requirement already satisfied: contourpy>=1.0.1 in /usr/local/lib/python3.10/dist-packages (from matplotlib->yasa) (1.0.7)\n",
            "Requirement already satisfied: cycler>=0.10 in /usr/local/lib/python3.10/dist-packages (from matplotlib->yasa) (0.11.0)\n",
            "Requirement already satisfied: fonttools>=4.22.0 in /usr/local/lib/python3.10/dist-packages (from matplotlib->yasa) (4.39.3)\n",
            "Requirement already satisfied: kiwisolver>=1.0.1 in /usr/local/lib/python3.10/dist-packages (from matplotlib->yasa) (1.4.4)\n",
            "Requirement already satisfied: pillow>=6.2.0 in /usr/local/lib/python3.10/dist-packages (from matplotlib->yasa) (8.4.0)\n",
            "Requirement already satisfied: pyparsing>=2.3.1 in /usr/local/lib/python3.10/dist-packages (from matplotlib->yasa) (3.0.9)\n",
            "Requirement already satisfied: python-dateutil>=2.7 in /usr/local/lib/python3.10/dist-packages (from matplotlib->yasa) (2.8.2)\n",
            "Requirement already satisfied: llvmlite<0.40,>=0.39.0dev0 in /usr/local/lib/python3.10/dist-packages (from numba->yasa) (0.39.1)\n",
            "Requirement already satisfied: setuptools in /usr/local/lib/python3.10/dist-packages (from numba->yasa) (67.7.2)\n",
            "Collecting littleutils (from outdated->yasa)\n",
            "  Downloading littleutils-0.2.2.tar.gz (6.6 kB)\n",
            "  Preparing metadata (setup.py) ... \u001b[?25l\u001b[?25hdone\n",
            "Requirement already satisfied: pytz>=2020.1 in /usr/local/lib/python3.10/dist-packages (from pandas->yasa) (2022.7.1)\n",
            "Requirement already satisfied: jupyter-client in /usr/local/lib/python3.10/dist-packages (from ipykernel>=4.5.1->ipywidgets->yasa) (6.1.12)\n",
            "Requirement already satisfied: tornado>=4.2 in /usr/local/lib/python3.10/dist-packages (from ipykernel>=4.5.1->ipywidgets->yasa) (6.2)\n",
            "Collecting jedi>=0.16 (from ipython>=4.0.0->ipywidgets->yasa)\n",
            "  Downloading jedi-0.18.2-py2.py3-none-any.whl (1.6 MB)\n",
            "\u001b[2K     \u001b[90m━━━━━━━━━━━━━━━━━━━━━━━━━━━━━━━━━━━━━━━━\u001b[0m \u001b[32m1.6/1.6 MB\u001b[0m \u001b[31m67.3 MB/s\u001b[0m eta \u001b[36m0:00:00\u001b[0m\n",
            "\u001b[?25hRequirement already satisfied: pickleshare in /usr/local/lib/python3.10/dist-packages (from ipython>=4.0.0->ipywidgets->yasa) (0.7.5)\n",
            "Requirement already satisfied: prompt-toolkit!=3.0.0,!=3.0.1,<3.1.0,>=2.0.0 in /usr/local/lib/python3.10/dist-packages (from ipython>=4.0.0->ipywidgets->yasa) (3.0.38)\n",
            "Requirement already satisfied: pygments in /usr/local/lib/python3.10/dist-packages (from ipython>=4.0.0->ipywidgets->yasa) (2.14.0)\n",
            "Requirement already satisfied: backcall in /usr/local/lib/python3.10/dist-packages (from ipython>=4.0.0->ipywidgets->yasa) (0.2.0)\n",
            "Requirement already satisfied: matplotlib-inline in /usr/local/lib/python3.10/dist-packages (from ipython>=4.0.0->ipywidgets->yasa) (0.1.6)\n",
            "Requirement already satisfied: pexpect>4.3 in /usr/local/lib/python3.10/dist-packages (from ipython>=4.0.0->ipywidgets->yasa) (4.8.0)\n",
            "Requirement already satisfied: appdirs>=1.3.0 in /usr/local/lib/python3.10/dist-packages (from pooch>=1.5->mne>=0.23->yasa) (1.4.4)\n",
            "Requirement already satisfied: six>=1.5 in /usr/local/lib/python3.10/dist-packages (from python-dateutil>=2.7->matplotlib->yasa) (1.16.0)\n",
            "Requirement already satisfied: urllib3<1.27,>=1.21.1 in /usr/local/lib/python3.10/dist-packages (from requests>=2.25.0->sleepecg>=0.5.0->yasa) (1.26.15)\n",
            "Requirement already satisfied: certifi>=2017.4.17 in /usr/local/lib/python3.10/dist-packages (from requests>=2.25.0->sleepecg>=0.5.0->yasa) (2022.12.7)\n",
            "Requirement already satisfied: charset-normalizer~=2.0.0 in /usr/local/lib/python3.10/dist-packages (from requests>=2.25.0->sleepecg>=0.5.0->yasa) (2.0.12)\n",
            "Requirement already satisfied: idna<4,>=2.5 in /usr/local/lib/python3.10/dist-packages (from requests>=2.25.0->sleepecg>=0.5.0->yasa) (3.4)\n",
            "Requirement already satisfied: notebook>=4.4.1 in /usr/local/lib/python3.10/dist-packages (from widgetsnbextension~=3.6.0->ipywidgets->yasa) (6.4.8)\n",
            "Requirement already satisfied: MarkupSafe>=2.0 in /usr/local/lib/python3.10/dist-packages (from jinja2->mne>=0.23->yasa) (2.1.2)\n",
            "Requirement already satisfied: parso<0.9.0,>=0.8.0 in /usr/local/lib/python3.10/dist-packages (from jedi>=0.16->ipython>=4.0.0->ipywidgets->yasa) (0.8.3)\n",
            "Requirement already satisfied: pyzmq>=17 in /usr/local/lib/python3.10/dist-packages (from notebook>=4.4.1->widgetsnbextension~=3.6.0->ipywidgets->yasa) (23.2.1)\n",
            "Requirement already satisfied: argon2-cffi in /usr/local/lib/python3.10/dist-packages (from notebook>=4.4.1->widgetsnbextension~=3.6.0->ipywidgets->yasa) (21.3.0)\n",
            "Requirement already satisfied: jupyter-core>=4.6.1 in /usr/local/lib/python3.10/dist-packages (from notebook>=4.4.1->widgetsnbextension~=3.6.0->ipywidgets->yasa) (5.3.0)\n",
            "Requirement already satisfied: nbformat in /usr/local/lib/python3.10/dist-packages (from notebook>=4.4.1->widgetsnbextension~=3.6.0->ipywidgets->yasa) (5.8.0)\n",
            "Requirement already satisfied: nbconvert in /usr/local/lib/python3.10/dist-packages (from notebook>=4.4.1->widgetsnbextension~=3.6.0->ipywidgets->yasa) (6.5.4)\n",
            "Requirement already satisfied: nest-asyncio>=1.5 in /usr/local/lib/python3.10/dist-packages (from notebook>=4.4.1->widgetsnbextension~=3.6.0->ipywidgets->yasa) (1.5.6)\n",
            "Requirement already satisfied: Send2Trash>=1.8.0 in /usr/local/lib/python3.10/dist-packages (from notebook>=4.4.1->widgetsnbextension~=3.6.0->ipywidgets->yasa) (1.8.0)\n",
            "Requirement already satisfied: terminado>=0.8.3 in /usr/local/lib/python3.10/dist-packages (from notebook>=4.4.1->widgetsnbextension~=3.6.0->ipywidgets->yasa) (0.17.1)\n",
            "Requirement already satisfied: prometheus-client in /usr/local/lib/python3.10/dist-packages (from notebook>=4.4.1->widgetsnbextension~=3.6.0->ipywidgets->yasa) (0.16.0)\n",
            "Requirement already satisfied: ptyprocess>=0.5 in /usr/local/lib/python3.10/dist-packages (from pexpect>4.3->ipython>=4.0.0->ipywidgets->yasa) (0.7.0)\n",
            "Requirement already satisfied: wcwidth in /usr/local/lib/python3.10/dist-packages (from prompt-toolkit!=3.0.0,!=3.0.1,<3.1.0,>=2.0.0->ipython>=4.0.0->ipywidgets->yasa) (0.2.6)\n",
            "Requirement already satisfied: platformdirs>=2.5 in /usr/local/lib/python3.10/dist-packages (from jupyter-core>=4.6.1->notebook>=4.4.1->widgetsnbextension~=3.6.0->ipywidgets->yasa) (3.3.0)\n",
            "Requirement already satisfied: argon2-cffi-bindings in /usr/local/lib/python3.10/dist-packages (from argon2-cffi->notebook>=4.4.1->widgetsnbextension~=3.6.0->ipywidgets->yasa) (21.2.0)\n",
            "Requirement already satisfied: lxml in /usr/local/lib/python3.10/dist-packages (from nbconvert->notebook>=4.4.1->widgetsnbextension~=3.6.0->ipywidgets->yasa) (4.9.2)\n",
            "Requirement already satisfied: beautifulsoup4 in /usr/local/lib/python3.10/dist-packages (from nbconvert->notebook>=4.4.1->widgetsnbextension~=3.6.0->ipywidgets->yasa) (4.11.2)\n",
            "Requirement already satisfied: bleach in /usr/local/lib/python3.10/dist-packages (from nbconvert->notebook>=4.4.1->widgetsnbextension~=3.6.0->ipywidgets->yasa) (6.0.0)\n",
            "Requirement already satisfied: defusedxml in /usr/local/lib/python3.10/dist-packages (from nbconvert->notebook>=4.4.1->widgetsnbextension~=3.6.0->ipywidgets->yasa) (0.7.1)\n",
            "Requirement already satisfied: entrypoints>=0.2.2 in /usr/local/lib/python3.10/dist-packages (from nbconvert->notebook>=4.4.1->widgetsnbextension~=3.6.0->ipywidgets->yasa) (0.4)\n",
            "Requirement already satisfied: jupyterlab-pygments in /usr/local/lib/python3.10/dist-packages (from nbconvert->notebook>=4.4.1->widgetsnbextension~=3.6.0->ipywidgets->yasa) (0.2.2)\n",
            "Requirement already satisfied: mistune<2,>=0.8.1 in /usr/local/lib/python3.10/dist-packages (from nbconvert->notebook>=4.4.1->widgetsnbextension~=3.6.0->ipywidgets->yasa) (0.8.4)\n",
            "Requirement already satisfied: nbclient>=0.5.0 in /usr/local/lib/python3.10/dist-packages (from nbconvert->notebook>=4.4.1->widgetsnbextension~=3.6.0->ipywidgets->yasa) (0.7.4)\n",
            "Requirement already satisfied: pandocfilters>=1.4.1 in /usr/local/lib/python3.10/dist-packages (from nbconvert->notebook>=4.4.1->widgetsnbextension~=3.6.0->ipywidgets->yasa) (1.5.0)\n",
            "Requirement already satisfied: tinycss2 in /usr/local/lib/python3.10/dist-packages (from nbconvert->notebook>=4.4.1->widgetsnbextension~=3.6.0->ipywidgets->yasa) (1.2.1)\n",
            "Requirement already satisfied: fastjsonschema in /usr/local/lib/python3.10/dist-packages (from nbformat->notebook>=4.4.1->widgetsnbextension~=3.6.0->ipywidgets->yasa) (2.16.3)\n",
            "Requirement already satisfied: jsonschema>=2.6 in /usr/local/lib/python3.10/dist-packages (from nbformat->notebook>=4.4.1->widgetsnbextension~=3.6.0->ipywidgets->yasa) (4.3.3)\n",
            "Requirement already satisfied: attrs>=17.4.0 in /usr/local/lib/python3.10/dist-packages (from jsonschema>=2.6->nbformat->notebook>=4.4.1->widgetsnbextension~=3.6.0->ipywidgets->yasa) (23.1.0)\n",
            "Requirement already satisfied: pyrsistent!=0.17.0,!=0.17.1,!=0.17.2,>=0.14.0 in /usr/local/lib/python3.10/dist-packages (from jsonschema>=2.6->nbformat->notebook>=4.4.1->widgetsnbextension~=3.6.0->ipywidgets->yasa) (0.19.3)\n",
            "Requirement already satisfied: cffi>=1.0.1 in /usr/local/lib/python3.10/dist-packages (from argon2-cffi-bindings->argon2-cffi->notebook>=4.4.1->widgetsnbextension~=3.6.0->ipywidgets->yasa) (1.15.1)\n",
            "Requirement already satisfied: soupsieve>1.2 in /usr/local/lib/python3.10/dist-packages (from beautifulsoup4->nbconvert->notebook>=4.4.1->widgetsnbextension~=3.6.0->ipywidgets->yasa) (2.4.1)\n",
            "Requirement already satisfied: webencodings in /usr/local/lib/python3.10/dist-packages (from bleach->nbconvert->notebook>=4.4.1->widgetsnbextension~=3.6.0->ipywidgets->yasa) (0.5.1)\n",
            "Requirement already satisfied: pycparser in /usr/local/lib/python3.10/dist-packages (from cffi>=1.0.1->argon2-cffi-bindings->argon2-cffi->notebook>=4.4.1->widgetsnbextension~=3.6.0->ipywidgets->yasa) (2.21)\n",
            "Building wheels for collected packages: yasa, pyriemann, antropy, littleutils\n",
            "  Building wheel for yasa (pyproject.toml) ... \u001b[?25l\u001b[?25hdone\n",
            "  Created wheel for yasa: filename=yasa-0.6.3-py3-none-any.whl size=33800418 sha256=2ab2e60b95c0a288302a87010590e3257a555534992a05f327bfb241a3dcdfab\n",
            "  Stored in directory: /root/.cache/pip/wheels/8b/d2/c1/9c3e43c2514650c9fe3805d37ceba9ff5e2c54484c489b3ba7\n",
            "  Building wheel for pyriemann (setup.py) ... \u001b[?25l\u001b[?25hdone\n",
            "  Created wheel for pyriemann: filename=pyriemann-0.4-py2.py3-none-any.whl size=105117 sha256=0516a550d3bc59a0b415734a394f10236aca30386b0e53d7baa4d2acf2beaa81\n",
            "  Stored in directory: /root/.cache/pip/wheels/3b/43/ba/00789d31610df1187328cfe220e893ae31f33ccf66d8cf0e4c\n",
            "  Building wheel for antropy (pyproject.toml) ... \u001b[?25l\u001b[?25hdone\n",
            "  Created wheel for antropy: filename=antropy-0.1.5-py3-none-any.whl size=16900 sha256=f33db32a53b7e554b54a65e6989b3b23cf7e7ad596bc589c8f91f65dbff23c22\n",
            "  Stored in directory: /root/.cache/pip/wheels/fb/11/46/bd2dbc64d2a915050ce7e0e57b0d34f4e0ac34010acae88053\n",
            "  Building wheel for littleutils (setup.py) ... \u001b[?25l\u001b[?25hdone\n",
            "  Created wheel for littleutils: filename=littleutils-0.2.2-py3-none-any.whl size=7029 sha256=c759fa99c2f0996fe972d50c2d446a48b6df4132df1fd60d0eefd3b54c424286\n",
            "  Stored in directory: /root/.cache/pip/wheels/3d/fe/b0/27a9892da57472e538c7452a721a9cf463cc03cf7379889266\n",
            "Successfully built yasa pyriemann antropy littleutils\n",
            "Installing collected packages: littleutils, jedi, tensorpac, stochastic, sleepecg, outdated, lspopt, pyriemann, antropy, yasa\n",
            "Successfully installed antropy-0.1.5 jedi-0.18.2 littleutils-0.2.2 lspopt-1.3.0 outdated-0.2.2 pyriemann-0.4 sleepecg-0.5.4 stochastic-0.7.0 tensorpac-0.6.5 yasa-0.6.3\n"
          ]
        }
      ],
      "source": [
        "!pip install yasa"
      ]
    },
    {
      "cell_type": "code",
      "execution_count": null,
      "metadata": {
        "id": "7IAUaeitsm9w"
      },
      "outputs": [],
      "source": [
        "import yasa\n",
        "import numpy as np\n",
        "import pandas as pd\n",
        "import seaborn as sns\n",
        "import matplotlib.pyplot as plt\n",
        "\n",
        "# Load EEG data\n",
        "f = np.load('/content/data_full_6hrs_100Hz_Cz+Fz+Pz.npz')\n",
        "data, ch_names = f['data'], f['chan']\n",
        "sf = 100.\n",
        "\n",
        "# Load hypnogram\n",
        "hypno_30s = np.loadtxt('data_full_6hrs_100Hz_hypno_30s.txt')\n",
        "hypno = yasa.hypno_upsample_to_data(hypno=hypno_30s, sf_hypno=(1/30), data=data, sf_data=sf)\n",
        "print(hypno.shape, 'Unique values =', np.unique(hypno))"
      ]
    },
    {
      "cell_type": "code",
      "execution_count": null,
      "metadata": {
        "colab": {
          "base_uri": "https://localhost:8080/"
        },
        "id": "dqLnjJfTrVWq",
        "outputId": "44a19e93-d52c-41d6-b206-ce898d04e61a"
      },
      "outputs": [
        {
          "name": "stdout",
          "output_type": "stream",
          "text": [
            "<Info | 7 non-empty values\n",
            " bads: []\n",
            " ch_names: 0\n",
            " chs: 1 misc\n",
            " custom_ref_applied: False\n",
            " highpass: 0.0 Hz\n",
            " lowpass: 1.0 Hz\n",
            " meas_date: unspecified\n",
            " nchan: 1\n",
            " projs: []\n",
            " sfreq: 2.0 Hz\n",
            ">\n",
            "Creating RawArray with float64 data, n_channels=1, n_times=35721\n",
            "    Range : 0 ... 35720 =      0.000 ... 17860.000 secs\n",
            "Ready.\n"
          ]
        }
      ],
      "source": [
        "#contruct yasa and mne array\n",
        "\n",
        "# sampling_freq = 200  # in Hertz\n",
        "# n_channels = 32\n",
        "# info = mne.create_info(n_channels, sfreq=sampling_freq)\n",
        "# print(info)\n",
        "\n",
        "# data = np.array([sine, cosine])\n",
        "\n",
        "# info = mne.create_info(ch_names=['10 Hz sine', '5 Hz cosine'],\n",
        "#                        ch_types=['misc'] * 2,\n",
        "#                        sfreq=sampling_freq)\n",
        "\n",
        "\n",
        "n_channels = 1\n",
        "sampling_freq = 2  # in Hertz\n",
        "info = mne.create_info(n_channels, sfreq=sampling_freq)\n",
        "print(info)\n",
        "\n",
        "\n",
        "data = np.array(df['RAW_AF8'].to_list())\n",
        "\n",
        "data = np.atleast_2d(data)\n",
        "\n",
        "info = mne.create_info(ch_names=['rawf8'],\n",
        "                        ch_types=['eeg'],\n",
        "                        sfreq=sampling_freq)\n",
        "\n",
        "simulated_raw = mne.io.RawArray(data, info)"
      ]
    },
    {
      "cell_type": "code",
      "execution_count": null,
      "metadata": {
        "colab": {
          "base_uri": "https://localhost:8080/"
        },
        "id": "JQSS_pXfx0Vc",
        "outputId": "3e49aaea-002a-4a46-ff9e-1835974e0459"
      },
      "outputs": [
        {
          "name": "stdout",
          "output_type": "stream",
          "text": [
            "[          nan           nan           nan           nan  802.63736264\n",
            "           nan  834.46886447           nan           nan  792.16117216\n",
            "           nan  815.12820513           nan  852.1978022            nan\n",
            "  819.56043956           nan           nan  810.6959707            nan\n",
            "           nan  796.19047619           nan  799.01098901  805.86080586\n",
            "           nan           nan  848.97435897           nan  790.95238095\n",
            "           nan  823.18681319           nan           nan           nan\n",
            " 1083.47985348           nan           nan  880.80586081           nan\n",
            "           nan  764.76190476  810.29304029           nan           nan\n",
            "           nan  801.02564103           nan           nan  791.75824176\n",
            "           nan  808.27838828           nan           nan  764.35897436\n",
            "           nan  755.09157509           nan           nan  823.58974359\n",
            "           nan  816.73992674           nan  799.81684982           nan\n",
            "  877.58241758           nan           nan  797.3992674            nan\n",
            "  776.84981685           nan           nan  794.98168498           nan\n",
            "           nan  795.38461538           nan  794.98168498           nan\n",
            "           nan  799.81684982           nan           nan  795.38461538\n",
            "           nan  801.83150183           nan  807.87545788           nan\n",
            "  811.0989011     0.                   nan           nan           nan\n",
            "  933.99267399           nan 1625.01831502  931.57509158  131.35531136\n",
            "           nan 1091.53846154           nan           nan  929.56043956\n",
            "           nan           nan  647.91208791           nan  788.93772894\n",
            "           nan  680.95238095           nan  793.77289377 1625.42124542\n",
            "           nan           nan  581.42857143  965.01831502  900.14652015\n",
            "  871.13553114  837.28937729  771.61172161           nan  774.83516484\n",
            "           nan           nan           nan 1060.10989011  998.46153846\n",
            "           nan  924.32234432           nan  840.91575092           nan\n",
            "           nan  695.05494505           nan           nan  772.01465201\n",
            "           nan           nan  759.12087912  830.03663004           nan\n",
            "           nan  851.39194139           nan  827.21611722           nan\n",
            "  789.34065934           nan           nan  792.56410256           nan\n",
            "  834.46886447           nan  857.83882784           nan  852.1978022\n",
            "           nan  880.80586081  848.97435897  858.64468864  361.42857143\n",
            "           nan           nan  841.31868132           nan           nan\n",
            "  845.75091575 1031.5018315            nan  828.02197802  813.11355311\n",
            "           nan  851.39194139           nan  814.72527473           nan\n",
            "  803.44322344  836.48351648  813.51648352  842.93040293  812.30769231\n",
            "  836.08058608  816.33699634  824.3956044            nan  796.59340659\n",
            "  815.93406593  820.36630037  807.87545788  845.34798535  839.3040293\n",
            "  807.06959707  809.08424908  801.02564103  800.62271062  806.66666667]\n"
          ]
        }
      ],
      "source": [
        "print(simulated_raw._data[0,0:200])"
      ]
    },
    {
      "cell_type": "code",
      "execution_count": null,
      "metadata": {
        "colab": {
          "base_uri": "https://localhost:8080/"
        },
        "id": "Jox2yXWjr22t",
        "outputId": "020c020d-1b23-4213-b50d-811427a55f0e"
      },
      "outputs": [
        {
          "data": {
            "text/plain": [
              "Index(['TimeStamp', 'Delta_TP9', 'Delta_AF7', 'Delta_AF8', 'Delta_TP10',\n",
              "       'Theta_TP9', 'Theta_AF7', 'Theta_AF8', 'Theta_TP10', 'Alpha_TP9',\n",
              "       'Alpha_AF7', 'Alpha_AF8', 'Alpha_TP10', 'Beta_TP9', 'Beta_AF7',\n",
              "       'Beta_AF8', 'Beta_TP10', 'Gamma_TP9', 'Gamma_AF7', 'Gamma_AF8',\n",
              "       'Gamma_TP10', 'RAW_TP9', 'RAW_AF7', 'RAW_AF8', 'RAW_TP10', 'AUX_RIGHT',\n",
              "       'AUX_LEFT', 'Accelerometer_X', 'Accelerometer_Y', 'Accelerometer_Z',\n",
              "       'Gyro_X', 'Gyro_Y', 'Gyro_Z', 'HeadBandOn', 'HSI_TP9', 'HSI_AF7',\n",
              "       'HSI_AF8', 'HSI_TP10', 'Battery', 'Elements'],\n",
              "      dtype='object')"
            ]
          },
          "execution_count": 3,
          "metadata": {},
          "output_type": "execute_result"
        }
      ],
      "source": [
        "df.columns\n",
        "#'RAW_TP9', 'RAW_AF7', 'RAW_AF8', 'RAW_TP10'\n",
        "\n"
      ]
    },
    {
      "cell_type": "code",
      "execution_count": null,
      "metadata": {
        "id": "uL73vaL0rNrz"
      },
      "outputs": [],
      "source": []
    },
    {
      "attachments": {},
      "cell_type": "markdown",
      "metadata": {},
      "source": [
        "## filtering raw data\n"
      ]
    },
    {
      "cell_type": "code",
      "execution_count": null,
      "metadata": {},
      "outputs": [],
      "source": []
    },
    {
      "cell_type": "code",
      "execution_count": 8,
      "metadata": {},
      "outputs": [
        {
          "name": "stdout",
          "output_type": "stream",
          "text": [
            "Requirement already satisfied: mne in /usr/local/python/3.10.4/lib/python3.10/site-packages (1.4.0)\n",
            "Requirement already satisfied: numpy>=1.15.4 in /home/codespace/.local/lib/python3.10/site-packages (from mne) (1.24.3)\n",
            "Requirement already satisfied: scipy>=1.6.3 in /home/codespace/.local/lib/python3.10/site-packages (from mne) (1.10.1)\n",
            "Requirement already satisfied: matplotlib in /home/codespace/.local/lib/python3.10/site-packages (from mne) (3.7.1)\n",
            "Requirement already satisfied: tqdm in /usr/local/python/3.10.4/lib/python3.10/site-packages (from mne) (4.65.0)\n",
            "Requirement already satisfied: pooch>=1.5 in /usr/local/python/3.10.4/lib/python3.10/site-packages (from mne) (1.7.0)\n",
            "Requirement already satisfied: decorator in /home/codespace/.local/lib/python3.10/site-packages (from mne) (5.1.1)\n",
            "Requirement already satisfied: packaging in /home/codespace/.local/lib/python3.10/site-packages (from mne) (23.1)\n",
            "Requirement already satisfied: jinja2 in /home/codespace/.local/lib/python3.10/site-packages (from mne) (3.1.2)\n",
            "Requirement already satisfied: platformdirs>=2.5.0 in /home/codespace/.local/lib/python3.10/site-packages (from pooch>=1.5->mne) (3.3.0)\n",
            "Requirement already satisfied: requests>=2.19.0 in /home/codespace/.local/lib/python3.10/site-packages (from pooch>=1.5->mne) (2.28.2)\n",
            "Requirement already satisfied: MarkupSafe>=2.0 in /home/codespace/.local/lib/python3.10/site-packages (from jinja2->mne) (2.1.2)\n",
            "Requirement already satisfied: contourpy>=1.0.1 in /home/codespace/.local/lib/python3.10/site-packages (from matplotlib->mne) (1.0.7)\n",
            "Requirement already satisfied: cycler>=0.10 in /home/codespace/.local/lib/python3.10/site-packages (from matplotlib->mne) (0.11.0)\n",
            "Requirement already satisfied: fonttools>=4.22.0 in /home/codespace/.local/lib/python3.10/site-packages (from matplotlib->mne) (4.39.3)\n",
            "Requirement already satisfied: kiwisolver>=1.0.1 in /home/codespace/.local/lib/python3.10/site-packages (from matplotlib->mne) (1.4.4)\n",
            "Requirement already satisfied: pillow>=6.2.0 in /home/codespace/.local/lib/python3.10/site-packages (from matplotlib->mne) (9.5.0)\n",
            "Requirement already satisfied: pyparsing>=2.3.1 in /home/codespace/.local/lib/python3.10/site-packages (from matplotlib->mne) (3.0.9)\n",
            "Requirement already satisfied: python-dateutil>=2.7 in /home/codespace/.local/lib/python3.10/site-packages (from matplotlib->mne) (2.8.2)\n",
            "Requirement already satisfied: six>=1.5 in /home/codespace/.local/lib/python3.10/site-packages (from python-dateutil>=2.7->matplotlib->mne) (1.16.0)\n",
            "Requirement already satisfied: charset-normalizer<4,>=2 in /home/codespace/.local/lib/python3.10/site-packages (from requests>=2.19.0->pooch>=1.5->mne) (3.1.0)\n",
            "Requirement already satisfied: idna<4,>=2.5 in /home/codespace/.local/lib/python3.10/site-packages (from requests>=2.19.0->pooch>=1.5->mne) (3.4)\n",
            "Requirement already satisfied: urllib3<1.27,>=1.21.1 in /home/codespace/.local/lib/python3.10/site-packages (from requests>=2.19.0->pooch>=1.5->mne) (1.26.15)\n",
            "Requirement already satisfied: certifi>=2017.4.17 in /home/codespace/.local/lib/python3.10/site-packages (from requests>=2.19.0->pooch>=1.5->mne) (2022.12.7)\n",
            "\n",
            "\u001b[1m[\u001b[0m\u001b[34;49mnotice\u001b[0m\u001b[1;39;49m]\u001b[0m\u001b[39;49m A new release of pip is available: \u001b[0m\u001b[31;49m23.1.1\u001b[0m\u001b[39;49m -> \u001b[0m\u001b[32;49m23.1.2\u001b[0m\n",
            "\u001b[1m[\u001b[0m\u001b[34;49mnotice\u001b[0m\u001b[1;39;49m]\u001b[0m\u001b[39;49m To update, run: \u001b[0m\u001b[32;49mpython -m pip install --upgrade pip\u001b[0m\n",
            "float64\n",
            "Setting up high-pass filter at 0.1 Hz\n",
            "\n",
            "FIR filter parameters\n",
            "---------------------\n",
            "Designing a one-pass, zero-phase, non-causal highpass filter:\n",
            "- Windowed time-domain design (firwin) method\n",
            "- Hamming window with 0.0194 passband ripple and 53 dB stopband attenuation\n",
            "- Lower passband edge: 0.10\n",
            "- Lower transition bandwidth: 0.10 Hz (-6 dB cutoff frequency: 0.05 Hz)\n",
            "- Filter length: 8449 samples (33.004 s)\n",
            "\n"
          ]
        },
        {
          "name": "stderr",
          "output_type": "stream",
          "text": [
            "[Parallel(n_jobs=1)]: Using backend SequentialBackend with 1 concurrent workers.\n",
            "[Parallel(n_jobs=1)]: Done   1 out of   1 | elapsed:    0.0s remaining:    0.0s\n",
            "[Parallel(n_jobs=1)]: Done   1 out of   1 | elapsed:    0.0s finished\n"
          ]
        }
      ],
      "source": [
        "#status\n",
        "!pip install mne\n",
        "import numpy as np\n",
        "import pandas as pd\n",
        "import seaborn as sns\n",
        "import mne\n",
        "\n",
        "# Get the time stamp column\n",
        "time_stamps = np.array(df['TimeStamp'])\n",
        "\n",
        "# Get the RAW_AF8 column\n",
        "raw_af8 = df['RAW_AF8'].values\n",
        "\n",
        "# Convert the data to a floating-point type\n",
        "raw_af8 = raw_af8.astype(np.float64)\n",
        "\n",
        "# Ensure the conversion has been successful\n",
        "assert raw_af8.dtype == np.float64, f\"Unexpected data type: {raw_af8.dtype}\"\n",
        "\n",
        "print(raw_af8.dtype)\n",
        "\n",
        "# Create a high-pass filter at 0.1 Hz\n",
        "sfreq = 256.0  # explicitly defined as float\n",
        "\n",
        "# Apply the filter to the data\n",
        "filtered_data = mne.filter.filter_data(raw_af8, sfreq, l_freq=0.1, h_freq=None, fir_design='firwin')\n",
        "\n",
        "# Create a new column in the DataFrame\n",
        "df['f8f'] = filtered_data\n"
      ]
    },
    {
      "cell_type": "code",
      "execution_count": 16,
      "metadata": {},
      "outputs": [
        {
          "name": "stdout",
          "output_type": "stream",
          "text": [
            "count    48640.000000\n",
            "mean        -0.002775\n",
            "std          6.190602\n",
            "min        -34.884388\n",
            "25%         -4.199510\n",
            "50%         -0.054415\n",
            "75%          4.161144\n",
            "max         41.257385\n",
            "Name: f8f, dtype: float64\n"
          ]
        },
        {
          "data": {
            "text/plain": [
              "<Axes: xlabel='TimeStamp', ylabel='f8f'>"
            ]
          },
          "execution_count": 16,
          "metadata": {},
          "output_type": "execute_result"
        },
        {
          "data": {
            "image/png": "[encoded data removed]",
            "text/plain": [
              "<Figure size 640x480 with 1 Axes>"
            ]
          },
          "metadata": {},
          "output_type": "display_data"
        }
      ],
      "source": [
        "print(df['f8f'].describe())\n",
        "\n",
        "df_no_nan_f8f = df[df[\"f8f\"].notna()]\n",
        "\n",
        "\n",
        "sns.lineplot(x='TimeStamp', y=\"f8f\", data=df_no_nan_f8f.iloc[:300])\n",
        "\n"
      ]
    },
    {
      "cell_type": "markdown",
      "metadata": {
        "id": "leSRApDQp-z_"
      },
      "source": [
        "##large sleep section imported from git\n",
        "\n",
        "for now, load sleep files manually. not working from url"
      ]
    },
    {
      "cell_type": "code",
      "execution_count": null,
      "metadata": {
        "id": "bYHif5pPqDVS"
      },
      "outputs": [],
      "source": [
        "!pip install mne\n",
        "!pip install yasa\n",
        "import pandas as pd\n",
        "import mne\n",
        "import numpy as np\n",
        "import yasa\n",
        "\n",
        "#urlsleep58 = 'https://www.dropbox.com/s/9r516639sms98sj/mindMonitor_2023-05-07--23-31-37_5188390995226691787_sleep.csv?dl=1'\n",
        "#urlnap58 = 'https://www.dropbox.com/s/fbjsqhjlhuocps4/mindMonitor_2023-05-08--14-47-48_7822430682462145648_nap.csv?dl=1'\n",
        "#dfraw = pd.read_csv(urlnap58, skiprows=[169541, 202609])\n",
        "#dfs = dfraw[['RAW_AF8']]"
      ]
    },
    {
      "cell_type": "code",
      "execution_count": null,
      "metadata": {
        "id": "tIO1OPOA5S7y"
      },
      "outputs": [],
      "source": [
        "# import urllib.request\n",
        "# from tqdm import tqdm\n",
        "\n",
        "# urlnap58 = 'https://www.dropbox.com/s/fbjsqhjlhuocps4/mindMonitor_2023-05-08--14-47-48_7822430682462145648_nap.csv?dl=1'\n",
        "# # Download the file with a progress bar\n",
        "\n",
        "# with urllib.request.urlopen(urlnap58) as response:\n",
        "#     sleepfile = response.read().decode(\"utf-8\")\n",
        "\n",
        "# # Save the file to Colab memory\n",
        "# with open(\"sleepfile.csv\", \"w\") as f:\n",
        "#     f.write(sleepfile)"
      ]
    },
    {
      "cell_type": "code",
      "execution_count": null,
      "metadata": {
        "colab": {
          "base_uri": "https://localhost:8080/"
        },
        "id": "rOz8rBwZJH1o",
        "outputId": "2cb96a4f-d35f-4ee4-e587-8d9a6562975a"
      },
      "outputs": [
        {
          "name": "stderr",
          "output_type": "stream",
          "text": [
            "<ipython-input-2-22b9173ced2b>:2: FutureWarning: The error_bad_lines argument has been deprecated and will be removed in a future version. Use on_bad_lines in the future.\n",
            "\n",
            "\n",
            "  df = pd.read_csv('/content/mindMonitor_2023-05-08--14-47-48_7822430682462145648_nap (2).csv', error_bad_lines=True)\n",
            "<ipython-input-2-22b9173ced2b>:2: DtypeWarning: Columns (41) have mixed types. Specify dtype option on import or set low_memory=False.\n",
            "  df = pd.read_csv('/content/mindMonitor_2023-05-08--14-47-48_7822430682462145648_nap (2).csv', error_bad_lines=True)\n"
          ]
        }
      ],
      "source": [
        "#manually loaded\n",
        "df = pd.read_csv('/content/mindMonitor_2023-05-08--14-47-48_7822430682462145648_nap (2).csv', error_bad_lines=True)"
      ]
    },
    {
      "cell_type": "code",
      "execution_count": null,
      "metadata": {
        "colab": {
          "base_uri": "https://localhost:8080/"
        },
        "id": "O0itv8c4KaU1",
        "outputId": "7578a6a0-409d-4e22-e3a5-5d7737c2bbb7"
      },
      "outputs": [
        {
          "data": {
            "text/plain": [
              "(120130, 42)"
            ]
          },
          "execution_count": 3,
          "metadata": {},
          "output_type": "execute_result"
        }
      ],
      "source": [
        "df.shape"
      ]
    },
    {
      "cell_type": "code",
      "execution_count": null,
      "metadata": {
        "colab": {
          "base_uri": "https://localhost:8080/"
        },
        "id": "127rn6DkLCNx",
        "outputId": "02b7d63a-ebf4-4d0c-f6d6-54992d0f18ab"
      },
      "outputs": [
        {
          "data": {
            "text/plain": [
              "Index(['TimeStamp', 'Delta_TP9', 'Delta_AF7', 'Delta_AF8', 'Delta_TP10',\n",
              "       'Theta_TP9', 'Theta_AF7', 'Theta_AF8', 'Theta_TP10', 'Alpha_TP9',\n",
              "       'Alpha_AF7', 'Alpha_AF8', 'Alpha_TP10', 'Beta_TP9', 'Beta_AF7',\n",
              "       'Beta_AF8', 'Beta_TP10', 'Gamma_TP9', 'Gamma_AF7', 'Gamma_AF8',\n",
              "       'Gamma_TP10', 'RAW_TP9', 'RAW_AF7', 'RAW_AF8', 'RAW_TP10', 'AUX_RIGHT',\n",
              "       'AUX_LEFT', 'Mellow', 'Concentration', 'Accelerometer_X',\n",
              "       'Accelerometer_Y', 'Accelerometer_Z', 'Gyro_X', 'Gyro_Y', 'Gyro_Z',\n",
              "       'HeadBandOn', 'HSI_TP9', 'HSI_AF7', 'HSI_AF8', 'HSI_TP10', 'Battery',\n",
              "       'Elements'],\n",
              "      dtype='object')"
            ]
          },
          "execution_count": 4,
          "metadata": {},
          "output_type": "execute_result"
        }
      ],
      "source": [
        "df.columns"
      ]
    },
    {
      "cell_type": "code",
      "execution_count": null,
      "metadata": {
        "colab": {
          "base_uri": "https://localhost:8080/",
          "height": 661
        },
        "id": "3b64mZw_LgYb",
        "outputId": "bc56bfe0-5c31-4469-ac2e-1cd05130f2c9"
      },
      "outputs": [
        {
          "data": {
            "text/html": [
              "\n",
              "  <div id=\"df-96bfc7d1-a05f-46c3-858d-175d430da9e3\">\n",
              "    <div class=\"colab-df-container\">\n",
              "      <div>\n",
              "<style scoped>\n",
              "    .dataframe tbody tr th:only-of-type {\n",
              "        vertical-align: middle;\n",
              "    }\n",
              "\n",
              "    .dataframe tbody tr th {\n",
              "        vertical-align: top;\n",
              "    }\n",
              "\n",
              "    .dataframe thead th {\n",
              "        text-align: right;\n",
              "    }\n",
              "</style>\n",
              "<table border=\"1\" class=\"dataframe\">\n",
              "  <thead>\n",
              "    <tr style=\"text-align: right;\">\n",
              "      <th></th>\n",
              "      <th>TimeStamp</th>\n",
              "      <th>Delta_TP9</th>\n",
              "      <th>Delta_AF7</th>\n",
              "      <th>Delta_AF8</th>\n",
              "      <th>Delta_TP10</th>\n",
              "      <th>Theta_TP9</th>\n",
              "      <th>Theta_AF7</th>\n",
              "      <th>Theta_AF8</th>\n",
              "      <th>Theta_TP10</th>\n",
              "      <th>Alpha_TP9</th>\n",
              "      <th>...</th>\n",
              "      <th>Gyro_X</th>\n",
              "      <th>Gyro_Y</th>\n",
              "      <th>Gyro_Z</th>\n",
              "      <th>HeadBandOn</th>\n",
              "      <th>HSI_TP9</th>\n",
              "      <th>HSI_AF7</th>\n",
              "      <th>HSI_AF8</th>\n",
              "      <th>HSI_TP10</th>\n",
              "      <th>Battery</th>\n",
              "      <th>Elements</th>\n",
              "    </tr>\n",
              "  </thead>\n",
              "  <tbody>\n",
              "    <tr>\n",
              "      <th>0</th>\n",
              "      <td>2023-05-08 14:47:48.254</td>\n",
              "      <td>NaN</td>\n",
              "      <td>NaN</td>\n",
              "      <td>NaN</td>\n",
              "      <td>NaN</td>\n",
              "      <td>NaN</td>\n",
              "      <td>NaN</td>\n",
              "      <td>NaN</td>\n",
              "      <td>NaN</td>\n",
              "      <td>NaN</td>\n",
              "      <td>...</td>\n",
              "      <td>NaN</td>\n",
              "      <td>NaN</td>\n",
              "      <td>NaN</td>\n",
              "      <td>NaN</td>\n",
              "      <td>NaN</td>\n",
              "      <td>NaN</td>\n",
              "      <td>NaN</td>\n",
              "      <td>NaN</td>\n",
              "      <td>NaN</td>\n",
              "      <td>/muse/event/connected MuseS-4987</td>\n",
              "    </tr>\n",
              "    <tr>\n",
              "      <th>1</th>\n",
              "      <td>2023-05-08 14:47:48.276</td>\n",
              "      <td>1.581541</td>\n",
              "      <td>0.723653</td>\n",
              "      <td>0.580109</td>\n",
              "      <td>1.334703</td>\n",
              "      <td>1.586183</td>\n",
              "      <td>0.727410</td>\n",
              "      <td>0.198375</td>\n",
              "      <td>1.011402</td>\n",
              "      <td>1.325018</td>\n",
              "      <td>...</td>\n",
              "      <td>6.310425</td>\n",
              "      <td>-4.157104</td>\n",
              "      <td>2.938385</td>\n",
              "      <td>1.0</td>\n",
              "      <td>2.0</td>\n",
              "      <td>1.0</td>\n",
              "      <td>1.0</td>\n",
              "      <td>2.0</td>\n",
              "      <td>100.0</td>\n",
              "      <td>NaN</td>\n",
              "    </tr>\n",
              "    <tr>\n",
              "      <th>2</th>\n",
              "      <td>2023-05-08 14:47:48.278</td>\n",
              "      <td>1.581541</td>\n",
              "      <td>0.723653</td>\n",
              "      <td>0.580109</td>\n",
              "      <td>1.334703</td>\n",
              "      <td>1.586183</td>\n",
              "      <td>0.727410</td>\n",
              "      <td>0.198375</td>\n",
              "      <td>1.011402</td>\n",
              "      <td>1.325018</td>\n",
              "      <td>...</td>\n",
              "      <td>6.310425</td>\n",
              "      <td>-4.157104</td>\n",
              "      <td>2.938385</td>\n",
              "      <td>1.0</td>\n",
              "      <td>2.0</td>\n",
              "      <td>1.0</td>\n",
              "      <td>1.0</td>\n",
              "      <td>2.0</td>\n",
              "      <td>100.0</td>\n",
              "      <td>NaN</td>\n",
              "    </tr>\n",
              "    <tr>\n",
              "      <th>3</th>\n",
              "      <td>2023-05-08 14:47:48.278</td>\n",
              "      <td>1.581541</td>\n",
              "      <td>0.723653</td>\n",
              "      <td>0.580109</td>\n",
              "      <td>1.334703</td>\n",
              "      <td>1.586183</td>\n",
              "      <td>0.727410</td>\n",
              "      <td>0.198375</td>\n",
              "      <td>1.011402</td>\n",
              "      <td>1.325018</td>\n",
              "      <td>...</td>\n",
              "      <td>6.310425</td>\n",
              "      <td>-4.157104</td>\n",
              "      <td>2.938385</td>\n",
              "      <td>1.0</td>\n",
              "      <td>2.0</td>\n",
              "      <td>1.0</td>\n",
              "      <td>1.0</td>\n",
              "      <td>2.0</td>\n",
              "      <td>100.0</td>\n",
              "      <td>NaN</td>\n",
              "    </tr>\n",
              "    <tr>\n",
              "      <th>4</th>\n",
              "      <td>2023-05-08 14:47:48.279</td>\n",
              "      <td>1.581541</td>\n",
              "      <td>0.723653</td>\n",
              "      <td>0.580109</td>\n",
              "      <td>1.334703</td>\n",
              "      <td>1.586183</td>\n",
              "      <td>0.727410</td>\n",
              "      <td>0.198375</td>\n",
              "      <td>1.011402</td>\n",
              "      <td>1.325018</td>\n",
              "      <td>...</td>\n",
              "      <td>6.310425</td>\n",
              "      <td>-4.157104</td>\n",
              "      <td>2.938385</td>\n",
              "      <td>1.0</td>\n",
              "      <td>2.0</td>\n",
              "      <td>1.0</td>\n",
              "      <td>1.0</td>\n",
              "      <td>2.0</td>\n",
              "      <td>100.0</td>\n",
              "      <td>NaN</td>\n",
              "    </tr>\n",
              "    <tr>\n",
              "      <th>...</th>\n",
              "      <td>...</td>\n",
              "      <td>...</td>\n",
              "      <td>...</td>\n",
              "      <td>...</td>\n",
              "      <td>...</td>\n",
              "      <td>...</td>\n",
              "      <td>...</td>\n",
              "      <td>...</td>\n",
              "      <td>...</td>\n",
              "      <td>...</td>\n",
              "      <td>...</td>\n",
              "      <td>...</td>\n",
              "      <td>...</td>\n",
              "      <td>...</td>\n",
              "      <td>...</td>\n",
              "      <td>...</td>\n",
              "      <td>...</td>\n",
              "      <td>...</td>\n",
              "      <td>...</td>\n",
              "      <td>...</td>\n",
              "      <td>...</td>\n",
              "    </tr>\n",
              "    <tr>\n",
              "      <th>295</th>\n",
              "      <td>2023-05-08 14:47:49.344</td>\n",
              "      <td>1.581541</td>\n",
              "      <td>0.653342</td>\n",
              "      <td>0.832826</td>\n",
              "      <td>1.334703</td>\n",
              "      <td>1.586183</td>\n",
              "      <td>0.194576</td>\n",
              "      <td>0.308105</td>\n",
              "      <td>1.011402</td>\n",
              "      <td>1.325018</td>\n",
              "      <td>...</td>\n",
              "      <td>6.287994</td>\n",
              "      <td>-2.676697</td>\n",
              "      <td>1.831818</td>\n",
              "      <td>1.0</td>\n",
              "      <td>2.0</td>\n",
              "      <td>1.0</td>\n",
              "      <td>1.0</td>\n",
              "      <td>2.0</td>\n",
              "      <td>100.0</td>\n",
              "      <td>NaN</td>\n",
              "    </tr>\n",
              "    <tr>\n",
              "      <th>296</th>\n",
              "      <td>2023-05-08 14:47:49.344</td>\n",
              "      <td>1.581541</td>\n",
              "      <td>0.653342</td>\n",
              "      <td>0.832826</td>\n",
              "      <td>1.334703</td>\n",
              "      <td>1.586183</td>\n",
              "      <td>0.194576</td>\n",
              "      <td>0.308105</td>\n",
              "      <td>1.011402</td>\n",
              "      <td>1.325018</td>\n",
              "      <td>...</td>\n",
              "      <td>6.287994</td>\n",
              "      <td>-2.676697</td>\n",
              "      <td>1.831818</td>\n",
              "      <td>1.0</td>\n",
              "      <td>2.0</td>\n",
              "      <td>1.0</td>\n",
              "      <td>1.0</td>\n",
              "      <td>2.0</td>\n",
              "      <td>100.0</td>\n",
              "      <td>NaN</td>\n",
              "    </tr>\n",
              "    <tr>\n",
              "      <th>297</th>\n",
              "      <td>2023-05-08 14:47:49.344</td>\n",
              "      <td>1.581541</td>\n",
              "      <td>0.653342</td>\n",
              "      <td>0.832826</td>\n",
              "      <td>1.334703</td>\n",
              "      <td>1.586183</td>\n",
              "      <td>0.194576</td>\n",
              "      <td>0.308105</td>\n",
              "      <td>1.011402</td>\n",
              "      <td>1.325018</td>\n",
              "      <td>...</td>\n",
              "      <td>6.287994</td>\n",
              "      <td>-2.676697</td>\n",
              "      <td>1.831818</td>\n",
              "      <td>1.0</td>\n",
              "      <td>2.0</td>\n",
              "      <td>1.0</td>\n",
              "      <td>1.0</td>\n",
              "      <td>2.0</td>\n",
              "      <td>100.0</td>\n",
              "      <td>NaN</td>\n",
              "    </tr>\n",
              "    <tr>\n",
              "      <th>298</th>\n",
              "      <td>2023-05-08 14:47:49.344</td>\n",
              "      <td>1.581541</td>\n",
              "      <td>0.653342</td>\n",
              "      <td>0.832826</td>\n",
              "      <td>1.334703</td>\n",
              "      <td>1.586183</td>\n",
              "      <td>0.194576</td>\n",
              "      <td>0.308105</td>\n",
              "      <td>1.011402</td>\n",
              "      <td>1.325018</td>\n",
              "      <td>...</td>\n",
              "      <td>6.287994</td>\n",
              "      <td>-2.676697</td>\n",
              "      <td>1.831818</td>\n",
              "      <td>1.0</td>\n",
              "      <td>2.0</td>\n",
              "      <td>1.0</td>\n",
              "      <td>1.0</td>\n",
              "      <td>2.0</td>\n",
              "      <td>100.0</td>\n",
              "      <td>NaN</td>\n",
              "    </tr>\n",
              "    <tr>\n",
              "      <th>299</th>\n",
              "      <td>2023-05-08 14:47:49.345</td>\n",
              "      <td>1.581541</td>\n",
              "      <td>0.590116</td>\n",
              "      <td>0.845251</td>\n",
              "      <td>1.334703</td>\n",
              "      <td>1.586183</td>\n",
              "      <td>0.142575</td>\n",
              "      <td>0.325386</td>\n",
              "      <td>1.011402</td>\n",
              "      <td>1.325018</td>\n",
              "      <td>...</td>\n",
              "      <td>6.287994</td>\n",
              "      <td>-2.676697</td>\n",
              "      <td>1.831818</td>\n",
              "      <td>1.0</td>\n",
              "      <td>2.0</td>\n",
              "      <td>1.0</td>\n",
              "      <td>1.0</td>\n",
              "      <td>2.0</td>\n",
              "      <td>100.0</td>\n",
              "      <td>NaN</td>\n",
              "    </tr>\n",
              "  </tbody>\n",
              "</table>\n",
              "<p>300 rows × 42 columns</p>\n",
              "</div>\n",
              "      <button class=\"colab-df-convert\" onclick=\"convertToInteractive('df-96bfc7d1-a05f-46c3-858d-175d430da9e3')\"\n",
              "              title=\"Convert this dataframe to an interactive table.\"\n",
              "              style=\"display:none;\">\n",
              "        \n",
              "  <svg xmlns=\"http://www.w3.org/2000/svg\" height=\"24px\"viewBox=\"0 0 24 24\"\n",
              "       width=\"24px\">\n",
              "    <path d=\"M0 0h24v24H0V0z\" fill=\"none\"/>\n",
              "    <path d=\"M18.56 5.44l.94 2.06.94-2.06 2.06-.94-2.06-.94-.94-2.06-.94 2.06-2.06.94zm-11 1L8.5 8.5l.94-2.06 2.06-.94-2.06-.94L8.5 2.5l-.94 2.06-2.06.94zm10 10l.94 2.06.94-2.06 2.06-.94-2.06-.94-.94-2.06-.94 2.06-2.06.94z\"/><path d=\"M17.41 7.96l-1.37-1.37c-.4-.4-.92-.59-1.43-.59-.52 0-1.04.2-1.43.59L10.3 9.45l-7.72 7.72c-.78.78-.78 2.05 0 2.83L4 21.41c.39.39.9.59 1.41.59.51 0 1.02-.2 1.41-.59l7.78-7.78 2.81-2.81c.8-.78.8-2.07 0-2.86zM5.41 20L4 18.59l7.72-7.72 1.47 1.35L5.41 20z\"/>\n",
              "  </svg>\n",
              "      </button>\n",
              "      \n",
              "  <style>\n",
              "    .colab-df-container {\n",
              "      display:flex;\n",
              "      flex-wrap:wrap;\n",
              "      gap: 12px;\n",
              "    }\n",
              "\n",
              "    .colab-df-convert {\n",
              "      background-color: #E8F0FE;\n",
              "      border: none;\n",
              "      border-radius: 50%;\n",
              "      cursor: pointer;\n",
              "      display: none;\n",
              "      fill: #1967D2;\n",
              "      height: 32px;\n",
              "      padding: 0 0 0 0;\n",
              "      width: 32px;\n",
              "    }\n",
              "\n",
              "    .colab-df-convert:hover {\n",
              "      background-color: #E2EBFA;\n",
              "      box-shadow: 0px 1px 2px rgba(60, 64, 67, 0.3), 0px 1px 3px 1px rgba(60, 64, 67, 0.15);\n",
              "      fill: #174EA6;\n",
              "    }\n",
              "\n",
              "    [theme=dark] .colab-df-convert {\n",
              "      background-color: #3B4455;\n",
              "      fill: #D2E3FC;\n",
              "    }\n",
              "\n",
              "    [theme=dark] .colab-df-convert:hover {\n",
              "      background-color: #434B5C;\n",
              "      box-shadow: 0px 1px 3px 1px rgba(0, 0, 0, 0.15);\n",
              "      filter: drop-shadow(0px 1px 2px rgba(0, 0, 0, 0.3));\n",
              "      fill: #FFFFFF;\n",
              "    }\n",
              "  </style>\n",
              "\n",
              "      <script>\n",
              "        const buttonEl =\n",
              "          document.querySelector('#df-96bfc7d1-a05f-46c3-858d-175d430da9e3 button.colab-df-convert');\n",
              "        buttonEl.style.display =\n",
              "          google.colab.kernel.accessAllowed ? 'block' : 'none';\n",
              "\n",
              "        async function convertToInteractive(key) {\n",
              "          const element = document.querySelector('#df-96bfc7d1-a05f-46c3-858d-175d430da9e3');\n",
              "          const dataTable =\n",
              "            await google.colab.kernel.invokeFunction('convertToInteractive',\n",
              "                                                     [key], {});\n",
              "          if (!dataTable) return;\n",
              "\n",
              "          const docLinkHtml = 'Like what you see? Visit the ' +\n",
              "            '<a target=\"_blank\" href=https://colab.research.google.com/notebooks/data_table.ipynb>data table notebook</a>'\n",
              "            + ' to learn more about interactive tables.';\n",
              "          element.innerHTML = '';\n",
              "          dataTable['output_type'] = 'display_data';\n",
              "          await google.colab.output.renderOutput(dataTable, element);\n",
              "          const docLink = document.createElement('div');\n",
              "          docLink.innerHTML = docLinkHtml;\n",
              "          element.appendChild(docLink);\n",
              "        }\n",
              "      </script>\n",
              "    </div>\n",
              "  </div>\n",
              "  "
            ],
            "text/plain": [
              "                   TimeStamp  Delta_TP9  Delta_AF7  Delta_AF8  Delta_TP10  \\\n",
              "0    2023-05-08 14:47:48.254        NaN        NaN        NaN         NaN   \n",
              "1    2023-05-08 14:47:48.276   1.581541   0.723653   0.580109    1.334703   \n",
              "2    2023-05-08 14:47:48.278   1.581541   0.723653   0.580109    1.334703   \n",
              "3    2023-05-08 14:47:48.278   1.581541   0.723653   0.580109    1.334703   \n",
              "4    2023-05-08 14:47:48.279   1.581541   0.723653   0.580109    1.334703   \n",
              "..                       ...        ...        ...        ...         ...   \n",
              "295  2023-05-08 14:47:49.344   1.581541   0.653342   0.832826    1.334703   \n",
              "296  2023-05-08 14:47:49.344   1.581541   0.653342   0.832826    1.334703   \n",
              "297  2023-05-08 14:47:49.344   1.581541   0.653342   0.832826    1.334703   \n",
              "298  2023-05-08 14:47:49.344   1.581541   0.653342   0.832826    1.334703   \n",
              "299  2023-05-08 14:47:49.345   1.581541   0.590116   0.845251    1.334703   \n",
              "\n",
              "     Theta_TP9  Theta_AF7  Theta_AF8  Theta_TP10  Alpha_TP9  ...    Gyro_X  \\\n",
              "0          NaN        NaN        NaN         NaN        NaN  ...       NaN   \n",
              "1     1.586183   0.727410   0.198375    1.011402   1.325018  ...  6.310425   \n",
              "2     1.586183   0.727410   0.198375    1.011402   1.325018  ...  6.310425   \n",
              "3     1.586183   0.727410   0.198375    1.011402   1.325018  ...  6.310425   \n",
              "4     1.586183   0.727410   0.198375    1.011402   1.325018  ...  6.310425   \n",
              "..         ...        ...        ...         ...        ...  ...       ...   \n",
              "295   1.586183   0.194576   0.308105    1.011402   1.325018  ...  6.287994   \n",
              "296   1.586183   0.194576   0.308105    1.011402   1.325018  ...  6.287994   \n",
              "297   1.586183   0.194576   0.308105    1.011402   1.325018  ...  6.287994   \n",
              "298   1.586183   0.194576   0.308105    1.011402   1.325018  ...  6.287994   \n",
              "299   1.586183   0.142575   0.325386    1.011402   1.325018  ...  6.287994   \n",
              "\n",
              "       Gyro_Y    Gyro_Z  HeadBandOn  HSI_TP9  HSI_AF7  HSI_AF8  HSI_TP10  \\\n",
              "0         NaN       NaN         NaN      NaN      NaN      NaN       NaN   \n",
              "1   -4.157104  2.938385         1.0      2.0      1.0      1.0       2.0   \n",
              "2   -4.157104  2.938385         1.0      2.0      1.0      1.0       2.0   \n",
              "3   -4.157104  2.938385         1.0      2.0      1.0      1.0       2.0   \n",
              "4   -4.157104  2.938385         1.0      2.0      1.0      1.0       2.0   \n",
              "..        ...       ...         ...      ...      ...      ...       ...   \n",
              "295 -2.676697  1.831818         1.0      2.0      1.0      1.0       2.0   \n",
              "296 -2.676697  1.831818         1.0      2.0      1.0      1.0       2.0   \n",
              "297 -2.676697  1.831818         1.0      2.0      1.0      1.0       2.0   \n",
              "298 -2.676697  1.831818         1.0      2.0      1.0      1.0       2.0   \n",
              "299 -2.676697  1.831818         1.0      2.0      1.0      1.0       2.0   \n",
              "\n",
              "     Battery                          Elements  \n",
              "0        NaN  /muse/event/connected MuseS-4987  \n",
              "1      100.0                               NaN  \n",
              "2      100.0                               NaN  \n",
              "3      100.0                               NaN  \n",
              "4      100.0                               NaN  \n",
              "..       ...                               ...  \n",
              "295    100.0                               NaN  \n",
              "296    100.0                               NaN  \n",
              "297    100.0                               NaN  \n",
              "298    100.0                               NaN  \n",
              "299    100.0                               NaN  \n",
              "\n",
              "[300 rows x 42 columns]"
            ]
          },
          "execution_count": 39,
          "metadata": {},
          "output_type": "execute_result"
        }
      ],
      "source": [
        "df.head(300)"
      ]
    },
    {
      "cell_type": "code",
      "execution_count": null,
      "metadata": {
        "id": "cFB_K7OcLWNi"
      },
      "outputs": [],
      "source": [
        "df[\"time\"] = pd.to_datetime(df[\"TimeStamp\"])\n"
      ]
    },
    {
      "cell_type": "code",
      "execution_count": null,
      "metadata": {
        "colab": {
          "base_uri": "https://localhost:8080/"
        },
        "id": "JBqU05ygOl1h",
        "outputId": "c604c097-cc3a-4ec3-ed28-e4ed791c3288"
      },
      "outputs": [
        {
          "data": {
            "text/plain": [
              "count    119924.000000\n",
              "mean        800.710902\n",
              "std          64.420559\n",
              "min           0.000000\n",
              "25%         795.787540\n",
              "50%         800.622700\n",
              "75%         805.860800\n",
              "max        1626.630000\n",
              "Name: RAW_AF8, dtype: float64"
            ]
          },
          "execution_count": 21,
          "metadata": {},
          "output_type": "execute_result"
        }
      ],
      "source": [
        "df['RAW_AF8'].describe()"
      ]
    },
    {
      "cell_type": "code",
      "execution_count": null,
      "metadata": {
        "colab": {
          "base_uri": "https://localhost:8080/",
          "height": 449
        },
        "id": "epmgsBEdLEnH",
        "outputId": "83eb861f-f86a-43f8-e2bc-5f8ebe8c3d5b"
      },
      "outputs": [
        {
          "data": {
            "image/png": "[encoded data removed]",
            "text/plain": [
              "<Figure size 640x480 with 1 Axes>"
            ]
          },
          "metadata": {},
          "output_type": "display_data"
        }
      ],
      "source": [
        "import seaborn as sns\n",
        "import matplotlib.pyplot as plt\n",
        "\n",
        "\n",
        "\n",
        "# Get the time periods\n",
        "#start_time = 2023-05-08 14:47:48.254\n",
        "#end_time = 2023-05-08 14:49:48.254\n",
        "\n",
        "# Filter the dataframe to the specified time periods\n",
        "#df = df[(df['timestamp'] > start_time) & (df['timestamp'] < end_time)]\n",
        "\n",
        "# Create a line plot of the 'RAW_AF8' column, with the x-axis in seconds\n",
        "#sns.lineplot(x=df['time'].dt.second, y='RAW_AF8', data=df)\n",
        "fig, ax = plt.subplots()\n",
        "\n",
        "sns.lineplot(x=df['time'], y='RAW_AF7', data=df.sample(100))\n",
        "ax.set_ylim(750, 850)\n",
        "\n",
        "\n",
        "\n",
        "# Show the plot\n",
        "plt.show()\n"
      ]
    },
    {
      "cell_type": "code",
      "execution_count": null,
      "metadata": {
        "colab": {
          "base_uri": "https://localhost:8080/",
          "height": 760
        },
        "id": "nuONOvE3qMF0",
        "outputId": "f8c374fa-1abb-492f-fa4b-658d7861752a"
      },
      "outputs": [
        {
          "name": "stdout",
          "output_type": "stream",
          "text": [
            "Creating RawArray with float64 data, n_channels=1, n_times=4229768\n",
            "    Range : 0 ... 4229767 =      0.000 ... 16522.527 secs\n",
            "Ready.\n"
          ]
        },
        {
          "name": "stderr",
          "output_type": "stream",
          "text": [
            "/usr/local/lib/python3.10/dist-packages/numpy/lib/nanfunctions.py:1218: RuntimeWarning: All-NaN slice encountered\n",
            "  r, k = function_base._ureduce(a, func=_nanmedian, axis=axis, out=out,\n",
            "/usr/local/lib/python3.10/dist-packages/numpy/lib/nanfunctions.py:1560: RuntimeWarning: All-NaN slice encountered\n",
            "  r, k = function_base._ureduce(a,\n",
            "/usr/local/lib/python3.10/dist-packages/numpy/lib/nanfunctions.py:1218: RuntimeWarning: All-NaN slice encountered\n",
            "  r, k = function_base._ureduce(a, func=_nanmedian, axis=axis, out=out,\n",
            "/usr/local/lib/python3.10/dist-packages/numpy/lib/nanfunctions.py:1560: RuntimeWarning: All-NaN slice encountered\n",
            "  r, k = function_base._ureduce(a,\n",
            "/usr/local/lib/python3.10/dist-packages/sklearn/base.py:318: UserWarning: Trying to unpickle estimator LabelEncoder from version 0.24.2 when using version 1.2.2. This might lead to breaking code or invalid results. Use at your own risk. For more info please refer to:\n",
            "https://scikit-learn.org/stable/model_persistence.html#security-maintainability-limitations\n",
            "  warnings.warn(\n"
          ]
        },
        {
          "data": {
            "text/plain": [
              "<Axes: xlabel='Time (30-sec epoch)', ylabel='Probability'>"
            ]
          },
          "execution_count": 6,
          "metadata": {},
          "output_type": "execute_result"
        },
        {
          "data": {
            "image/png": "[encoded data removed]",
            "text/plain": [
              "<Figure size 1000x500 with 1 Axes>"
            ]
          },
          "metadata": {},
          "output_type": "display_data"
        }
      ],
      "source": [
        "dfs = dfraw[['RAW_AF8']]\n",
        "\n",
        "def df_to_raw(df):\n",
        "    raw = np.array(df)\n",
        "    return raw\n",
        "\n",
        "# changes: Set 'sfreq' to the minimum 81\n",
        "# When it comes to electrophysiological data, MNE works on the basis of samples, not time points\n",
        "# The duration of the recording can then be calculated by dividing the number of samples by the sampling frequency\n",
        "# Using data from urlspeep: samples/frequency -> 35720/256 = 139.531 seconds\n",
        "# OpenAI Prompt:\n",
        "#   # The duration of recording of a mne object\n",
        "def raw_to_mne(raw):\n",
        "    info = mne.create_info(ch_names=['RAW_AF8'],\n",
        "                           sfreq=256,\n",
        "                           ch_types=['eeg'])\n",
        "    mne_raw = mne.io.RawArray(raw, info)\n",
        "    return mne_raw\n",
        "\n",
        "# Turns the MNE object into the YASA package\n",
        "def mne_to_yasa(mne_raw):\n",
        "    yasa_raw = yasa.SleepStaging(mne_raw, eeg_name='RAW_AF8')\n",
        "    return yasa_raw\n",
        "\n",
        "# Initialize the sleep staging instance\n",
        "sls = mne_to_yasa(raw_to_mne(df_to_raw(dfs.values.T)))\n",
        "\n",
        "# Get the predicted sleep stages\n",
        "hypno = sls.predict()\n",
        "# Get the predicted probabilities\n",
        "proba = sls.predict_proba()\n",
        "# Get the confidence\n",
        "confidence = proba.max(axis=1)\n",
        "# Plot the predicted probabilities\n",
        "sls.plot_predict_proba()"
      ]
    },
    {
      "cell_type": "markdown",
      "metadata": {
        "id": "vovnG4CKMIrL"
      },
      "source": [
        "#Mock data"
      ]
    },
    {
      "cell_type": "code",
      "execution_count": null,
      "metadata": {
        "id": "tFGkjXHEMNET"
      },
      "outputs": [],
      "source": [
        "import pandas as pd\n",
        "import numpy as np\n",
        "import seaborn as sns\n",
        "import matplotlib.pyplot as plt"
      ]
    },
    {
      "cell_type": "code",
      "execution_count": null,
      "metadata": {
        "id": "t9AYmg_RSuWz"
      },
      "outputs": [],
      "source": [
        "#url = 'https://www.dropbox.com/s/z09umrre7qgg4ld/mindMonitor_2023-02-23--08-01-50_eyesopen_eyesclose_mantrameditation_eyesopen_eyesclosed.csv?dl=1'\n",
        "url = 'https://www.dropbox.com/s/a5uwkqaq71mkrxp/mindMonitor_2023-02-17--18-29-44_choc_intervention.csv?dl=1'\n",
        "#url = 'https://www.dropbox.com/s/pdin2ayuuybcpi0/mindMonitor_2023-02-22--08-57-17_mantra_meditation.csv?dl=1'\n",
        "#url = 'https://www.dropbox.com/s/uq60t8qy33i21dt/mindMonitor_2023-02-14--09-43-07_huberman_cyclic_breath_work.csv?dl=1'\n",
        "dfraw = pd.read_csv(url)\n",
        "\n",
        "dfraw.head()\n",
        "\n",
        "#df = dfraw[::256]"
      ]
    },
    {
      "cell_type": "code",
      "execution_count": null,
      "metadata": {
        "colab": {
          "base_uri": "https://localhost:8080/",
          "height": 241
        },
        "id": "KZBNLiMxfT9m",
        "outputId": "13cbf4ed-3591-45e2-ae25-9330cb3ccb45"
      },
      "outputs": [
        {
          "ename": "NameError",
          "evalue": "ignored",
          "output_type": "error",
          "traceback": [
            "\u001b[0;31m---------------------------------------------------------------------------\u001b[0m",
            "\u001b[0;31mNameError\u001b[0m                                 Traceback (most recent call last)",
            "\u001b[0;32m<ipython-input-1-4e98f8473498>\u001b[0m in \u001b[0;36m<cell line: 1>\u001b[0;34m()\u001b[0m\n\u001b[1;32m      4\u001b[0m   \u001b[0;36m3\u001b[0m\u001b[0;34m:\u001b[0m \u001b[0;34m'2023-02-23 08:01:50.800'\u001b[0m\u001b[0;34m,\u001b[0m\u001b[0;34m\u001b[0m\u001b[0;34m\u001b[0m\u001b[0m\n\u001b[1;32m      5\u001b[0m   4: '2023-02-23 08:01:50.800'},\n\u001b[0;32m----> 6\u001b[0;31m  'Delta_TP9': {0: np.nan,\n\u001b[0m\u001b[1;32m      7\u001b[0m   \u001b[0;36m1\u001b[0m\u001b[0;34m:\u001b[0m \u001b[0;36m0.8932789112449511\u001b[0m\u001b[0;34m,\u001b[0m\u001b[0;34m\u001b[0m\u001b[0;34m\u001b[0m\u001b[0m\n\u001b[1;32m      8\u001b[0m   \u001b[0;36m2\u001b[0m\u001b[0;34m:\u001b[0m \u001b[0;36m0.8932789112449511\u001b[0m\u001b[0;34m,\u001b[0m\u001b[0;34m\u001b[0m\u001b[0;34m\u001b[0m\u001b[0m\n",
            "\u001b[0;31mNameError\u001b[0m: name 'np' is not defined"
          ]
        }
      ],
      "source": [
        "dictionary = {'TimeStamp': {0: '2023-02-23 08:01:50.701',\n",
        "  1: '2023-02-23 08:01:50.798',\n",
        "  2: '2023-02-23 08:01:50.798',\n",
        "  3: '2023-02-23 08:01:50.800',\n",
        "  4: '2023-02-23 08:01:50.800'},\n",
        " 'Delta_TP9': {0: np.nan,\n",
        "  1: 0.8932789112449511,\n",
        "  2: 0.8932789112449511,\n",
        "  3: 0.8932789112449511,\n",
        "  4: 0.8932789112449511},\n",
        " 'Delta_AF7': {0: np.nan,\n",
        "  1: -0.062321571240896,\n",
        "  2: -0.0734485722420289,\n",
        "  3: -0.0734485722420289,\n",
        "  4: -0.0734485722420289}}\n",
        "\n",
        "dfm = pd.DataFrame.from_dict(dictionary)"
      ]
    },
    {
      "cell_type": "code",
      "execution_count": null,
      "metadata": {
        "colab": {
          "base_uri": "https://localhost:8080/"
        },
        "id": "NH69NC8bfVuD",
        "outputId": "4ea0a128-8eb0-49f2-d056-9b65853d3420"
      },
      "outputs": [
        {
          "name": "stdout",
          "output_type": "stream",
          "text": [
            "<Info | 7 non-empty values\n",
            " bads: []\n",
            " ch_names: 0\n",
            " chs: 1 misc\n",
            " custom_ref_applied: False\n",
            " highpass: 0.0 Hz\n",
            " lowpass: 128.0 Hz\n",
            " meas_date: unspecified\n",
            " nchan: 1\n",
            " projs: []\n",
            " sfreq: 256.0 Hz\n",
            ">\n",
            "Creating RawArray with float64 data, n_channels=1, n_times=35721\n",
            "    Range : 0 ... 35720 =      0.000 ...   139.531 secs\n",
            "Ready.\n"
          ]
        }
      ],
      "source": [
        "#contruct yasa and mne array\n",
        "\n",
        "# sampling_freq = 200  # in Hertz\n",
        "# n_channels = 32\n",
        "# info = mne.create_info(n_channels, sfreq=sampling_freq)\n",
        "# print(info)\n",
        "\n",
        "# data = np.array([sine, cosine])\n",
        "\n",
        "# info = mne.create_info(ch_names=['10 Hz sine', '5 Hz cosine'],\n",
        "#                        ch_types=['misc'] * 2,\n",
        "#                        sfreq=sampling_freq)\n",
        "\n",
        "\n",
        "n_channels = 1\n",
        "sampling_freq = 256  # in Hertz\n",
        "info = mne.create_info(n_channels, sfreq=sampling_freq)\n",
        "print(info)\n",
        "\n",
        "\n",
        "data = np.array(df['Delta_TP9'].to_list())\n",
        "\n",
        "data = np.atleast_2d(data)\n",
        "\n",
        "info = mne.create_info(ch_names=['rawf8'],\n",
        "                        ch_types=['eeg'],\n",
        "                        sfreq=sampling_freq)\n",
        "\n",
        "simulated_raw = mne.io.RawArray(data, info)"
      ]
    },
    {
      "cell_type": "code",
      "execution_count": null,
      "metadata": {
        "colab": {
          "base_uri": "https://localhost:8080/"
        },
        "id": "lkrghrrQYYCg",
        "outputId": "9fc1759e-47c2-47fc-aa88-d37a8d949a1a"
      },
      "outputs": [
        {
          "name": "stdout",
          "output_type": "stream",
          "text": [
            "182\n"
          ]
        }
      ],
      "source": [
        "## reduce file size\n",
        "\n",
        "df = (dfraw.select_dtypes('number')\n",
        "   .rolling(500, min_periods=1).mean()\n",
        "   .join(dfraw.select_dtypes(exclude='number'))\n",
        "   [dfraw.columns]\n",
        " )\n",
        "\n",
        "df = df[::256]\n",
        "\n",
        "print (len(df))"
      ]
    },
    {
      "cell_type": "code",
      "execution_count": null,
      "metadata": {
        "colab": {
          "base_uri": "https://localhost:8080/"
        },
        "id": "s2YQ5tqx5q0l",
        "outputId": "c984b620-63e1-4d4b-d36e-74f5dcf1afd9"
      },
      "outputs": [
        {
          "name": "stdout",
          "output_type": "stream",
          "text": [
            "93\n"
          ]
        }
      ],
      "source": [
        "\n",
        "df = (dfraw.select_dtypes('number')\n",
        "   .rolling(500, min_periods=1).mean()\n",
        "   .join(dfraw.select_dtypes(exclude='number'))\n",
        "   [dfraw.columns]\n",
        " )\n",
        "\n",
        "df = df[::500]\n",
        "\n",
        "print (len(df))"
      ]
    },
    {
      "cell_type": "code",
      "execution_count": null,
      "metadata": {
        "id": "K-mByPAW8MZX"
      },
      "outputs": [],
      "source": [
        "#norming data and ratio\n",
        "\n",
        "df['Theta_AF8_norm'] = (df['Theta_AF8']-df['Theta_AF8'].min()) / ((df['Theta_AF8'].max()-df['Theta_AF8'].min()))\n",
        "df['Beta_AF8_norm'] = (df['Beta_AF8']-df['Beta_AF8'].min()) / ((df['Beta_AF8'].max()-df['Beta_AF8'].min()))\n",
        "df['ThetaBetaRatio_AF8_norm'] = df['Theta_AF8_norm'] / df['Beta_AF8_norm']\n",
        "\n",
        "df.head(20)"
      ]
    },
    {
      "cell_type": "code",
      "execution_count": null,
      "metadata": {
        "colab": {
          "base_uri": "https://localhost:8080/",
          "height": 385
        },
        "id": "dzRx5R_1Dmdl",
        "outputId": "70f44aa8-7826-4261-a7d3-287b52a0e5db"
      },
      "outputs": [
        {
          "ename": "ModuleNotFoundError",
          "evalue": "ignored",
          "output_type": "error",
          "traceback": [
            "\u001b[0;31m---------------------------------------------------------------------------\u001b[0m",
            "\u001b[0;31mModuleNotFoundError\u001b[0m                       Traceback (most recent call last)",
            "\u001b[0;32m<ipython-input-10-d94c51069f10>\u001b[0m in \u001b[0;36m<module>\u001b[0;34m\u001b[0m\n\u001b[1;32m      1\u001b[0m \u001b[0;32mimport\u001b[0m \u001b[0mmatplotlib\u001b[0m\u001b[0;34m.\u001b[0m\u001b[0mpyplot\u001b[0m \u001b[0;32mas\u001b[0m \u001b[0mplt\u001b[0m\u001b[0;34m\u001b[0m\u001b[0;34m\u001b[0m\u001b[0m\n\u001b[1;32m      2\u001b[0m \u001b[0;32mimport\u001b[0m \u001b[0mmatplotlib\u001b[0m\u001b[0;34m.\u001b[0m\u001b[0mticker\u001b[0m \u001b[0;32mas\u001b[0m \u001b[0mticker\u001b[0m\u001b[0;34m\u001b[0m\u001b[0;34m\u001b[0m\u001b[0m\n\u001b[0;32m----> 3\u001b[0;31m \u001b[0;32mimport\u001b[0m \u001b[0mseaborn\u001b[0m\u001b[0;34m.\u001b[0m\u001b[0mapionly\u001b[0m \u001b[0;32mas\u001b[0m \u001b[0msns\u001b[0m\u001b[0;34m\u001b[0m\u001b[0;34m\u001b[0m\u001b[0m\n\u001b[0m\u001b[1;32m      4\u001b[0m \u001b[0;32mimport\u001b[0m \u001b[0mnumpy\u001b[0m \u001b[0;32mas\u001b[0m \u001b[0mnp\u001b[0m\u001b[0;34m\u001b[0m\u001b[0;34m\u001b[0m\u001b[0m\n\u001b[1;32m      5\u001b[0m \u001b[0;34m\u001b[0m\u001b[0m\n",
            "\u001b[0;31mModuleNotFoundError\u001b[0m: No module named 'seaborn.apionly'",
            "",
            "\u001b[0;31m---------------------------------------------------------------------------\u001b[0;32m\nNOTE: If your import is failing due to a missing package, you can\nmanually install dependencies using either !pip or !apt.\n\nTo view examples of installing some common dependencies, click the\n\"Open Examples\" button below.\n\u001b[0;31m---------------------------------------------------------------------------\u001b[0m\n"
          ]
        }
      ],
      "source": [
        "import matplotlib.pyplot as plt\n",
        "import matplotlib.ticker as ticker\n",
        "import seaborn.apionly as sns\n",
        "import numpy as np\n",
        "\n",
        "\n",
        "fig, ax = plt.subplots(figsize=(15, 8))\n",
        "\n",
        "ax = sns.lineplot(x='TimeStamp', y='ThetaBetaRatio_AF8_norm', data=df, ax=ax )\n",
        "\n",
        "#ax2 = sns.lineplot(x='TimeStamp', y='Gamma_AF8', data=dfraw, ax=ax)\n",
        "\n",
        "ax.set(ylim=(-1, 3))\n",
        "ax.tick_params(axis='x', rotation=45)\n",
        "ax.xaxis.set_major_locator(ticker.MultipleLocator(3000))\n"
      ]
    },
    {
      "cell_type": "code",
      "execution_count": null,
      "metadata": {
        "id": "Gi_4crEQC7sW"
      },
      "outputs": [],
      "source": [
        "df = dfraw.ilocp"
      ]
    },
    {
      "cell_type": "code",
      "execution_count": null,
      "metadata": {
        "id": "nh_q6iJeWezK"
      },
      "outputs": [],
      "source": [
        "x = dfraw.head(5)\n",
        "\n",
        "x.iloc[:,0:3].to_dict()"
      ]
    },
    {
      "cell_type": "code",
      "execution_count": null,
      "metadata": {
        "id": "eYZep8BibWkI"
      },
      "outputs": [],
      "source": [
        "dictionary = {'TimeStamp': {0: '2023-02-23 08:01:50.701',\n",
        "  1: '2023-02-23 08:01:50.798',\n",
        "  2: '2023-02-23 08:01:50.798',\n",
        "  3: '2023-02-23 08:01:50.800',\n",
        "  4: '2023-02-23 08:01:50.800'},\n",
        " 'Delta_TP9': {0: np.nan,\n",
        "  1: 0.8932789112449511,\n",
        "  2: 0.8932789112449511,\n",
        "  3: 0.8932789112449511,\n",
        "  4: 0.8932789112449511},\n",
        " 'Delta_AF7': {0: np.nan,\n",
        "  1: -0.062321571240896,\n",
        "  2: -0.0734485722420289,\n",
        "  3: -0.0734485722420289,\n",
        "  4: -0.0734485722420289}}\n",
        "\n",
        "dfm = pd.DataFrame.from_dict(dictionary)\n",
        "\n",
        "#dfm.rolling(3).mean()\n",
        "\n",
        "df.head()"
      ]
    },
    {
      "cell_type": "code",
      "execution_count": null,
      "metadata": {
        "id": "F2dMhYH15zxO"
      },
      "outputs": [],
      "source": [
        "(df.select_dtypes('number')\n",
        "   .rolling(3).mean()\n",
        "   .join(df.select_dtypes(exclude='number'))\n",
        "   [df.columns]\n",
        " )"
      ]
    },
    {
      "cell_type": "code",
      "execution_count": null,
      "metadata": {
        "id": "7HrSQvm-6Hd2"
      },
      "outputs": [],
      "source": [
        "df.select_dtypes(exclude='number')[df.columns]"
      ]
    },
    {
      "cell_type": "code",
      "execution_count": null,
      "metadata": {
        "id": "rf6gxQxeTIG_"
      },
      "outputs": [],
      "source": [
        "dfsec = df.rolling(256, min_periods=1).mean()\n",
        "dfsec.head()\n",
        "#dfs = dfsec.iloc[::30, :]\n",
        "\n",
        "df.index"
      ]
    },
    {
      "cell_type": "code",
      "execution_count": null,
      "metadata": {
        "id": "clPjpy_8Ub1R"
      },
      "outputs": [],
      "source": [
        "df_time = pd.DataFrame({'B': [0, 1, 2, np.nan, 4]},\n",
        "                       index = [pd.Timestamp('20130101 09:00:00'),\n",
        "                                pd.Timestamp('20130101 09:00:02'),\n",
        "                                pd.Timestamp('20130101 09:00:03'),\n",
        "                                pd.Timestamp('20130101 09:00:05'),\n",
        "                                pd.Timestamp('20130101 09:00:06')])\n",
        "\n",
        "\n",
        "df_time.rolling(2, min_periods=1).mean()"
      ]
    },
    {
      "cell_type": "code",
      "execution_count": null,
      "metadata": {
        "id": "oUdylvksf-kT"
      },
      "outputs": [],
      "source": [
        "import pandas as pd\n",
        "import matplotlib.pyplot as plt\n",
        "\n",
        "x = [1, 2, 3, 4, 5, 6, 7, 8, 9, 10]\n",
        "y = [0.301, 0.477, 0.602, 0.699, 0.778, 0.845, 0.903, 0.954, 1.000, 1.044]\n",
        "\n",
        "df = pd.DataFrame({\"X\" : x, \"Log2\" : y})\n",
        "\n",
        "df.plot(x=\"X\", y=\"Log2\")\n",
        "plt.title(\"Log2 graph\")\n",
        "plt.show()"
      ]
    },
    {
      "cell_type": "code",
      "execution_count": null,
      "metadata": {
        "id": "y_5OJvTGe8Qg"
      },
      "outputs": [],
      "source": []
    },
    {
      "cell_type": "markdown",
      "metadata": {
        "id": "SRDBV0cwmidt"
      },
      "source": [
        "### live streaming"
      ]
    }
  ],
  "metadata": {
    "colab": {
      "collapsed_sections": [
        "roE6nqPD7o24",
        "uIBRr19cYGpD"
      ],
      "include_colab_link": true,
      "provenance": []
    },
    "kernelspec": {
      "display_name": "Python 3",
      "name": "python3"
    },
    "language_info": {
      "codemirror_mode": {
        "name": "ipython",
        "version": 3
      },
      "file_extension": ".py",
      "mimetype": "text/x-python",
      "name": "python",
      "nbconvert_exporter": "python",
      "pygments_lexer": "ipython3",
      "version": "3.10.4"
    }
  },
  "nbformat": 4,
  "nbformat_minor": 0
}
